{
 "cells": [
  {
   "cell_type": "code",
   "execution_count": 15,
   "id": "48a0d529-ef70-4d98-811c-6e0520315b75",
   "metadata": {},
   "outputs": [],
   "source": [
    "base_path = \"/root/data/diffusion_pipe_training_runs/wan_video/20250530_17-26-03\""
   ]
  },
  {
   "cell_type": "code",
   "execution_count": 16,
   "id": "956b535a-c352-484b-b033-731de35920eb",
   "metadata": {},
   "outputs": [],
   "source": [
    "repoid = \"godmodeai_wan_hadoukenv2\""
   ]
  },
  {
   "cell_type": "code",
   "execution_count": 6,
   "id": "04f2d750-5e51-4e3d-9dc2-2ff7e6372e05",
   "metadata": {},
   "outputs": [
    {
     "name": "stdout",
     "output_type": "stream",
     "text": [
      "Successfully created \u001b[1mlyogavin/godmodeai_wan_hadouken\u001b[0m on the Hub.\n",
      "Your repo is now available at \u001b[1mhttps://huggingface.co/lyogavin/godmodeai_wan_hadouken\u001b[0m\n"
     ]
    }
   ],
   "source": [
    "!huggingface-cli repo create --private lyogavin/{repoid} "
   ]
  },
  {
   "cell_type": "code",
   "execution_count": 20,
   "id": "178ebc78-f5fe-4e92-b1b0-f0129dae1589",
   "metadata": {},
   "outputs": [
    {
     "name": "stderr",
     "output_type": "stream",
     "text": [
      "  0%|          | 0/79 [00:00<?, ?it/s]"
     ]
    },
    {
     "name": "stdout",
     "output_type": "stream",
     "text": [
      "Start hashing 3 files.\n",
      "Finished hashing 3 files.\n",
      "adapter_model.safetensors: 100%|█████████████| 307M/307M [00:12<00:00, 25.2MB/s]\n",
      "https://huggingface.co/lyogavin/godmodeai_wan_hadoukenv2/tree/main/epoch285\n"
     ]
    },
    {
     "name": "stderr",
     "output_type": "stream",
     "text": [
      " 72%|███████▏  | 57/79 [00:14<00:05,  3.82it/s]"
     ]
    },
    {
     "name": "stdout",
     "output_type": "stream",
     "text": [
      "Start hashing 3 files.\n",
      "Finished hashing 3 files.\n",
      "adapter_model.safetensors: 100%|█████████████| 307M/307M [00:11<00:00, 27.4MB/s]\n",
      "https://huggingface.co/lyogavin/godmodeai_wan_hadoukenv2/tree/main/epoch290\n"
     ]
    },
    {
     "name": "stderr",
     "output_type": "stream",
     "text": [
      " 73%|███████▎  | 58/79 [00:28<00:12,  1.71it/s]"
     ]
    },
    {
     "name": "stdout",
     "output_type": "stream",
     "text": [
      "Start hashing 3 files.\n",
      "Finished hashing 3 files.\n",
      "adapter_model.safetensors: 100%|█████████████| 307M/307M [00:10<00:00, 28.1MB/s]\n",
      "https://huggingface.co/lyogavin/godmodeai_wan_hadoukenv2/tree/main/epoch295\n"
     ]
    },
    {
     "name": "stderr",
     "output_type": "stream",
     "text": [
      " 75%|███████▍  | 59/79 [00:43<00:21,  1.07s/it]"
     ]
    },
    {
     "name": "stdout",
     "output_type": "stream",
     "text": [
      "Start hashing 3 files.\n",
      "Finished hashing 3 files.\n",
      "adapter_model.safetensors: 100%|█████████████| 307M/307M [00:12<00:00, 24.9MB/s]\n",
      "https://huggingface.co/lyogavin/godmodeai_wan_hadoukenv2/tree/main/epoch300\n"
     ]
    },
    {
     "name": "stderr",
     "output_type": "stream",
     "text": [
      " 76%|███████▌  | 60/79 [00:59<00:33,  1.78s/it]"
     ]
    },
    {
     "name": "stdout",
     "output_type": "stream",
     "text": [
      "Start hashing 3 files.\n",
      "Finished hashing 3 files.\n",
      "adapter_model.safetensors: 100%|█████████████| 307M/307M [00:11<00:00, 25.9MB/s]\n",
      "https://huggingface.co/lyogavin/godmodeai_wan_hadoukenv2/tree/main/epoch305\n"
     ]
    },
    {
     "name": "stderr",
     "output_type": "stream",
     "text": [
      " 77%|███████▋  | 61/79 [01:15<00:46,  2.61s/it]"
     ]
    },
    {
     "name": "stdout",
     "output_type": "stream",
     "text": [
      "Start hashing 3 files.\n",
      "Finished hashing 3 files.\n",
      "adapter_model.safetensors: 100%|█████████████| 307M/307M [00:11<00:00, 26.4MB/s]\n",
      "https://huggingface.co/lyogavin/godmodeai_wan_hadoukenv2/tree/main/epoch310\n"
     ]
    },
    {
     "name": "stderr",
     "output_type": "stream",
     "text": [
      " 78%|███████▊  | 62/79 [01:29<01:00,  3.54s/it]"
     ]
    },
    {
     "name": "stdout",
     "output_type": "stream",
     "text": [
      "Start hashing 3 files.\n",
      "Finished hashing 3 files.\n",
      "adapter_model.safetensors: 100%|█████████████| 307M/307M [00:19<00:00, 15.6MB/s]\n",
      "https://huggingface.co/lyogavin/godmodeai_wan_hadoukenv2/tree/main/epoch315\n"
     ]
    },
    {
     "name": "stderr",
     "output_type": "stream",
     "text": [
      " 80%|███████▉  | 63/79 [01:52<01:29,  5.61s/it]"
     ]
    },
    {
     "name": "stdout",
     "output_type": "stream",
     "text": [
      "Start hashing 3 files.\n",
      "Finished hashing 3 files.\n",
      "adapter_model.safetensors: 100%|█████████████| 307M/307M [00:12<00:00, 24.7MB/s]\n",
      "https://huggingface.co/lyogavin/godmodeai_wan_hadoukenv2/tree/main/epoch320\n"
     ]
    },
    {
     "name": "stderr",
     "output_type": "stream",
     "text": [
      " 81%|████████  | 64/79 [02:07<01:42,  6.82s/it]"
     ]
    },
    {
     "name": "stdout",
     "output_type": "stream",
     "text": [
      "Start hashing 3 files.\n",
      "Finished hashing 3 files.\n",
      "adapter_model.safetensors: 100%|█████████████| 307M/307M [00:13<00:00, 23.0MB/s]\n",
      "https://huggingface.co/lyogavin/godmodeai_wan_hadoukenv2/tree/main/epoch325\n"
     ]
    },
    {
     "name": "stderr",
     "output_type": "stream",
     "text": [
      " 82%|████████▏ | 65/79 [02:23<01:54,  8.19s/it]"
     ]
    },
    {
     "name": "stdout",
     "output_type": "stream",
     "text": [
      "Start hashing 3 files.\n",
      "Finished hashing 3 files.\n",
      "adapter_model.safetensors: 100%|█████████████| 307M/307M [00:12<00:00, 24.4MB/s]\n",
      "https://huggingface.co/lyogavin/godmodeai_wan_hadoukenv2/tree/main/epoch330\n"
     ]
    },
    {
     "name": "stderr",
     "output_type": "stream",
     "text": [
      " 84%|████████▎ | 66/79 [02:38<02:03,  9.49s/it]"
     ]
    },
    {
     "name": "stdout",
     "output_type": "stream",
     "text": [
      "Start hashing 3 files.\n",
      "Finished hashing 3 files.\n",
      "adapter_model.safetensors: 100%|█████████████| 307M/307M [00:12<00:00, 24.3MB/s]\n",
      "https://huggingface.co/lyogavin/godmodeai_wan_hadoukenv2/tree/main/epoch335\n"
     ]
    },
    {
     "name": "stderr",
     "output_type": "stream",
     "text": [
      " 85%|████████▍ | 67/79 [02:53<02:07, 10.63s/it]"
     ]
    },
    {
     "name": "stdout",
     "output_type": "stream",
     "text": [
      "Start hashing 3 files.\n",
      "Finished hashing 3 files.\n",
      "adapter_model.safetensors: 100%|█████████████| 307M/307M [00:13<00:00, 23.0MB/s]\n",
      "https://huggingface.co/lyogavin/godmodeai_wan_hadoukenv2/tree/main/epoch340\n"
     ]
    },
    {
     "name": "stderr",
     "output_type": "stream",
     "text": [
      " 86%|████████▌ | 68/79 [03:09<02:09, 11.79s/it]"
     ]
    },
    {
     "name": "stdout",
     "output_type": "stream",
     "text": [
      "Start hashing 3 files.\n",
      "Finished hashing 3 files.\n",
      "adapter_model.safetensors: 100%|█████████████| 307M/307M [00:10<00:00, 28.7MB/s]\n",
      "https://huggingface.co/lyogavin/godmodeai_wan_hadoukenv2/tree/main/epoch345\n"
     ]
    },
    {
     "name": "stderr",
     "output_type": "stream",
     "text": [
      " 87%|████████▋ | 69/79 [03:22<02:01, 12.19s/it]"
     ]
    },
    {
     "name": "stdout",
     "output_type": "stream",
     "text": [
      "Start hashing 3 files.\n",
      "Finished hashing 3 files.\n",
      "adapter_model.safetensors: 100%|█████████████| 307M/307M [00:14<00:00, 20.9MB/s]\n",
      "https://huggingface.co/lyogavin/godmodeai_wan_hadoukenv2/tree/main/epoch350\n"
     ]
    },
    {
     "name": "stderr",
     "output_type": "stream",
     "text": [
      " 89%|████████▊ | 70/79 [03:40<02:03, 13.68s/it]"
     ]
    },
    {
     "name": "stdout",
     "output_type": "stream",
     "text": [
      "Start hashing 3 files.\n",
      "Finished hashing 3 files.\n",
      "adapter_model.safetensors: 100%|█████████████| 307M/307M [00:15<00:00, 19.3MB/s]\n",
      "https://huggingface.co/lyogavin/godmodeai_wan_hadoukenv2/tree/main/epoch355\n"
     ]
    },
    {
     "name": "stderr",
     "output_type": "stream",
     "text": [
      " 90%|████████▉ | 71/79 [03:59<01:59, 14.96s/it]"
     ]
    },
    {
     "name": "stdout",
     "output_type": "stream",
     "text": [
      "Start hashing 3 files.\n",
      "Finished hashing 3 files.\n",
      "adapter_model.safetensors: 100%|█████████████| 307M/307M [00:11<00:00, 27.2MB/s]\n",
      "https://huggingface.co/lyogavin/godmodeai_wan_hadoukenv2/tree/main/epoch360\n"
     ]
    },
    {
     "name": "stderr",
     "output_type": "stream",
     "text": [
      " 91%|█████████ | 72/79 [04:13<01:42, 14.71s/it]"
     ]
    },
    {
     "name": "stdout",
     "output_type": "stream",
     "text": [
      "Start hashing 3 files.\n",
      "Finished hashing 3 files.\n",
      "adapter_model.safetensors: 100%|█████████████| 307M/307M [00:11<00:00, 25.9MB/s]\n",
      "https://huggingface.co/lyogavin/godmodeai_wan_hadoukenv2/tree/main/epoch365\n"
     ]
    },
    {
     "name": "stderr",
     "output_type": "stream",
     "text": [
      " 92%|█████████▏| 73/79 [04:28<01:29, 14.93s/it]"
     ]
    },
    {
     "name": "stdout",
     "output_type": "stream",
     "text": [
      "Start hashing 3 files.\n",
      "Finished hashing 3 files.\n",
      "adapter_model.safetensors: 100%|█████████████| 307M/307M [00:12<00:00, 24.0MB/s]\n",
      "https://huggingface.co/lyogavin/godmodeai_wan_hadoukenv2/tree/main/epoch370\n"
     ]
    },
    {
     "name": "stderr",
     "output_type": "stream",
     "text": [
      " 94%|█████████▎| 74/79 [04:44<01:15, 15.08s/it]"
     ]
    },
    {
     "name": "stdout",
     "output_type": "stream",
     "text": [
      "Start hashing 3 files.\n",
      "Finished hashing 3 files.\n",
      "adapter_model.safetensors: 100%|█████████████| 307M/307M [00:11<00:00, 26.2MB/s]\n",
      "https://huggingface.co/lyogavin/godmodeai_wan_hadoukenv2/tree/main/epoch375\n"
     ]
    },
    {
     "name": "stderr",
     "output_type": "stream",
     "text": [
      " 95%|█████████▍| 75/79 [05:01<01:02, 15.64s/it]"
     ]
    },
    {
     "name": "stdout",
     "output_type": "stream",
     "text": [
      "Start hashing 3 files.\n",
      "Finished hashing 3 files.\n",
      "adapter_model.safetensors: 100%|█████████████| 307M/307M [00:11<00:00, 26.0MB/s]\n",
      "https://huggingface.co/lyogavin/godmodeai_wan_hadoukenv2/tree/main/epoch380\n"
     ]
    },
    {
     "name": "stderr",
     "output_type": "stream",
     "text": [
      " 96%|█████████▌| 76/79 [05:15<00:45, 15.19s/it]"
     ]
    },
    {
     "name": "stdout",
     "output_type": "stream",
     "text": [
      "Start hashing 3 files.\n",
      "Finished hashing 3 files.\n",
      "adapter_model.safetensors: 100%|█████████████| 307M/307M [00:11<00:00, 27.1MB/s]\n",
      "https://huggingface.co/lyogavin/godmodeai_wan_hadoukenv2/tree/main/epoch385\n"
     ]
    },
    {
     "name": "stderr",
     "output_type": "stream",
     "text": [
      " 97%|█████████▋| 77/79 [05:29<00:29, 14.76s/it]"
     ]
    },
    {
     "name": "stdout",
     "output_type": "stream",
     "text": [
      "Start hashing 3 files.\n",
      "Finished hashing 3 files.\n",
      "adapter_model.safetensors: 100%|█████████████| 307M/307M [00:11<00:00, 27.0MB/s]\n",
      "https://huggingface.co/lyogavin/godmodeai_wan_hadoukenv2/tree/main/epoch390\n"
     ]
    },
    {
     "name": "stderr",
     "output_type": "stream",
     "text": [
      " 99%|█████████▊| 78/79 [05:46<00:15, 15.61s/it]"
     ]
    },
    {
     "name": "stdout",
     "output_type": "stream",
     "text": [
      "Start hashing 3 files.\n",
      "Finished hashing 3 files.\n",
      "adapter_model.safetensors: 100%|█████████████| 307M/307M [00:17<00:00, 18.0MB/s]\n",
      "https://huggingface.co/lyogavin/godmodeai_wan_hadoukenv2/tree/main/epoch395\n"
     ]
    },
    {
     "name": "stderr",
     "output_type": "stream",
     "text": [
      "100%|██████████| 79/79 [06:06<00:00,  4.64s/it]\n"
     ]
    }
   ],
   "source": [
    "from glob import glob\n",
    "from tqdm import tqdm\n",
    "\n",
    "\n",
    "start_epoch = 285\n",
    "\n",
    "end_epoch = None\n",
    "\n",
    "\n",
    "\n",
    "for f in tqdm(glob(f\"{base_path}/epoch*\")):\n",
    "    #print(f)\n",
    "    #continue\n",
    "    num = f.split(\"/\")[-1].replace(\"epoch\",\"\")\n",
    "    num = int(num)\n",
    "    # print(num)\n",
    "    if num >= start_epoch and (end_epoch is None or num <= end_epoch):\n",
    "        !huggingface-cli upload lyogavin/{repoid}  {f} epoch{num}"
   ]
  },
  {
   "cell_type": "markdown",
   "id": "615a382b-947d-4fa3-b2e6-f4a784e76467",
   "metadata": {},
   "source": [
    "# for spinning kick"
   ]
  },
  {
   "cell_type": "code",
   "execution_count": 21,
   "id": "13069dc1-ce82-4370-9c6d-fe254b33a1b7",
   "metadata": {},
   "outputs": [],
   "source": [
    "base_path = \"/root/data/diffusion_pipe_training_runs/wan_video/20250530_22-55-15\""
   ]
  },
  {
   "cell_type": "code",
   "execution_count": null,
   "id": "55608d56-32ac-47c2-bd38-ab7a0a9c7c3c",
   "metadata": {},
   "outputs": [],
   "source": []
  },
  {
   "cell_type": "code",
   "execution_count": 22,
   "id": "5bbdb2e6-78b4-4048-8eab-de88f4e30658",
   "metadata": {},
   "outputs": [],
   "source": [
    "repoid = \"godmodeai_wan_spinningkick\""
   ]
  },
  {
   "cell_type": "code",
   "execution_count": 23,
   "id": "b27f0014-cde0-4feb-9f17-308dff11306d",
   "metadata": {},
   "outputs": [
    {
     "name": "stdout",
     "output_type": "stream",
     "text": [
      "Successfully created \u001b[1mlyogavin/godmodeai_wan_spinningkick\u001b[0m on the Hub.\n",
      "Your repo is now available at \u001b[1mhttps://huggingface.co/lyogavin/godmodeai_wan_spinningkick\u001b[0m\n"
     ]
    }
   ],
   "source": [
    "!huggingface-cli repo create --private lyogavin/{repoid} "
   ]
  },
  {
   "cell_type": "code",
   "execution_count": 24,
   "id": "ce5d8df9-c3c8-4ed4-87b5-74f971391877",
   "metadata": {
    "collapsed": true,
    "jupyter": {
     "outputs_hidden": true
    }
   },
   "outputs": [
    {
     "name": "stderr",
     "output_type": "stream",
     "text": [
      "  0%|          | 0/94 [00:00<?, ?it/s]"
     ]
    },
    {
     "name": "stdout",
     "output_type": "stream",
     "text": [
      "Start hashing 3 files.\n",
      "Finished hashing 3 files.\n",
      "adapter_model.safetensors: 100%|█████████████| 307M/307M [00:12<00:00, 24.5MB/s]\n",
      "https://huggingface.co/lyogavin/godmodeai_wan_spinningkick/tree/main/epoch170\n"
     ]
    },
    {
     "name": "stderr",
     "output_type": "stream",
     "text": [
      " 36%|███▌      | 34/94 [00:15<00:26,  2.26it/s]"
     ]
    },
    {
     "name": "stdout",
     "output_type": "stream",
     "text": [
      "Start hashing 3 files.\n",
      "Finished hashing 3 files.\n",
      "adapter_model.safetensors: 100%|█████████████| 307M/307M [00:13<00:00, 23.3MB/s]\n",
      "https://huggingface.co/lyogavin/godmodeai_wan_spinningkick/tree/main/epoch175\n"
     ]
    },
    {
     "name": "stderr",
     "output_type": "stream",
     "text": [
      " 37%|███▋      | 35/94 [00:31<01:03,  1.07s/it]"
     ]
    },
    {
     "name": "stdout",
     "output_type": "stream",
     "text": [
      "Start hashing 3 files.\n",
      "Finished hashing 3 files.\n",
      "adapter_model.safetensors: 100%|█████████████| 307M/307M [00:14<00:00, 21.2MB/s]\n",
      "https://huggingface.co/lyogavin/godmodeai_wan_spinningkick/tree/main/epoch180\n"
     ]
    },
    {
     "name": "stderr",
     "output_type": "stream",
     "text": [
      " 38%|███▊      | 36/94 [00:50<02:00,  2.07s/it]"
     ]
    },
    {
     "name": "stdout",
     "output_type": "stream",
     "text": [
      "Start hashing 3 files.\n",
      "Finished hashing 3 files.\n",
      "adapter_model.safetensors: 100%|█████████████| 307M/307M [00:13<00:00, 23.2MB/s]\n",
      "https://huggingface.co/lyogavin/godmodeai_wan_spinningkick/tree/main/epoch185\n"
     ]
    },
    {
     "name": "stderr",
     "output_type": "stream",
     "text": [
      " 39%|███▉      | 37/94 [01:06<02:53,  3.05s/it]"
     ]
    },
    {
     "name": "stdout",
     "output_type": "stream",
     "text": [
      "Start hashing 3 files.\n",
      "Finished hashing 3 files.\n",
      "adapter_model.safetensors: 100%|█████████████| 307M/307M [00:14<00:00, 21.4MB/s]\n",
      "https://huggingface.co/lyogavin/godmodeai_wan_spinningkick/tree/main/epoch190\n"
     ]
    },
    {
     "name": "stderr",
     "output_type": "stream",
     "text": [
      " 40%|████      | 38/94 [01:27<04:29,  4.81s/it]"
     ]
    },
    {
     "name": "stdout",
     "output_type": "stream",
     "text": [
      "Start hashing 3 files.\n",
      "Finished hashing 3 files.\n",
      "adapter_model.safetensors: 100%|█████████████| 307M/307M [00:12<00:00, 24.2MB/s]\n",
      "https://huggingface.co/lyogavin/godmodeai_wan_spinningkick/tree/main/epoch195\n"
     ]
    },
    {
     "name": "stderr",
     "output_type": "stream",
     "text": [
      " 41%|████▏     | 39/94 [01:43<05:35,  6.09s/it]"
     ]
    },
    {
     "name": "stdout",
     "output_type": "stream",
     "text": [
      "Start hashing 3 files.\n",
      "Finished hashing 3 files.\n",
      "adapter_model.safetensors: 100%|█████████████| 307M/307M [00:12<00:00, 24.4MB/s]\n",
      "https://huggingface.co/lyogavin/godmodeai_wan_spinningkick/tree/main/epoch200\n"
     ]
    },
    {
     "name": "stderr",
     "output_type": "stream",
     "text": [
      " 43%|████▎     | 40/94 [01:58<06:40,  7.41s/it]"
     ]
    },
    {
     "name": "stdout",
     "output_type": "stream",
     "text": [
      "Start hashing 3 files.\n",
      "Finished hashing 3 files.\n",
      "adapter_model.safetensors: 100%|█████████████| 307M/307M [00:13<00:00, 23.3MB/s]\n",
      "https://huggingface.co/lyogavin/godmodeai_wan_spinningkick/tree/main/epoch205\n"
     ]
    },
    {
     "name": "stderr",
     "output_type": "stream",
     "text": [
      " 44%|████▎     | 41/94 [02:16<08:02,  9.10s/it]"
     ]
    },
    {
     "name": "stdout",
     "output_type": "stream",
     "text": [
      "Start hashing 3 files.\n",
      "Finished hashing 3 files.\n",
      "adapter_model.safetensors: 100%|█████████████| 307M/307M [00:13<00:00, 23.3MB/s]\n",
      "https://huggingface.co/lyogavin/godmodeai_wan_spinningkick/tree/main/epoch210\n"
     ]
    },
    {
     "name": "stderr",
     "output_type": "stream",
     "text": [
      " 45%|████▍     | 42/94 [02:39<10:17, 11.87s/it]"
     ]
    },
    {
     "name": "stdout",
     "output_type": "stream",
     "text": [
      "Start hashing 3 files.\n",
      "Finished hashing 3 files.\n",
      "adapter_model.safetensors: 100%|█████████████| 307M/307M [00:16<00:00, 18.2MB/s]\n",
      "https://huggingface.co/lyogavin/godmodeai_wan_spinningkick/tree/main/epoch215\n"
     ]
    },
    {
     "name": "stderr",
     "output_type": "stream",
     "text": [
      " 46%|████▌     | 43/94 [03:01<11:57, 14.06s/it]"
     ]
    },
    {
     "name": "stdout",
     "output_type": "stream",
     "text": [
      "Start hashing 3 files.\n",
      "Finished hashing 3 files.\n",
      "adapter_model.safetensors: 100%|█████████████| 307M/307M [00:12<00:00, 25.2MB/s]\n",
      "https://huggingface.co/lyogavin/godmodeai_wan_spinningkick/tree/main/epoch220\n"
     ]
    },
    {
     "name": "stderr",
     "output_type": "stream",
     "text": [
      " 47%|████▋     | 44/94 [03:17<12:08, 14.56s/it]"
     ]
    },
    {
     "name": "stdout",
     "output_type": "stream",
     "text": [
      "Start hashing 3 files.\n",
      "Finished hashing 3 files.\n",
      "adapter_model.safetensors: 100%|█████████████| 307M/307M [00:14<00:00, 21.5MB/s]\n",
      "https://huggingface.co/lyogavin/godmodeai_wan_spinningkick/tree/main/epoch225\n"
     ]
    },
    {
     "name": "stderr",
     "output_type": "stream",
     "text": [
      " 48%|████▊     | 45/94 [03:34<12:19, 15.08s/it]"
     ]
    },
    {
     "name": "stdout",
     "output_type": "stream",
     "text": [
      "Start hashing 3 files.\n",
      "Finished hashing 3 files.\n",
      "adapter_model.safetensors: 100%|█████████████| 307M/307M [00:13<00:00, 22.2MB/s]\n",
      "https://huggingface.co/lyogavin/godmodeai_wan_spinningkick/tree/main/epoch230\n"
     ]
    },
    {
     "name": "stderr",
     "output_type": "stream",
     "text": [
      " 49%|████▉     | 46/94 [03:54<13:13, 16.54s/it]"
     ]
    },
    {
     "name": "stdout",
     "output_type": "stream",
     "text": [
      "Start hashing 3 files.\n",
      "Finished hashing 3 files.\n",
      "adapter_model.safetensors: 100%|█████████████| 307M/307M [00:14<00:00, 21.3MB/s]\n",
      "https://huggingface.co/lyogavin/godmodeai_wan_spinningkick/tree/main/epoch235\n"
     ]
    },
    {
     "name": "stderr",
     "output_type": "stream",
     "text": [
      " 50%|█████     | 47/94 [04:28<16:35, 21.18s/it]"
     ]
    },
    {
     "name": "stdout",
     "output_type": "stream",
     "text": [
      "Start hashing 3 files.\n",
      "Finished hashing 3 files.\n",
      "adapter_model.safetensors: 100%|█████████████| 307M/307M [00:12<00:00, 24.7MB/s]\n",
      "https://huggingface.co/lyogavin/godmodeai_wan_spinningkick/tree/main/epoch240\n"
     ]
    },
    {
     "name": "stderr",
     "output_type": "stream",
     "text": [
      " 51%|█████     | 48/94 [04:43<15:00, 19.58s/it]"
     ]
    },
    {
     "name": "stdout",
     "output_type": "stream",
     "text": [
      "Start hashing 3 files.\n",
      "Finished hashing 3 files.\n",
      "adapter_model.safetensors: 100%|█████████████| 307M/307M [00:13<00:00, 23.1MB/s]\n",
      "https://huggingface.co/lyogavin/godmodeai_wan_spinningkick/tree/main/epoch245\n"
     ]
    },
    {
     "name": "stderr",
     "output_type": "stream",
     "text": [
      " 52%|█████▏    | 49/94 [04:59<13:48, 18.41s/it]"
     ]
    },
    {
     "name": "stdout",
     "output_type": "stream",
     "text": [
      "Start hashing 3 files.\n",
      "Finished hashing 3 files.\n",
      "adapter_model.safetensors: 100%|█████████████| 307M/307M [00:12<00:00, 24.8MB/s]\n",
      "https://huggingface.co/lyogavin/godmodeai_wan_spinningkick/tree/main/epoch250\n"
     ]
    },
    {
     "name": "stderr",
     "output_type": "stream",
     "text": [
      " 53%|█████▎    | 50/94 [05:16<13:14, 18.05s/it]"
     ]
    },
    {
     "name": "stdout",
     "output_type": "stream",
     "text": [
      "Start hashing 3 files.\n",
      "Finished hashing 3 files.\n",
      "adapter_model.safetensors: 100%|█████████████| 307M/307M [00:12<00:00, 24.1MB/s]\n",
      "https://huggingface.co/lyogavin/godmodeai_wan_spinningkick/tree/main/epoch255\n"
     ]
    },
    {
     "name": "stderr",
     "output_type": "stream",
     "text": [
      " 54%|█████▍    | 51/94 [05:31<12:22, 17.27s/it]"
     ]
    },
    {
     "name": "stdout",
     "output_type": "stream",
     "text": [
      "Start hashing 3 files.\n",
      "Finished hashing 3 files.\n",
      "adapter_model.safetensors: 100%|█████████████| 307M/307M [00:11<00:00, 26.0MB/s]\n",
      "https://huggingface.co/lyogavin/godmodeai_wan_spinningkick/tree/main/epoch260\n"
     ]
    },
    {
     "name": "stderr",
     "output_type": "stream",
     "text": [
      " 55%|█████▌    | 52/94 [05:46<11:33, 16.52s/it]"
     ]
    },
    {
     "name": "stdout",
     "output_type": "stream",
     "text": [
      "Start hashing 3 files.\n",
      "Finished hashing 3 files.\n",
      "adapter_model.safetensors: 100%|█████████████| 307M/307M [00:13<00:00, 22.3MB/s]\n",
      "https://huggingface.co/lyogavin/godmodeai_wan_spinningkick/tree/main/epoch265\n"
     ]
    },
    {
     "name": "stderr",
     "output_type": "stream",
     "text": [
      " 56%|█████▋    | 53/94 [06:02<11:12, 16.40s/it]"
     ]
    },
    {
     "name": "stdout",
     "output_type": "stream",
     "text": [
      "Start hashing 3 files.\n",
      "Finished hashing 3 files.\n",
      "adapter_model.safetensors: 100%|█████████████| 307M/307M [00:12<00:00, 25.4MB/s]\n",
      "https://huggingface.co/lyogavin/godmodeai_wan_spinningkick/tree/main/epoch270\n"
     ]
    },
    {
     "name": "stderr",
     "output_type": "stream",
     "text": [
      " 57%|█████▋    | 54/94 [06:17<10:36, 15.92s/it]"
     ]
    },
    {
     "name": "stdout",
     "output_type": "stream",
     "text": [
      "Start hashing 3 files.\n",
      "Finished hashing 3 files.\n",
      "adapter_model.safetensors: 100%|█████████████| 307M/307M [00:13<00:00, 22.9MB/s]\n",
      "https://huggingface.co/lyogavin/godmodeai_wan_spinningkick/tree/main/epoch275\n"
     ]
    },
    {
     "name": "stderr",
     "output_type": "stream",
     "text": [
      " 59%|█████▊    | 55/94 [06:38<11:27, 17.63s/it]"
     ]
    },
    {
     "name": "stdout",
     "output_type": "stream",
     "text": [
      "Start hashing 3 files.\n",
      "Finished hashing 3 files.\n",
      "adapter_model.safetensors: 100%|█████████████| 307M/307M [00:15<00:00, 20.3MB/s]\n",
      "https://huggingface.co/lyogavin/godmodeai_wan_spinningkick/tree/main/epoch280\n"
     ]
    },
    {
     "name": "stderr",
     "output_type": "stream",
     "text": [
      " 60%|█████▉    | 56/94 [07:08<13:22, 21.11s/it]"
     ]
    },
    {
     "name": "stdout",
     "output_type": "stream",
     "text": [
      "Start hashing 3 files.\n",
      "Finished hashing 3 files.\n",
      "adapter_model.safetensors: 100%|█████████████| 307M/307M [00:13<00:00, 23.4MB/s]\n",
      "https://huggingface.co/lyogavin/godmodeai_wan_spinningkick/tree/main/epoch285\n"
     ]
    },
    {
     "name": "stderr",
     "output_type": "stream",
     "text": [
      " 61%|██████    | 57/94 [07:27<12:42, 20.61s/it]"
     ]
    },
    {
     "name": "stdout",
     "output_type": "stream",
     "text": [
      "Start hashing 3 files.\n",
      "Finished hashing 3 files.\n",
      "adapter_model.safetensors: 100%|█████████████| 307M/307M [00:16<00:00, 18.7MB/s]\n",
      "https://huggingface.co/lyogavin/godmodeai_wan_spinningkick/tree/main/epoch290\n"
     ]
    },
    {
     "name": "stderr",
     "output_type": "stream",
     "text": [
      " 62%|██████▏   | 58/94 [07:46<12:03, 20.09s/it]"
     ]
    },
    {
     "name": "stdout",
     "output_type": "stream",
     "text": [
      "Start hashing 3 files.\n",
      "Finished hashing 3 files.\n",
      "adapter_model.safetensors: 100%|█████████████| 307M/307M [00:14<00:00, 20.9MB/s]\n",
      "https://huggingface.co/lyogavin/godmodeai_wan_spinningkick/tree/main/epoch295\n"
     ]
    },
    {
     "name": "stderr",
     "output_type": "stream",
     "text": [
      " 63%|██████▎   | 59/94 [08:11<12:29, 21.42s/it]"
     ]
    },
    {
     "name": "stdout",
     "output_type": "stream",
     "text": [
      "Start hashing 3 files.\n",
      "Finished hashing 3 files.\n",
      "adapter_model.safetensors: 100%|█████████████| 307M/307M [00:15<00:00, 19.2MB/s]\n",
      "https://huggingface.co/lyogavin/godmodeai_wan_spinningkick/tree/main/epoch300\n"
     ]
    },
    {
     "name": "stderr",
     "output_type": "stream",
     "text": [
      " 64%|██████▍   | 60/94 [08:29<11:38, 20.56s/it]"
     ]
    },
    {
     "name": "stdout",
     "output_type": "stream",
     "text": [
      "Start hashing 3 files.\n",
      "Finished hashing 3 files.\n",
      "adapter_model.safetensors: 100%|█████████████| 307M/307M [00:09<00:00, 33.3MB/s]\n",
      "https://huggingface.co/lyogavin/godmodeai_wan_spinningkick/tree/main/epoch305\n"
     ]
    },
    {
     "name": "stderr",
     "output_type": "stream",
     "text": [
      " 65%|██████▍   | 61/94 [08:41<09:51, 17.94s/it]"
     ]
    },
    {
     "name": "stdout",
     "output_type": "stream",
     "text": [
      "Start hashing 3 files.\n",
      "Finished hashing 3 files.\n",
      "adapter_model.safetensors: 100%|█████████████| 307M/307M [00:13<00:00, 23.2MB/s]\n",
      "https://huggingface.co/lyogavin/godmodeai_wan_spinningkick/tree/main/epoch310\n"
     ]
    },
    {
     "name": "stderr",
     "output_type": "stream",
     "text": [
      " 66%|██████▌   | 62/94 [08:58<09:26, 17.70s/it]"
     ]
    },
    {
     "name": "stdout",
     "output_type": "stream",
     "text": [
      "Start hashing 3 files.\n",
      "Finished hashing 3 files.\n",
      "adapter_model.safetensors: 100%|█████████████| 307M/307M [00:11<00:00, 25.9MB/s]\n",
      "https://huggingface.co/lyogavin/godmodeai_wan_spinningkick/tree/main/epoch315\n"
     ]
    },
    {
     "name": "stderr",
     "output_type": "stream",
     "text": [
      " 67%|██████▋   | 63/94 [09:14<08:55, 17.28s/it]"
     ]
    },
    {
     "name": "stdout",
     "output_type": "stream",
     "text": [
      "Start hashing 3 files.\n",
      "Finished hashing 3 files.\n",
      "adapter_model.safetensors: 100%|█████████████| 307M/307M [00:16<00:00, 18.3MB/s]\n",
      "https://huggingface.co/lyogavin/godmodeai_wan_spinningkick/tree/main/epoch320\n"
     ]
    },
    {
     "name": "stderr",
     "output_type": "stream",
     "text": [
      " 68%|██████▊   | 64/94 [09:34<08:57, 17.92s/it]"
     ]
    },
    {
     "name": "stdout",
     "output_type": "stream",
     "text": [
      "Start hashing 3 files.\n",
      "Finished hashing 3 files.\n",
      "adapter_model.safetensors: 100%|█████████████| 307M/307M [00:14<00:00, 21.6MB/s]\n",
      "https://huggingface.co/lyogavin/godmodeai_wan_spinningkick/tree/main/epoch325\n"
     ]
    },
    {
     "name": "stderr",
     "output_type": "stream",
     "text": [
      " 69%|██████▉   | 65/94 [09:51<08:36, 17.82s/it]"
     ]
    },
    {
     "name": "stdout",
     "output_type": "stream",
     "text": [
      "Start hashing 3 files.\n",
      "Finished hashing 3 files.\n",
      "adapter_model.safetensors: 100%|█████████████| 307M/307M [00:12<00:00, 24.1MB/s]\n",
      "https://huggingface.co/lyogavin/godmodeai_wan_spinningkick/tree/main/epoch330\n"
     ]
    },
    {
     "name": "stderr",
     "output_type": "stream",
     "text": [
      " 70%|███████   | 66/94 [10:06<07:55, 16.98s/it]"
     ]
    },
    {
     "name": "stdout",
     "output_type": "stream",
     "text": [
      "Start hashing 3 files.\n",
      "Finished hashing 3 files.\n",
      "adapter_model.safetensors: 100%|█████████████| 307M/307M [00:13<00:00, 23.1MB/s]\n",
      "https://huggingface.co/lyogavin/godmodeai_wan_spinningkick/tree/main/epoch335\n"
     ]
    },
    {
     "name": "stderr",
     "output_type": "stream",
     "text": [
      " 71%|███████▏  | 67/94 [10:23<07:32, 16.76s/it]"
     ]
    },
    {
     "name": "stdout",
     "output_type": "stream",
     "text": [
      "Start hashing 3 files.\n",
      "Finished hashing 3 files.\n",
      "adapter_model.safetensors: 100%|█████████████| 307M/307M [00:12<00:00, 24.2MB/s]\n",
      "https://huggingface.co/lyogavin/godmodeai_wan_spinningkick/tree/main/epoch340\n"
     ]
    },
    {
     "name": "stderr",
     "output_type": "stream",
     "text": [
      " 72%|███████▏  | 68/94 [10:38<07:08, 16.47s/it]"
     ]
    },
    {
     "name": "stdout",
     "output_type": "stream",
     "text": [
      "Start hashing 3 files.\n",
      "Finished hashing 3 files.\n",
      "adapter_model.safetensors: 100%|█████████████| 307M/307M [00:12<00:00, 25.1MB/s]\n",
      "https://huggingface.co/lyogavin/godmodeai_wan_spinningkick/tree/main/epoch345\n"
     ]
    },
    {
     "name": "stderr",
     "output_type": "stream",
     "text": [
      " 73%|███████▎  | 69/94 [10:53<06:37, 15.89s/it]"
     ]
    },
    {
     "name": "stdout",
     "output_type": "stream",
     "text": [
      "Start hashing 3 files.\n",
      "Finished hashing 3 files.\n",
      "adapter_model.safetensors: 100%|█████████████| 307M/307M [00:18<00:00, 17.0MB/s]\n",
      "https://huggingface.co/lyogavin/godmodeai_wan_spinningkick/tree/main/epoch350\n"
     ]
    },
    {
     "name": "stderr",
     "output_type": "stream",
     "text": [
      " 74%|███████▍  | 70/94 [11:15<07:08, 17.87s/it]"
     ]
    },
    {
     "name": "stdout",
     "output_type": "stream",
     "text": [
      "Start hashing 3 files.\n",
      "Finished hashing 3 files.\n",
      "adapter_model.safetensors: 100%|█████████████| 307M/307M [00:10<00:00, 29.6MB/s]\n",
      "https://huggingface.co/lyogavin/godmodeai_wan_spinningkick/tree/main/epoch355\n"
     ]
    },
    {
     "name": "stderr",
     "output_type": "stream",
     "text": [
      " 76%|███████▌  | 71/94 [11:29<06:19, 16.49s/it]"
     ]
    },
    {
     "name": "stdout",
     "output_type": "stream",
     "text": [
      "Start hashing 3 files.\n",
      "Finished hashing 3 files.\n",
      "adapter_model.safetensors: 100%|█████████████| 307M/307M [00:12<00:00, 24.1MB/s]\n",
      "https://huggingface.co/lyogavin/godmodeai_wan_spinningkick/tree/main/epoch360\n"
     ]
    },
    {
     "name": "stderr",
     "output_type": "stream",
     "text": [
      " 77%|███████▋  | 72/94 [11:45<05:58, 16.30s/it]"
     ]
    },
    {
     "name": "stdout",
     "output_type": "stream",
     "text": [
      "Start hashing 3 files.\n",
      "Finished hashing 3 files.\n",
      "adapter_model.safetensors: 100%|█████████████| 307M/307M [00:13<00:00, 23.4MB/s]\n",
      "https://huggingface.co/lyogavin/godmodeai_wan_spinningkick/tree/main/epoch365\n"
     ]
    },
    {
     "name": "stderr",
     "output_type": "stream",
     "text": [
      " 78%|███████▊  | 73/94 [12:08<06:27, 18.46s/it]"
     ]
    },
    {
     "name": "stdout",
     "output_type": "stream",
     "text": [
      "Start hashing 3 files.\n",
      "Finished hashing 3 files.\n",
      "adapter_model.safetensors: 100%|█████████████| 307M/307M [00:18<00:00, 16.7MB/s]\n",
      "https://huggingface.co/lyogavin/godmodeai_wan_spinningkick/tree/main/epoch370\n"
     ]
    },
    {
     "name": "stderr",
     "output_type": "stream",
     "text": [
      " 79%|███████▊  | 74/94 [12:31<06:35, 19.80s/it]"
     ]
    },
    {
     "name": "stdout",
     "output_type": "stream",
     "text": [
      "Start hashing 3 files.\n",
      "Finished hashing 3 files.\n",
      "adapter_model.safetensors: 100%|█████████████| 307M/307M [00:14<00:00, 21.6MB/s]\n",
      "https://huggingface.co/lyogavin/godmodeai_wan_spinningkick/tree/main/epoch375\n"
     ]
    },
    {
     "name": "stderr",
     "output_type": "stream",
     "text": [
      " 80%|███████▉  | 75/94 [12:48<06:01, 19.04s/it]"
     ]
    },
    {
     "name": "stdout",
     "output_type": "stream",
     "text": [
      "Start hashing 3 files.\n",
      "Finished hashing 3 files.\n",
      "adapter_model.safetensors: 100%|█████████████| 307M/307M [00:12<00:00, 24.4MB/s]\n",
      "https://huggingface.co/lyogavin/godmodeai_wan_spinningkick/tree/main/epoch380\n"
     ]
    },
    {
     "name": "stderr",
     "output_type": "stream",
     "text": [
      " 81%|████████  | 76/94 [13:04<05:23, 17.95s/it]"
     ]
    },
    {
     "name": "stdout",
     "output_type": "stream",
     "text": [
      "Start hashing 3 files.\n",
      "Finished hashing 3 files.\n",
      "adapter_model.safetensors: 100%|█████████████| 307M/307M [00:17<00:00, 17.6MB/s]\n",
      "https://huggingface.co/lyogavin/godmodeai_wan_spinningkick/tree/main/epoch385\n"
     ]
    },
    {
     "name": "stderr",
     "output_type": "stream",
     "text": [
      " 82%|████████▏ | 77/94 [13:24<05:15, 18.57s/it]"
     ]
    },
    {
     "name": "stdout",
     "output_type": "stream",
     "text": [
      "Start hashing 3 files.\n",
      "Finished hashing 3 files.\n",
      "adapter_model.safetensors: 100%|█████████████| 307M/307M [00:14<00:00, 21.2MB/s]\n",
      "https://huggingface.co/lyogavin/godmodeai_wan_spinningkick/tree/main/epoch390\n"
     ]
    },
    {
     "name": "stderr",
     "output_type": "stream",
     "text": [
      " 83%|████████▎ | 78/94 [13:41<04:49, 18.11s/it]"
     ]
    },
    {
     "name": "stdout",
     "output_type": "stream",
     "text": [
      "Start hashing 3 files.\n",
      "Finished hashing 3 files.\n",
      "adapter_model.safetensors: 100%|█████████████| 307M/307M [00:12<00:00, 24.4MB/s]\n",
      "https://huggingface.co/lyogavin/godmodeai_wan_spinningkick/tree/main/epoch395\n"
     ]
    },
    {
     "name": "stderr",
     "output_type": "stream",
     "text": [
      " 84%|████████▍ | 79/94 [13:59<04:33, 18.24s/it]"
     ]
    },
    {
     "name": "stdout",
     "output_type": "stream",
     "text": [
      "Start hashing 3 files.\n",
      "Finished hashing 3 files.\n",
      "adapter_model.safetensors: 100%|█████████████| 307M/307M [00:12<00:00, 24.1MB/s]\n",
      "https://huggingface.co/lyogavin/godmodeai_wan_spinningkick/tree/main/epoch400\n"
     ]
    },
    {
     "name": "stderr",
     "output_type": "stream",
     "text": [
      " 85%|████████▌ | 80/94 [14:15<04:06, 17.61s/it]"
     ]
    },
    {
     "name": "stdout",
     "output_type": "stream",
     "text": [
      "Start hashing 3 files.\n",
      "Finished hashing 3 files.\n",
      "adapter_model.safetensors: 100%|█████████████| 307M/307M [00:13<00:00, 23.2MB/s]\n",
      "https://huggingface.co/lyogavin/godmodeai_wan_spinningkick/tree/main/epoch405\n"
     ]
    },
    {
     "name": "stderr",
     "output_type": "stream",
     "text": [
      " 86%|████████▌ | 81/94 [14:32<03:43, 17.23s/it]"
     ]
    },
    {
     "name": "stdout",
     "output_type": "stream",
     "text": [
      "Start hashing 3 files.\n",
      "Finished hashing 3 files.\n",
      "adapter_model.safetensors: 100%|█████████████| 307M/307M [00:11<00:00, 25.6MB/s]\n",
      "https://huggingface.co/lyogavin/godmodeai_wan_spinningkick/tree/main/epoch410\n"
     ]
    },
    {
     "name": "stderr",
     "output_type": "stream",
     "text": [
      " 87%|████████▋ | 82/94 [14:46<03:16, 16.37s/it]"
     ]
    },
    {
     "name": "stdout",
     "output_type": "stream",
     "text": [
      "Start hashing 3 files.\n",
      "Finished hashing 3 files.\n",
      "adapter_model.safetensors: 100%|█████████████| 307M/307M [00:14<00:00, 21.6MB/s]\n",
      "https://huggingface.co/lyogavin/godmodeai_wan_spinningkick/tree/main/epoch415\n"
     ]
    },
    {
     "name": "stderr",
     "output_type": "stream",
     "text": [
      " 88%|████████▊ | 83/94 [15:03<03:00, 16.42s/it]"
     ]
    },
    {
     "name": "stdout",
     "output_type": "stream",
     "text": [
      "Start hashing 3 files.\n",
      "Finished hashing 3 files.\n",
      "adapter_model.safetensors: 100%|█████████████| 307M/307M [00:11<00:00, 27.0MB/s]\n",
      "https://huggingface.co/lyogavin/godmodeai_wan_spinningkick/tree/main/epoch420\n"
     ]
    },
    {
     "name": "stderr",
     "output_type": "stream",
     "text": [
      " 89%|████████▉ | 84/94 [15:23<02:54, 17.44s/it]"
     ]
    },
    {
     "name": "stdout",
     "output_type": "stream",
     "text": [
      "Start hashing 3 files.\n",
      "Finished hashing 3 files.\n",
      "adapter_model.safetensors: 100%|█████████████| 307M/307M [00:13<00:00, 23.5MB/s]\n",
      "https://huggingface.co/lyogavin/godmodeai_wan_spinningkick/tree/main/epoch425\n"
     ]
    },
    {
     "name": "stderr",
     "output_type": "stream",
     "text": [
      " 90%|█████████ | 85/94 [15:38<02:32, 16.92s/it]"
     ]
    },
    {
     "name": "stdout",
     "output_type": "stream",
     "text": [
      "Start hashing 3 files.\n",
      "Finished hashing 3 files.\n",
      "adapter_model.safetensors: 100%|█████████████| 307M/307M [00:12<00:00, 24.3MB/s]\n",
      "https://huggingface.co/lyogavin/godmodeai_wan_spinningkick/tree/main/epoch430\n"
     ]
    },
    {
     "name": "stderr",
     "output_type": "stream",
     "text": [
      " 91%|█████████▏| 86/94 [15:54<02:11, 16.45s/it]"
     ]
    },
    {
     "name": "stdout",
     "output_type": "stream",
     "text": [
      "Start hashing 3 files.\n",
      "Finished hashing 3 files.\n",
      "adapter_model.safetensors: 100%|██████████████| 307M/307M [06:32<00:00, 782kB/s]\n",
      "https://huggingface.co/lyogavin/godmodeai_wan_spinningkick/tree/main/epoch435\n"
     ]
    },
    {
     "name": "stderr",
     "output_type": "stream",
     "text": [
      " 93%|█████████▎| 87/94 [22:29<15:10, 130.07s/it]"
     ]
    },
    {
     "name": "stdout",
     "output_type": "stream",
     "text": [
      "Start hashing 3 files.\n",
      "Finished hashing 3 files.\n",
      "adapter_model.safetensors: 100%|█████████████| 307M/307M [00:11<00:00, 26.1MB/s]\n",
      "https://huggingface.co/lyogavin/godmodeai_wan_spinningkick/tree/main/epoch440\n"
     ]
    },
    {
     "name": "stderr",
     "output_type": "stream",
     "text": [
      " 94%|█████████▎| 88/94 [22:43<09:32, 95.34s/it] "
     ]
    },
    {
     "name": "stdout",
     "output_type": "stream",
     "text": [
      "Start hashing 3 files.\n",
      "Finished hashing 3 files.\n",
      "adapter_model.safetensors: 100%|█████████████| 307M/307M [00:12<00:00, 25.2MB/s]\n",
      "https://huggingface.co/lyogavin/godmodeai_wan_spinningkick/tree/main/epoch445\n"
     ]
    },
    {
     "name": "stderr",
     "output_type": "stream",
     "text": [
      " 95%|█████████▍| 89/94 [22:58<05:55, 71.16s/it]"
     ]
    },
    {
     "name": "stdout",
     "output_type": "stream",
     "text": [
      "Start hashing 3 files.\n",
      "Finished hashing 3 files.\n",
      "adapter_model.safetensors: 100%|█████████████| 307M/307M [00:11<00:00, 25.6MB/s]\n",
      "https://huggingface.co/lyogavin/godmodeai_wan_spinningkick/tree/main/epoch450\n"
     ]
    },
    {
     "name": "stderr",
     "output_type": "stream",
     "text": [
      " 96%|█████████▌| 90/94 [23:12<03:36, 54.20s/it]"
     ]
    },
    {
     "name": "stdout",
     "output_type": "stream",
     "text": [
      "Start hashing 3 files.\n",
      "Finished hashing 3 files.\n",
      "adapter_model.safetensors: 100%|█████████████| 307M/307M [00:17<00:00, 17.8MB/s]\n",
      "https://huggingface.co/lyogavin/godmodeai_wan_spinningkick/tree/main/epoch455\n"
     ]
    },
    {
     "name": "stderr",
     "output_type": "stream",
     "text": [
      " 97%|█████████▋| 91/94 [23:32<02:11, 43.80s/it]"
     ]
    },
    {
     "name": "stdout",
     "output_type": "stream",
     "text": [
      "Start hashing 3 files.\n",
      "Finished hashing 3 files.\n",
      "adapter_model.safetensors: 100%|█████████████| 307M/307M [00:13<00:00, 22.7MB/s]\n",
      "https://huggingface.co/lyogavin/godmodeai_wan_spinningkick/tree/main/epoch460\n"
     ]
    },
    {
     "name": "stderr",
     "output_type": "stream",
     "text": [
      " 98%|█████████▊| 92/94 [23:48<01:10, 35.43s/it]"
     ]
    },
    {
     "name": "stdout",
     "output_type": "stream",
     "text": [
      "Start hashing 3 files.\n",
      "Finished hashing 3 files.\n",
      "adapter_model.safetensors: 100%|█████████████| 307M/307M [00:13<00:00, 23.5MB/s]\n",
      "https://huggingface.co/lyogavin/godmodeai_wan_spinningkick/tree/main/epoch465\n"
     ]
    },
    {
     "name": "stderr",
     "output_type": "stream",
     "text": [
      " 99%|█████████▉| 93/94 [24:04<00:29, 29.52s/it]"
     ]
    },
    {
     "name": "stdout",
     "output_type": "stream",
     "text": [
      "Start hashing 3 files.\n",
      "Finished hashing 3 files.\n",
      "adapter_model.safetensors: 100%|█████████████| 307M/307M [00:16<00:00, 18.9MB/s]\n",
      "https://huggingface.co/lyogavin/godmodeai_wan_spinningkick/tree/main/epoch470\n"
     ]
    },
    {
     "name": "stderr",
     "output_type": "stream",
     "text": [
      "100%|██████████| 94/94 [24:23<00:00, 15.57s/it]\n"
     ]
    }
   ],
   "source": [
    "from glob import glob\n",
    "from tqdm import tqdm\n",
    "\n",
    "\n",
    "start_epoch = 170\n",
    "\n",
    "end_epoch = None\n",
    "\n",
    "#step = 10\n",
    "\n",
    "\n",
    "for f in tqdm(glob(f\"{base_path}/epoch*\")):\n",
    "    #print(f)\n",
    "    #continue\n",
    "    num = f.split(\"/\")[-1].replace(\"epoch\",\"\")\n",
    "    num = int(num)\n",
    "    # print(num)\n",
    "    if num >= start_epoch and (end_epoch is None or num <= end_epoch):\n",
    "        !huggingface-cli upload lyogavin/{repoid}  {f} epoch{num}"
   ]
  },
  {
   "cell_type": "code",
   "execution_count": 25,
   "id": "630d54a8-3cbb-4ce5-b4b5-cdd4d827c672",
   "metadata": {},
   "outputs": [
    {
     "name": "stderr",
     "output_type": "stream",
     "text": [
      "  0%|          | 0/94 [00:00<?, ?it/s]"
     ]
    },
    {
     "name": "stdout",
     "output_type": "stream",
     "text": [
      "Start hashing 3 files.\n",
      "Finished hashing 3 files.\n",
      "adapter_model.safetensors: 100%|█████████████| 307M/307M [00:10<00:00, 29.8MB/s]\n",
      "https://huggingface.co/lyogavin/godmodeai_wan_spinningkick/tree/main/epoch155\n"
     ]
    },
    {
     "name": "stderr",
     "output_type": "stream",
     "text": [
      " 33%|███▎      | 31/94 [00:13<00:26,  2.38it/s]"
     ]
    },
    {
     "name": "stdout",
     "output_type": "stream",
     "text": [
      "Start hashing 3 files.\n",
      "Finished hashing 3 files.\n",
      "adapter_model.safetensors: 100%|█████████████| 307M/307M [00:10<00:00, 28.3MB/s]\n",
      "https://huggingface.co/lyogavin/godmodeai_wan_spinningkick/tree/main/epoch160\n"
     ]
    },
    {
     "name": "stderr",
     "output_type": "stream",
     "text": [
      " 34%|███▍      | 32/94 [00:26<01:02,  1.00s/it]"
     ]
    },
    {
     "name": "stdout",
     "output_type": "stream",
     "text": [
      "Start hashing 3 files.\n",
      "Finished hashing 3 files.\n",
      "adapter_model.safetensors: 100%|█████████████| 307M/307M [00:11<00:00, 26.3MB/s]\n",
      "https://huggingface.co/lyogavin/godmodeai_wan_spinningkick/tree/main/epoch165\n"
     ]
    },
    {
     "name": "stderr",
     "output_type": "stream",
     "text": [
      "100%|██████████| 94/94 [00:41<00:00,  2.27it/s]\n"
     ]
    }
   ],
   "source": [
    "manual_checks = [155, 160, 165]\n",
    "\n",
    "for f in tqdm(glob(f\"{base_path}/epoch*\")):\n",
    "    #print(f)\n",
    "    #continue\n",
    "    num = f.split(\"/\")[-1].replace(\"epoch\",\"\")\n",
    "    num = int(num)\n",
    "    # print(num)\n",
    "    if num in manual_checks:\n",
    "        !huggingface-cli upload lyogavin/{repoid}  {f} epoch{num}"
   ]
  },
  {
   "cell_type": "code",
   "execution_count": null,
   "id": "1285ba81-8556-4ad1-bef1-917329e10721",
   "metadata": {},
   "outputs": [],
   "source": []
  },
  {
   "cell_type": "markdown",
   "id": "4ef516b6-8845-4b25-8c91-51fe11b793b4",
   "metadata": {},
   "source": [
    "# for jump"
   ]
  },
  {
   "cell_type": "code",
   "execution_count": 26,
   "id": "98961d0c-5785-4eeb-9ff4-015570904c04",
   "metadata": {},
   "outputs": [],
   "source": [
    "base_path = \"/root/data/diffusion_pipe_training_runs/wan_video/20250531_14-20-35\""
   ]
  },
  {
   "cell_type": "code",
   "execution_count": null,
   "id": "4ae5c187-a704-4592-8a93-93052d866fb3",
   "metadata": {},
   "outputs": [],
   "source": []
  },
  {
   "cell_type": "code",
   "execution_count": 27,
   "id": "922fd89d-4705-4128-82c1-0de77f147443",
   "metadata": {},
   "outputs": [],
   "source": [
    "repoid = \"godmodeai_wan_jump\""
   ]
  },
  {
   "cell_type": "code",
   "execution_count": 28,
   "id": "a4465524-9cb2-42e2-b49e-1660fd4afcef",
   "metadata": {},
   "outputs": [
    {
     "name": "stdout",
     "output_type": "stream",
     "text": [
      "Successfully created \u001b[1mlyogavin/godmodeai_wan_jump\u001b[0m on the Hub.\n",
      "Your repo is now available at \u001b[1mhttps://huggingface.co/lyogavin/godmodeai_wan_jump\u001b[0m\n"
     ]
    }
   ],
   "source": [
    "!huggingface-cli repo create --private lyogavin/{repoid} "
   ]
  },
  {
   "cell_type": "code",
   "execution_count": 29,
   "id": "f0046a57-dfbb-4bed-9652-5cf3eddfca7b",
   "metadata": {
    "scrolled": true
   },
   "outputs": [
    {
     "name": "stderr",
     "output_type": "stream",
     "text": [
      "  0%|          | 0/84 [00:00<?, ?it/s]"
     ]
    },
    {
     "name": "stdout",
     "output_type": "stream",
     "text": [
      "Start hashing 3 files.\n",
      "Finished hashing 3 files.\n",
      "adapter_model.safetensors: 100%|█████████████| 307M/307M [00:12<00:00, 25.1MB/s]\n",
      "https://huggingface.co/lyogavin/godmodeai_wan_jump/tree/main/epoch150\n"
     ]
    },
    {
     "name": "stderr",
     "output_type": "stream",
     "text": [
      " 36%|███▌      | 30/84 [00:15<00:27,  1.97it/s]"
     ]
    },
    {
     "name": "stdout",
     "output_type": "stream",
     "text": [
      "Start hashing 3 files.\n",
      "Finished hashing 3 files.\n",
      "adapter_model.safetensors: 100%|█████████████| 307M/307M [00:12<00:00, 24.3MB/s]\n",
      "https://huggingface.co/lyogavin/godmodeai_wan_jump/tree/main/epoch155\n"
     ]
    },
    {
     "name": "stderr",
     "output_type": "stream",
     "text": [
      " 37%|███▋      | 31/84 [00:30<01:02,  1.17s/it]"
     ]
    },
    {
     "name": "stdout",
     "output_type": "stream",
     "text": [
      "Start hashing 3 files.\n",
      "Finished hashing 3 files.\n",
      "adapter_model.safetensors: 100%|█████████████| 307M/307M [00:11<00:00, 25.8MB/s]\n",
      "https://huggingface.co/lyogavin/godmodeai_wan_jump/tree/main/epoch160\n"
     ]
    },
    {
     "name": "stderr",
     "output_type": "stream",
     "text": [
      " 38%|███▊      | 32/84 [00:44<01:42,  1.97s/it]"
     ]
    },
    {
     "name": "stdout",
     "output_type": "stream",
     "text": [
      "Start hashing 3 files.\n",
      "Finished hashing 3 files.\n",
      "adapter_model.safetensors: 100%|█████████████| 307M/307M [00:11<00:00, 26.9MB/s]\n",
      "https://huggingface.co/lyogavin/godmodeai_wan_jump/tree/main/epoch165\n"
     ]
    },
    {
     "name": "stderr",
     "output_type": "stream",
     "text": [
      " 39%|███▉      | 33/84 [00:58<02:29,  2.94s/it]"
     ]
    },
    {
     "name": "stdout",
     "output_type": "stream",
     "text": [
      "Start hashing 3 files.\n",
      "Finished hashing 3 files.\n",
      "adapter_model.safetensors: 100%|█████████████| 307M/307M [00:10<00:00, 28.0MB/s]\n",
      "https://huggingface.co/lyogavin/godmodeai_wan_jump/tree/main/epoch170\n"
     ]
    },
    {
     "name": "stderr",
     "output_type": "stream",
     "text": [
      " 40%|████      | 34/84 [01:12<03:20,  4.02s/it]"
     ]
    },
    {
     "name": "stdout",
     "output_type": "stream",
     "text": [
      "Start hashing 3 files.\n",
      "Finished hashing 3 files.\n",
      "adapter_model.safetensors: 100%|█████████████| 307M/307M [00:12<00:00, 24.1MB/s]\n",
      "https://huggingface.co/lyogavin/godmodeai_wan_jump/tree/main/epoch175\n"
     ]
    },
    {
     "name": "stderr",
     "output_type": "stream",
     "text": [
      " 42%|████▏     | 35/84 [01:27<04:26,  5.44s/it]"
     ]
    },
    {
     "name": "stdout",
     "output_type": "stream",
     "text": [
      "Start hashing 3 files.\n",
      "Finished hashing 3 files.\n",
      "adapter_model.safetensors: 100%|█████████████| 307M/307M [00:11<00:00, 26.0MB/s]\n",
      "https://huggingface.co/lyogavin/godmodeai_wan_jump/tree/main/epoch180\n"
     ]
    },
    {
     "name": "stderr",
     "output_type": "stream",
     "text": [
      " 43%|████▎     | 36/84 [01:41<05:26,  6.80s/it]"
     ]
    },
    {
     "name": "stdout",
     "output_type": "stream",
     "text": [
      "Start hashing 3 files.\n",
      "Finished hashing 3 files.\n",
      "adapter_model.safetensors: 100%|█████████████| 307M/307M [00:13<00:00, 22.6MB/s]\n",
      "https://huggingface.co/lyogavin/godmodeai_wan_jump/tree/main/epoch185\n"
     ]
    },
    {
     "name": "stderr",
     "output_type": "stream",
     "text": [
      " 44%|████▍     | 37/84 [01:57<06:37,  8.45s/it]"
     ]
    },
    {
     "name": "stdout",
     "output_type": "stream",
     "text": [
      "Start hashing 3 files.\n",
      "Finished hashing 3 files.\n",
      "adapter_model.safetensors: 100%|█████████████| 307M/307M [00:11<00:00, 25.8MB/s]\n",
      "https://huggingface.co/lyogavin/godmodeai_wan_jump/tree/main/epoch190\n"
     ]
    },
    {
     "name": "stderr",
     "output_type": "stream",
     "text": [
      " 45%|████▌     | 38/84 [02:11<07:24,  9.65s/it]"
     ]
    },
    {
     "name": "stdout",
     "output_type": "stream",
     "text": [
      "Start hashing 3 files.\n",
      "Finished hashing 3 files.\n",
      "adapter_model.safetensors: 100%|█████████████| 307M/307M [00:12<00:00, 24.0MB/s]\n",
      "https://huggingface.co/lyogavin/godmodeai_wan_jump/tree/main/epoch195\n"
     ]
    },
    {
     "name": "stderr",
     "output_type": "stream",
     "text": [
      " 46%|████▋     | 39/84 [02:27<08:11, 10.93s/it]"
     ]
    },
    {
     "name": "stdout",
     "output_type": "stream",
     "text": [
      "Start hashing 3 files.\n",
      "Finished hashing 3 files.\n",
      "adapter_model.safetensors: 100%|█████████████| 307M/307M [00:17<00:00, 17.2MB/s]\n",
      "https://huggingface.co/lyogavin/godmodeai_wan_jump/tree/main/epoch200\n"
     ]
    },
    {
     "name": "stderr",
     "output_type": "stream",
     "text": [
      " 48%|████▊     | 40/84 [02:47<09:43, 13.27s/it]"
     ]
    },
    {
     "name": "stdout",
     "output_type": "stream",
     "text": [
      "Start hashing 3 files.\n",
      "Finished hashing 3 files.\n",
      "adapter_model.safetensors: 100%|█████████████| 307M/307M [00:12<00:00, 24.1MB/s]\n",
      "https://huggingface.co/lyogavin/godmodeai_wan_jump/tree/main/epoch205\n"
     ]
    },
    {
     "name": "stderr",
     "output_type": "stream",
     "text": [
      " 49%|████▉     | 41/84 [03:02<09:49, 13.71s/it]"
     ]
    },
    {
     "name": "stdout",
     "output_type": "stream",
     "text": [
      "Start hashing 3 files.\n",
      "Finished hashing 3 files.\n",
      "adapter_model.safetensors: 100%|█████████████| 307M/307M [00:12<00:00, 25.3MB/s]\n",
      "https://huggingface.co/lyogavin/godmodeai_wan_jump/tree/main/epoch210\n"
     ]
    },
    {
     "name": "stderr",
     "output_type": "stream",
     "text": [
      " 50%|█████     | 42/84 [03:17<09:45, 13.94s/it]"
     ]
    },
    {
     "name": "stdout",
     "output_type": "stream",
     "text": [
      "Start hashing 3 files.\n",
      "Finished hashing 3 files.\n",
      "adapter_model.safetensors: 100%|█████████████| 307M/307M [00:11<00:00, 26.4MB/s]\n",
      "https://huggingface.co/lyogavin/godmodeai_wan_jump/tree/main/epoch215\n"
     ]
    },
    {
     "name": "stderr",
     "output_type": "stream",
     "text": [
      " 51%|█████     | 43/84 [03:31<09:31, 13.94s/it]"
     ]
    },
    {
     "name": "stdout",
     "output_type": "stream",
     "text": [
      "Start hashing 3 files.\n",
      "Finished hashing 3 files.\n",
      "adapter_model.safetensors: 100%|█████████████| 307M/307M [00:12<00:00, 25.1MB/s]\n",
      "https://huggingface.co/lyogavin/godmodeai_wan_jump/tree/main/epoch220\n"
     ]
    },
    {
     "name": "stderr",
     "output_type": "stream",
     "text": [
      " 52%|█████▏    | 44/84 [03:45<09:25, 14.14s/it]"
     ]
    },
    {
     "name": "stdout",
     "output_type": "stream",
     "text": [
      "Start hashing 3 files.\n",
      "Finished hashing 3 files.\n",
      "adapter_model.safetensors: 100%|█████████████| 307M/307M [00:12<00:00, 24.1MB/s]\n",
      "https://huggingface.co/lyogavin/godmodeai_wan_jump/tree/main/epoch225\n"
     ]
    },
    {
     "name": "stderr",
     "output_type": "stream",
     "text": [
      " 54%|█████▎    | 45/84 [04:01<09:27, 14.56s/it]"
     ]
    },
    {
     "name": "stdout",
     "output_type": "stream",
     "text": [
      "Start hashing 3 files.\n",
      "Finished hashing 3 files.\n",
      "adapter_model.safetensors: 100%|█████████████| 307M/307M [00:11<00:00, 27.4MB/s]\n",
      "https://huggingface.co/lyogavin/godmodeai_wan_jump/tree/main/epoch230\n"
     ]
    },
    {
     "name": "stderr",
     "output_type": "stream",
     "text": [
      " 55%|█████▍    | 46/84 [04:15<09:04, 14.33s/it]"
     ]
    },
    {
     "name": "stdout",
     "output_type": "stream",
     "text": [
      "Start hashing 3 files.\n",
      "Finished hashing 3 files.\n",
      "adapter_model.safetensors: 100%|█████████████| 307M/307M [00:11<00:00, 26.6MB/s]\n",
      "https://huggingface.co/lyogavin/godmodeai_wan_jump/tree/main/epoch235\n"
     ]
    },
    {
     "name": "stderr",
     "output_type": "stream",
     "text": [
      " 56%|█████▌    | 47/84 [04:29<08:47, 14.25s/it]"
     ]
    },
    {
     "name": "stdout",
     "output_type": "stream",
     "text": [
      "Start hashing 3 files.\n",
      "Finished hashing 3 files.\n",
      "adapter_model.safetensors: 100%|█████████████| 307M/307M [00:10<00:00, 28.2MB/s]\n",
      "https://huggingface.co/lyogavin/godmodeai_wan_jump/tree/main/epoch240\n"
     ]
    },
    {
     "name": "stderr",
     "output_type": "stream",
     "text": [
      " 57%|█████▋    | 48/84 [04:42<08:26, 14.07s/it]"
     ]
    },
    {
     "name": "stdout",
     "output_type": "stream",
     "text": [
      "Start hashing 3 files.\n",
      "Finished hashing 3 files.\n",
      "adapter_model.safetensors: 100%|█████████████| 307M/307M [00:12<00:00, 24.6MB/s]\n",
      "https://huggingface.co/lyogavin/godmodeai_wan_jump/tree/main/epoch245\n"
     ]
    },
    {
     "name": "stderr",
     "output_type": "stream",
     "text": [
      " 58%|█████▊    | 49/84 [04:57<08:24, 14.42s/it]"
     ]
    },
    {
     "name": "stdout",
     "output_type": "stream",
     "text": [
      "Start hashing 3 files.\n",
      "Finished hashing 3 files.\n",
      "adapter_model.safetensors: 100%|█████████████| 307M/307M [00:14<00:00, 21.9MB/s]\n",
      "https://huggingface.co/lyogavin/godmodeai_wan_jump/tree/main/epoch250\n"
     ]
    },
    {
     "name": "stderr",
     "output_type": "stream",
     "text": [
      " 60%|█████▉    | 50/84 [05:14<08:34, 15.14s/it]"
     ]
    },
    {
     "name": "stdout",
     "output_type": "stream",
     "text": [
      "Start hashing 3 files.\n",
      "Finished hashing 3 files.\n",
      "adapter_model.safetensors: 100%|█████████████| 307M/307M [00:11<00:00, 27.6MB/s]\n",
      "https://huggingface.co/lyogavin/godmodeai_wan_jump/tree/main/epoch255\n"
     ]
    },
    {
     "name": "stderr",
     "output_type": "stream",
     "text": [
      " 61%|██████    | 51/84 [05:28<08:09, 14.83s/it]"
     ]
    },
    {
     "name": "stdout",
     "output_type": "stream",
     "text": [
      "Start hashing 3 files.\n",
      "Finished hashing 3 files.\n",
      "adapter_model.safetensors: 100%|█████████████| 307M/307M [00:11<00:00, 27.1MB/s]\n",
      "https://huggingface.co/lyogavin/godmodeai_wan_jump/tree/main/epoch260\n"
     ]
    },
    {
     "name": "stderr",
     "output_type": "stream",
     "text": [
      " 62%|██████▏   | 52/84 [05:43<07:52, 14.75s/it]"
     ]
    },
    {
     "name": "stdout",
     "output_type": "stream",
     "text": [
      "Start hashing 3 files.\n",
      "Finished hashing 3 files.\n",
      "adapter_model.safetensors: 100%|█████████████| 307M/307M [00:10<00:00, 28.7MB/s]\n",
      "https://huggingface.co/lyogavin/godmodeai_wan_jump/tree/main/epoch265\n"
     ]
    },
    {
     "name": "stderr",
     "output_type": "stream",
     "text": [
      " 63%|██████▎   | 53/84 [05:56<07:24, 14.35s/it]"
     ]
    },
    {
     "name": "stdout",
     "output_type": "stream",
     "text": [
      "Start hashing 3 files.\n",
      "Finished hashing 3 files.\n",
      "adapter_model.safetensors: 100%|█████████████| 307M/307M [00:12<00:00, 23.7MB/s]\n",
      "https://huggingface.co/lyogavin/godmodeai_wan_jump/tree/main/epoch270\n"
     ]
    },
    {
     "name": "stderr",
     "output_type": "stream",
     "text": [
      " 64%|██████▍   | 54/84 [06:12<07:23, 14.79s/it]"
     ]
    },
    {
     "name": "stdout",
     "output_type": "stream",
     "text": [
      "Start hashing 3 files.\n",
      "Finished hashing 3 files.\n",
      "adapter_model.safetensors: 100%|█████████████| 307M/307M [00:11<00:00, 25.7MB/s]\n",
      "https://huggingface.co/lyogavin/godmodeai_wan_jump/tree/main/epoch275\n"
     ]
    },
    {
     "name": "stderr",
     "output_type": "stream",
     "text": [
      " 65%|██████▌   | 55/84 [06:28<07:20, 15.17s/it]"
     ]
    },
    {
     "name": "stdout",
     "output_type": "stream",
     "text": [
      "Start hashing 3 files.\n",
      "Finished hashing 3 files.\n",
      "adapter_model.safetensors: 100%|█████████████| 307M/307M [00:12<00:00, 24.4MB/s]\n",
      "https://huggingface.co/lyogavin/godmodeai_wan_jump/tree/main/epoch280\n"
     ]
    },
    {
     "name": "stderr",
     "output_type": "stream",
     "text": [
      " 67%|██████▋   | 56/84 [06:52<08:13, 17.63s/it]"
     ]
    },
    {
     "name": "stdout",
     "output_type": "stream",
     "text": [
      "Start hashing 3 files.\n",
      "Finished hashing 3 files.\n",
      "adapter_model.safetensors: 100%|█████████████| 307M/307M [00:11<00:00, 26.7MB/s]\n",
      "https://huggingface.co/lyogavin/godmodeai_wan_jump/tree/main/epoch285\n"
     ]
    },
    {
     "name": "stderr",
     "output_type": "stream",
     "text": [
      " 68%|██████▊   | 57/84 [07:05<07:25, 16.50s/it]"
     ]
    },
    {
     "name": "stdout",
     "output_type": "stream",
     "text": [
      "Start hashing 3 files.\n",
      "Finished hashing 3 files.\n",
      "adapter_model.safetensors: 100%|█████████████| 307M/307M [00:11<00:00, 25.9MB/s]\n",
      "https://huggingface.co/lyogavin/godmodeai_wan_jump/tree/main/epoch290\n"
     ]
    },
    {
     "name": "stderr",
     "output_type": "stream",
     "text": [
      " 69%|██████▉   | 58/84 [07:20<06:52, 15.85s/it]"
     ]
    },
    {
     "name": "stdout",
     "output_type": "stream",
     "text": [
      "Start hashing 3 files.\n",
      "Finished hashing 3 files.\n",
      "adapter_model.safetensors: 100%|█████████████| 307M/307M [00:12<00:00, 24.4MB/s]\n",
      "https://huggingface.co/lyogavin/godmodeai_wan_jump/tree/main/epoch295\n"
     ]
    },
    {
     "name": "stderr",
     "output_type": "stream",
     "text": [
      " 70%|███████   | 59/84 [07:35<06:31, 15.64s/it]"
     ]
    },
    {
     "name": "stdout",
     "output_type": "stream",
     "text": [
      "Start hashing 3 files.\n",
      "Finished hashing 3 files.\n",
      "adapter_model.safetensors: 100%|█████████████| 307M/307M [00:13<00:00, 22.2MB/s]\n",
      "https://huggingface.co/lyogavin/godmodeai_wan_jump/tree/main/epoch300\n"
     ]
    },
    {
     "name": "stderr",
     "output_type": "stream",
     "text": [
      " 71%|███████▏  | 60/84 [07:51<06:20, 15.83s/it]"
     ]
    },
    {
     "name": "stdout",
     "output_type": "stream",
     "text": [
      "Start hashing 3 files.\n",
      "Finished hashing 3 files.\n",
      "adapter_model.safetensors: 100%|█████████████| 307M/307M [00:12<00:00, 25.3MB/s]\n",
      "https://huggingface.co/lyogavin/godmodeai_wan_jump/tree/main/epoch305\n"
     ]
    },
    {
     "name": "stderr",
     "output_type": "stream",
     "text": [
      " 73%|███████▎  | 61/84 [08:06<05:56, 15.50s/it]"
     ]
    },
    {
     "name": "stdout",
     "output_type": "stream",
     "text": [
      "Start hashing 3 files.\n",
      "Finished hashing 3 files.\n",
      "adapter_model.safetensors: 100%|█████████████| 307M/307M [00:11<00:00, 26.7MB/s]\n",
      "https://huggingface.co/lyogavin/godmodeai_wan_jump/tree/main/epoch310\n"
     ]
    },
    {
     "name": "stderr",
     "output_type": "stream",
     "text": [
      " 74%|███████▍  | 62/84 [08:21<05:36, 15.30s/it]"
     ]
    },
    {
     "name": "stdout",
     "output_type": "stream",
     "text": [
      "Start hashing 3 files.\n",
      "Finished hashing 3 files.\n",
      "adapter_model.safetensors: 100%|█████████████| 307M/307M [00:11<00:00, 25.9MB/s]\n",
      "https://huggingface.co/lyogavin/godmodeai_wan_jump/tree/main/epoch315\n"
     ]
    },
    {
     "name": "stderr",
     "output_type": "stream",
     "text": [
      " 75%|███████▌  | 63/84 [08:35<05:16, 15.06s/it]"
     ]
    },
    {
     "name": "stdout",
     "output_type": "stream",
     "text": [
      "Start hashing 3 files.\n",
      "Finished hashing 3 files.\n",
      "adapter_model.safetensors: 100%|█████████████| 307M/307M [00:12<00:00, 25.3MB/s]\n",
      "https://huggingface.co/lyogavin/godmodeai_wan_jump/tree/main/epoch320\n"
     ]
    },
    {
     "name": "stderr",
     "output_type": "stream",
     "text": [
      " 76%|███████▌  | 64/84 [08:50<05:00, 15.02s/it]"
     ]
    },
    {
     "name": "stdout",
     "output_type": "stream",
     "text": [
      "Start hashing 3 files.\n",
      "Finished hashing 3 files.\n",
      "adapter_model.safetensors: 100%|█████████████| 307M/307M [00:11<00:00, 26.6MB/s]\n",
      "https://huggingface.co/lyogavin/godmodeai_wan_jump/tree/main/epoch325\n"
     ]
    },
    {
     "name": "stderr",
     "output_type": "stream",
     "text": [
      " 77%|███████▋  | 65/84 [09:04<04:39, 14.69s/it]"
     ]
    },
    {
     "name": "stdout",
     "output_type": "stream",
     "text": [
      "Start hashing 3 files.\n",
      "Finished hashing 3 files.\n",
      "adapter_model.safetensors: 100%|█████████████| 307M/307M [00:12<00:00, 24.2MB/s]\n",
      "https://huggingface.co/lyogavin/godmodeai_wan_jump/tree/main/epoch330\n"
     ]
    },
    {
     "name": "stderr",
     "output_type": "stream",
     "text": [
      " 79%|███████▊  | 66/84 [09:19<04:28, 14.89s/it]"
     ]
    },
    {
     "name": "stdout",
     "output_type": "stream",
     "text": [
      "Start hashing 3 files.\n",
      "Finished hashing 3 files.\n",
      "adapter_model.safetensors: 100%|█████████████| 307M/307M [00:12<00:00, 24.3MB/s]\n",
      "https://huggingface.co/lyogavin/godmodeai_wan_jump/tree/main/epoch335\n"
     ]
    },
    {
     "name": "stderr",
     "output_type": "stream",
     "text": [
      " 80%|███████▉  | 67/84 [09:36<04:19, 15.24s/it]"
     ]
    },
    {
     "name": "stdout",
     "output_type": "stream",
     "text": [
      "Start hashing 3 files.\n",
      "Finished hashing 3 files.\n",
      "adapter_model.safetensors: 100%|█████████████| 307M/307M [00:12<00:00, 23.8MB/s]\n",
      "https://huggingface.co/lyogavin/godmodeai_wan_jump/tree/main/epoch340\n"
     ]
    },
    {
     "name": "stderr",
     "output_type": "stream",
     "text": [
      " 81%|████████  | 68/84 [09:51<04:03, 15.25s/it]"
     ]
    },
    {
     "name": "stdout",
     "output_type": "stream",
     "text": [
      "Start hashing 3 files.\n",
      "Finished hashing 3 files.\n",
      "adapter_model.safetensors: 100%|█████████████| 307M/307M [00:11<00:00, 25.9MB/s]\n",
      "https://huggingface.co/lyogavin/godmodeai_wan_jump/tree/main/epoch345\n"
     ]
    },
    {
     "name": "stderr",
     "output_type": "stream",
     "text": [
      " 82%|████████▏ | 69/84 [10:05<03:44, 14.96s/it]"
     ]
    },
    {
     "name": "stdout",
     "output_type": "stream",
     "text": [
      "Start hashing 3 files.\n",
      "Finished hashing 3 files.\n",
      "adapter_model.safetensors: 100%|█████████████| 307M/307M [00:12<00:00, 24.1MB/s]\n",
      "https://huggingface.co/lyogavin/godmodeai_wan_jump/tree/main/epoch350\n"
     ]
    },
    {
     "name": "stderr",
     "output_type": "stream",
     "text": [
      " 83%|████████▎ | 70/84 [10:20<03:30, 15.04s/it]"
     ]
    },
    {
     "name": "stdout",
     "output_type": "stream",
     "text": [
      "Start hashing 3 files.\n",
      "Finished hashing 3 files.\n",
      "adapter_model.safetensors: 100%|█████████████| 307M/307M [00:12<00:00, 24.5MB/s]\n",
      "https://huggingface.co/lyogavin/godmodeai_wan_jump/tree/main/epoch355\n"
     ]
    },
    {
     "name": "stderr",
     "output_type": "stream",
     "text": [
      " 85%|████████▍ | 71/84 [10:35<03:15, 15.02s/it]"
     ]
    },
    {
     "name": "stdout",
     "output_type": "stream",
     "text": [
      "Start hashing 3 files.\n",
      "Finished hashing 3 files.\n",
      "adapter_model.safetensors: 100%|█████████████| 307M/307M [00:12<00:00, 24.0MB/s]\n",
      "https://huggingface.co/lyogavin/godmodeai_wan_jump/tree/main/epoch360\n"
     ]
    },
    {
     "name": "stderr",
     "output_type": "stream",
     "text": [
      " 86%|████████▌ | 72/84 [10:50<03:00, 15.07s/it]"
     ]
    },
    {
     "name": "stdout",
     "output_type": "stream",
     "text": [
      "Start hashing 3 files.\n",
      "Finished hashing 3 files.\n",
      "adapter_model.safetensors: 100%|█████████████| 307M/307M [00:12<00:00, 24.5MB/s]\n",
      "https://huggingface.co/lyogavin/godmodeai_wan_jump/tree/main/epoch365\n"
     ]
    },
    {
     "name": "stderr",
     "output_type": "stream",
     "text": [
      " 87%|████████▋ | 73/84 [11:06<02:48, 15.29s/it]"
     ]
    },
    {
     "name": "stdout",
     "output_type": "stream",
     "text": [
      "Start hashing 3 files.\n",
      "Finished hashing 3 files.\n",
      "adapter_model.safetensors: 100%|█████████████| 307M/307M [00:11<00:00, 26.7MB/s]\n",
      "https://huggingface.co/lyogavin/godmodeai_wan_jump/tree/main/epoch370\n"
     ]
    },
    {
     "name": "stderr",
     "output_type": "stream",
     "text": [
      " 88%|████████▊ | 74/84 [11:20<02:29, 14.93s/it]"
     ]
    },
    {
     "name": "stdout",
     "output_type": "stream",
     "text": [
      "Start hashing 3 files.\n",
      "Finished hashing 3 files.\n",
      "adapter_model.safetensors: 100%|█████████████| 307M/307M [00:12<00:00, 25.5MB/s]\n",
      "https://huggingface.co/lyogavin/godmodeai_wan_jump/tree/main/epoch375\n"
     ]
    },
    {
     "name": "stderr",
     "output_type": "stream",
     "text": [
      " 89%|████████▉ | 75/84 [11:35<02:13, 14.87s/it]"
     ]
    },
    {
     "name": "stdout",
     "output_type": "stream",
     "text": [
      "Start hashing 3 files.\n",
      "Finished hashing 3 files.\n",
      "adapter_model.safetensors: 100%|█████████████| 307M/307M [00:12<00:00, 25.1MB/s]\n",
      "https://huggingface.co/lyogavin/godmodeai_wan_jump/tree/main/epoch380\n"
     ]
    },
    {
     "name": "stderr",
     "output_type": "stream",
     "text": [
      " 90%|█████████ | 76/84 [11:51<02:00, 15.07s/it]"
     ]
    },
    {
     "name": "stdout",
     "output_type": "stream",
     "text": [
      "Start hashing 3 files.\n",
      "Finished hashing 3 files.\n",
      "adapter_model.safetensors: 100%|█████████████| 307M/307M [00:13<00:00, 23.5MB/s]\n",
      "https://huggingface.co/lyogavin/godmodeai_wan_jump/tree/main/epoch385\n"
     ]
    },
    {
     "name": "stderr",
     "output_type": "stream",
     "text": [
      " 92%|█████████▏| 77/84 [12:07<01:47, 15.32s/it]"
     ]
    },
    {
     "name": "stdout",
     "output_type": "stream",
     "text": [
      "Start hashing 3 files.\n",
      "Finished hashing 3 files.\n",
      "adapter_model.safetensors: 100%|█████████████| 307M/307M [00:12<00:00, 24.4MB/s]\n",
      "https://huggingface.co/lyogavin/godmodeai_wan_jump/tree/main/epoch390\n"
     ]
    },
    {
     "name": "stderr",
     "output_type": "stream",
     "text": [
      " 93%|█████████▎| 78/84 [12:21<01:31, 15.21s/it]"
     ]
    },
    {
     "name": "stdout",
     "output_type": "stream",
     "text": [
      "Start hashing 3 files.\n",
      "Finished hashing 3 files.\n",
      "adapter_model.safetensors: 100%|█████████████| 307M/307M [00:12<00:00, 25.0MB/s]\n",
      "https://huggingface.co/lyogavin/godmodeai_wan_jump/tree/main/epoch395\n"
     ]
    },
    {
     "name": "stderr",
     "output_type": "stream",
     "text": [
      " 94%|█████████▍| 79/84 [12:36<01:15, 15.09s/it]"
     ]
    },
    {
     "name": "stdout",
     "output_type": "stream",
     "text": [
      "Start hashing 3 files.\n",
      "Finished hashing 3 files.\n",
      "adapter_model.safetensors: 100%|█████████████| 307M/307M [00:11<00:00, 27.8MB/s]\n",
      "https://huggingface.co/lyogavin/godmodeai_wan_jump/tree/main/epoch400\n"
     ]
    },
    {
     "name": "stderr",
     "output_type": "stream",
     "text": [
      " 95%|█████████▌| 80/84 [12:50<00:58, 14.61s/it]"
     ]
    },
    {
     "name": "stdout",
     "output_type": "stream",
     "text": [
      "Start hashing 3 files.\n",
      "Finished hashing 3 files.\n",
      "adapter_model.safetensors: 100%|█████████████| 307M/307M [00:13<00:00, 22.4MB/s]\n",
      "https://huggingface.co/lyogavin/godmodeai_wan_jump/tree/main/epoch405\n"
     ]
    },
    {
     "name": "stderr",
     "output_type": "stream",
     "text": [
      " 96%|█████████▋| 81/84 [13:06<00:45, 15.18s/it]"
     ]
    },
    {
     "name": "stdout",
     "output_type": "stream",
     "text": [
      "Start hashing 3 files.\n",
      "Finished hashing 3 files.\n",
      "adapter_model.safetensors: 100%|█████████████| 307M/307M [00:12<00:00, 24.6MB/s]\n",
      "https://huggingface.co/lyogavin/godmodeai_wan_jump/tree/main/epoch410\n"
     ]
    },
    {
     "name": "stderr",
     "output_type": "stream",
     "text": [
      " 98%|█████████▊| 82/84 [13:21<00:30, 15.16s/it]"
     ]
    },
    {
     "name": "stdout",
     "output_type": "stream",
     "text": [
      "Start hashing 3 files.\n",
      "Finished hashing 3 files.\n",
      "adapter_model.safetensors: 100%|█████████████| 307M/307M [00:10<00:00, 28.1MB/s]\n",
      "https://huggingface.co/lyogavin/godmodeai_wan_jump/tree/main/epoch415\n"
     ]
    },
    {
     "name": "stderr",
     "output_type": "stream",
     "text": [
      " 99%|█████████▉| 83/84 [13:35<00:14, 14.58s/it]"
     ]
    },
    {
     "name": "stdout",
     "output_type": "stream",
     "text": [
      "Start hashing 3 files.\n",
      "Finished hashing 3 files.\n",
      "adapter_model.safetensors: 100%|█████████████| 307M/307M [00:11<00:00, 26.6MB/s]\n",
      "https://huggingface.co/lyogavin/godmodeai_wan_jump/tree/main/epoch420\n"
     ]
    },
    {
     "name": "stderr",
     "output_type": "stream",
     "text": [
      "100%|██████████| 84/84 [13:49<00:00,  9.87s/it]\n"
     ]
    }
   ],
   "source": [
    "from glob import glob\n",
    "from tqdm import tqdm\n",
    "\n",
    "\n",
    "start_epoch = 150\n",
    "\n",
    "end_epoch = None\n",
    "\n",
    "#step = 10\n",
    "\n",
    "\n",
    "for f in tqdm(glob(f\"{base_path}/epoch*\")):\n",
    "    #print(f)\n",
    "    #continue\n",
    "    num = f.split(\"/\")[-1].replace(\"epoch\",\"\")\n",
    "    num = int(num)\n",
    "    # print(num)\n",
    "    if num >= start_epoch and (end_epoch is None or num <= end_epoch):\n",
    "        !huggingface-cli upload lyogavin/{repoid}  {f} epoch{num}"
   ]
  },
  {
   "cell_type": "code",
   "execution_count": null,
   "id": "540693ed-007f-4817-b21c-b070f62f73c9",
   "metadata": {},
   "outputs": [],
   "source": []
  },
  {
   "cell_type": "markdown",
   "id": "7cfe74dd-3f80-4938-a113-f17e531299eb",
   "metadata": {},
   "source": [
    "# for run "
   ]
  },
  {
   "cell_type": "code",
   "execution_count": null,
   "id": "7e69b8ad-7f72-4f5a-b466-e18e9c33414c",
   "metadata": {},
   "outputs": [],
   "source": []
  },
  {
   "cell_type": "code",
   "execution_count": 30,
   "id": "99dc1642-2756-4272-812a-38d1de618a76",
   "metadata": {},
   "outputs": [],
   "source": [
    "base_path = \"/root/data/diffusion_pipe_training_runs/wan_video/20250531_22-45-57\""
   ]
  },
  {
   "cell_type": "code",
   "execution_count": null,
   "id": "41750f82-b2fb-4ef6-8795-86ac2476a133",
   "metadata": {},
   "outputs": [],
   "source": []
  },
  {
   "cell_type": "code",
   "execution_count": 31,
   "id": "aa0a617f-734e-477d-87e7-51e2376d2a52",
   "metadata": {},
   "outputs": [],
   "source": [
    "repoid = \"godmodeai_wan_run\""
   ]
  },
  {
   "cell_type": "code",
   "execution_count": 32,
   "id": "ec1be8f1-a240-47db-9e66-dd6e8c3e3d49",
   "metadata": {},
   "outputs": [
    {
     "name": "stdout",
     "output_type": "stream",
     "text": [
      "Successfully created \u001b[1mlyogavin/godmodeai_wan_run\u001b[0m on the Hub.\n",
      "Your repo is now available at \u001b[1mhttps://huggingface.co/lyogavin/godmodeai_wan_run\u001b[0m\n"
     ]
    }
   ],
   "source": [
    "!huggingface-cli repo create --private lyogavin/{repoid} "
   ]
  },
  {
   "cell_type": "code",
   "execution_count": 33,
   "id": "89779623-4400-41c6-862e-445e3478c3a6",
   "metadata": {},
   "outputs": [
    {
     "name": "stderr",
     "output_type": "stream",
     "text": [
      "  0%|          | 0/82 [00:00<?, ?it/s]"
     ]
    },
    {
     "name": "stdout",
     "output_type": "stream",
     "text": [
      "Start hashing 3 files.\n",
      "Finished hashing 3 files.\n",
      "adapter_model.safetensors: 100%|█████████████| 307M/307M [00:11<00:00, 27.4MB/s]\n",
      "https://huggingface.co/lyogavin/godmodeai_wan_run/tree/main/epoch150\n"
     ]
    },
    {
     "name": "stderr",
     "output_type": "stream",
     "text": [
      " 37%|███▋      | 30/82 [00:14<00:24,  2.11it/s]"
     ]
    },
    {
     "name": "stdout",
     "output_type": "stream",
     "text": [
      "Start hashing 3 files.\n",
      "Finished hashing 3 files.\n",
      "adapter_model.safetensors: 100%|█████████████| 307M/307M [00:12<00:00, 24.7MB/s]\n",
      "https://huggingface.co/lyogavin/godmodeai_wan_run/tree/main/epoch155\n"
     ]
    },
    {
     "name": "stderr",
     "output_type": "stream",
     "text": [
      " 38%|███▊      | 31/82 [00:29<00:57,  1.13s/it]"
     ]
    },
    {
     "name": "stdout",
     "output_type": "stream",
     "text": [
      "Start hashing 3 files.\n",
      "Finished hashing 3 files.\n",
      "adapter_model.safetensors: 100%|█████████████| 307M/307M [00:11<00:00, 26.7MB/s]\n",
      "https://huggingface.co/lyogavin/godmodeai_wan_run/tree/main/epoch160\n"
     ]
    },
    {
     "name": "stderr",
     "output_type": "stream",
     "text": [
      " 39%|███▉      | 32/82 [00:43<01:35,  1.92s/it]"
     ]
    },
    {
     "name": "stdout",
     "output_type": "stream",
     "text": [
      "Start hashing 3 files.\n",
      "Finished hashing 3 files.\n",
      "adapter_model.safetensors: 100%|██████████████| 307M/307M [07:12<00:00, 710kB/s]\n",
      "https://huggingface.co/lyogavin/godmodeai_wan_run/tree/main/epoch165\n"
     ]
    },
    {
     "name": "stderr",
     "output_type": "stream",
     "text": [
      " 40%|████      | 33/82 [07:57<29:52, 36.58s/it]"
     ]
    },
    {
     "name": "stdout",
     "output_type": "stream",
     "text": [
      "Start hashing 3 files.\n",
      "Finished hashing 3 files.\n",
      "adapter_model.safetensors: 100%|█████████████| 307M/307M [00:12<00:00, 23.7MB/s]\n",
      "https://huggingface.co/lyogavin/godmodeai_wan_run/tree/main/epoch170\n"
     ]
    },
    {
     "name": "stderr",
     "output_type": "stream",
     "text": [
      " 41%|████▏     | 34/82 [08:13<27:33, 34.45s/it]"
     ]
    },
    {
     "name": "stdout",
     "output_type": "stream",
     "text": [
      "Start hashing 3 files.\n",
      "Finished hashing 3 files.\n",
      "adapter_model.safetensors: 100%|█████████████| 307M/307M [00:11<00:00, 26.2MB/s]\n",
      "https://huggingface.co/lyogavin/godmodeai_wan_run/tree/main/epoch175\n"
     ]
    },
    {
     "name": "stderr",
     "output_type": "stream",
     "text": [
      " 43%|████▎     | 35/82 [08:27<24:58, 31.89s/it]"
     ]
    },
    {
     "name": "stdout",
     "output_type": "stream",
     "text": [
      "Start hashing 3 files.\n",
      "Finished hashing 3 files.\n",
      "adapter_model.safetensors: 100%|█████████████| 307M/307M [00:12<00:00, 23.8MB/s]\n",
      "https://huggingface.co/lyogavin/godmodeai_wan_run/tree/main/epoch180\n"
     ]
    },
    {
     "name": "stderr",
     "output_type": "stream",
     "text": [
      " 44%|████▍     | 36/82 [08:44<22:35, 29.47s/it]"
     ]
    },
    {
     "name": "stdout",
     "output_type": "stream",
     "text": [
      "Start hashing 3 files.\n",
      "Finished hashing 3 files.\n",
      "adapter_model.safetensors: 100%|█████████████| 307M/307M [00:11<00:00, 27.7MB/s]\n",
      "https://huggingface.co/lyogavin/godmodeai_wan_run/tree/main/epoch185\n"
     ]
    },
    {
     "name": "stderr",
     "output_type": "stream",
     "text": [
      " 45%|████▌     | 37/82 [08:57<19:54, 26.54s/it]"
     ]
    },
    {
     "name": "stdout",
     "output_type": "stream",
     "text": [
      "Start hashing 3 files.\n",
      "Finished hashing 3 files.\n",
      "adapter_model.safetensors: 100%|█████████████| 307M/307M [00:12<00:00, 24.5MB/s]\n",
      "https://huggingface.co/lyogavin/godmodeai_wan_run/tree/main/epoch190\n"
     ]
    },
    {
     "name": "stderr",
     "output_type": "stream",
     "text": [
      " 46%|████▋     | 38/82 [09:12<17:43, 24.18s/it]"
     ]
    },
    {
     "name": "stdout",
     "output_type": "stream",
     "text": [
      "Start hashing 3 files.\n",
      "Finished hashing 3 files.\n",
      "adapter_model.safetensors: 100%|█████████████| 307M/307M [00:10<00:00, 29.3MB/s]\n",
      "https://huggingface.co/lyogavin/godmodeai_wan_run/tree/main/epoch195\n"
     ]
    },
    {
     "name": "stderr",
     "output_type": "stream",
     "text": [
      " 48%|████▊     | 39/82 [09:25<15:31, 21.66s/it]"
     ]
    },
    {
     "name": "stdout",
     "output_type": "stream",
     "text": [
      "Start hashing 3 files.\n",
      "Finished hashing 3 files.\n",
      "adapter_model.safetensors: 100%|█████████████| 307M/307M [00:12<00:00, 23.9MB/s]\n",
      "https://huggingface.co/lyogavin/godmodeai_wan_run/tree/main/epoch200\n"
     ]
    },
    {
     "name": "stderr",
     "output_type": "stream",
     "text": [
      " 49%|████▉     | 40/82 [09:40<14:02, 20.07s/it]"
     ]
    },
    {
     "name": "stdout",
     "output_type": "stream",
     "text": [
      "Start hashing 3 files.\n",
      "Finished hashing 3 files.\n",
      "adapter_model.safetensors: 100%|█████████████| 307M/307M [00:11<00:00, 26.8MB/s]\n",
      "https://huggingface.co/lyogavin/godmodeai_wan_run/tree/main/epoch205\n"
     ]
    },
    {
     "name": "stderr",
     "output_type": "stream",
     "text": [
      " 50%|█████     | 41/82 [09:54<12:38, 18.49s/it]"
     ]
    },
    {
     "name": "stdout",
     "output_type": "stream",
     "text": [
      "Start hashing 3 files.\n",
      "Finished hashing 3 files.\n",
      "adapter_model.safetensors: 100%|█████████████| 307M/307M [00:11<00:00, 26.3MB/s]\n",
      "https://huggingface.co/lyogavin/godmodeai_wan_run/tree/main/epoch210\n"
     ]
    },
    {
     "name": "stderr",
     "output_type": "stream",
     "text": [
      " 51%|█████     | 42/82 [10:09<11:37, 17.43s/it]"
     ]
    },
    {
     "name": "stdout",
     "output_type": "stream",
     "text": [
      "Start hashing 3 files.\n",
      "Finished hashing 3 files.\n",
      "adapter_model.safetensors: 100%|█████████████| 307M/307M [00:12<00:00, 24.2MB/s]\n",
      "https://huggingface.co/lyogavin/godmodeai_wan_run/tree/main/epoch215\n"
     ]
    },
    {
     "name": "stderr",
     "output_type": "stream",
     "text": [
      " 52%|█████▏    | 43/82 [10:24<10:55, 16.80s/it]"
     ]
    },
    {
     "name": "stdout",
     "output_type": "stream",
     "text": [
      "Start hashing 3 files.\n",
      "Finished hashing 3 files.\n",
      "adapter_model.safetensors: 100%|█████████████| 307M/307M [00:11<00:00, 26.4MB/s]\n",
      "https://huggingface.co/lyogavin/godmodeai_wan_run/tree/main/epoch220\n"
     ]
    },
    {
     "name": "stderr",
     "output_type": "stream",
     "text": [
      " 54%|█████▎    | 44/82 [10:38<10:09, 16.05s/it]"
     ]
    },
    {
     "name": "stdout",
     "output_type": "stream",
     "text": [
      "Start hashing 3 files.\n",
      "Finished hashing 3 files.\n",
      "adapter_model.safetensors: 100%|█████████████| 307M/307M [00:10<00:00, 28.6MB/s]\n",
      "https://huggingface.co/lyogavin/godmodeai_wan_run/tree/main/epoch225\n"
     ]
    },
    {
     "name": "stderr",
     "output_type": "stream",
     "text": [
      " 55%|█████▍    | 45/82 [10:51<09:21, 15.19s/it]"
     ]
    },
    {
     "name": "stdout",
     "output_type": "stream",
     "text": [
      "Start hashing 3 files.\n",
      "Finished hashing 3 files.\n",
      "adapter_model.safetensors: 100%|█████████████| 307M/307M [00:11<00:00, 27.2MB/s]\n",
      "https://huggingface.co/lyogavin/godmodeai_wan_run/tree/main/epoch230\n"
     ]
    },
    {
     "name": "stderr",
     "output_type": "stream",
     "text": [
      " 56%|█████▌    | 46/82 [11:05<08:52, 14.79s/it]"
     ]
    },
    {
     "name": "stdout",
     "output_type": "stream",
     "text": [
      "Start hashing 3 files.\n",
      "Finished hashing 3 files.\n",
      "adapter_model.safetensors: 100%|█████████████| 307M/307M [00:11<00:00, 25.9MB/s]\n",
      "https://huggingface.co/lyogavin/godmodeai_wan_run/tree/main/epoch235\n"
     ]
    },
    {
     "name": "stderr",
     "output_type": "stream",
     "text": [
      " 57%|█████▋    | 47/82 [11:19<08:34, 14.69s/it]"
     ]
    },
    {
     "name": "stdout",
     "output_type": "stream",
     "text": [
      "Start hashing 3 files.\n",
      "Finished hashing 3 files.\n",
      "adapter_model.safetensors: 100%|█████████████| 307M/307M [00:12<00:00, 25.2MB/s]\n",
      "https://huggingface.co/lyogavin/godmodeai_wan_run/tree/main/epoch240\n"
     ]
    },
    {
     "name": "stderr",
     "output_type": "stream",
     "text": [
      " 59%|█████▊    | 48/82 [11:34<08:19, 14.69s/it]"
     ]
    },
    {
     "name": "stdout",
     "output_type": "stream",
     "text": [
      "Start hashing 3 files.\n",
      "Finished hashing 3 files.\n",
      "adapter_model.safetensors: 100%|█████████████| 307M/307M [00:12<00:00, 24.3MB/s]\n",
      "https://huggingface.co/lyogavin/godmodeai_wan_run/tree/main/epoch245\n"
     ]
    },
    {
     "name": "stderr",
     "output_type": "stream",
     "text": [
      " 60%|█████▉    | 49/82 [11:49<08:08, 14.80s/it]"
     ]
    },
    {
     "name": "stdout",
     "output_type": "stream",
     "text": [
      "Start hashing 3 files.\n",
      "Finished hashing 3 files.\n",
      "adapter_model.safetensors: 100%|█████████████| 307M/307M [00:10<00:00, 27.9MB/s]\n",
      "https://huggingface.co/lyogavin/godmodeai_wan_run/tree/main/epoch250\n"
     ]
    },
    {
     "name": "stderr",
     "output_type": "stream",
     "text": [
      " 61%|██████    | 50/82 [12:03<07:42, 14.45s/it]"
     ]
    },
    {
     "name": "stdout",
     "output_type": "stream",
     "text": [
      "Start hashing 3 files.\n",
      "Finished hashing 3 files.\n",
      "adapter_model.safetensors: 100%|█████████████| 307M/307M [00:12<00:00, 24.1MB/s]\n",
      "https://huggingface.co/lyogavin/godmodeai_wan_run/tree/main/epoch255\n"
     ]
    },
    {
     "name": "stderr",
     "output_type": "stream",
     "text": [
      " 62%|██████▏   | 51/82 [12:18<07:35, 14.69s/it]"
     ]
    },
    {
     "name": "stdout",
     "output_type": "stream",
     "text": [
      "Start hashing 3 files.\n",
      "Finished hashing 3 files.\n",
      "adapter_model.safetensors: 100%|█████████████| 307M/307M [00:11<00:00, 26.8MB/s]\n",
      "https://huggingface.co/lyogavin/godmodeai_wan_run/tree/main/epoch260\n"
     ]
    },
    {
     "name": "stderr",
     "output_type": "stream",
     "text": [
      " 63%|██████▎   | 52/82 [12:32<07:11, 14.38s/it]"
     ]
    },
    {
     "name": "stdout",
     "output_type": "stream",
     "text": [
      "Start hashing 3 files.\n",
      "Finished hashing 3 files.\n",
      "adapter_model.safetensors: 100%|█████████████| 307M/307M [00:12<00:00, 24.0MB/s]\n",
      "https://huggingface.co/lyogavin/godmodeai_wan_run/tree/main/epoch265\n"
     ]
    },
    {
     "name": "stderr",
     "output_type": "stream",
     "text": [
      " 65%|██████▍   | 53/82 [12:47<07:03, 14.60s/it]"
     ]
    },
    {
     "name": "stdout",
     "output_type": "stream",
     "text": [
      "Start hashing 3 files.\n",
      "Finished hashing 3 files.\n",
      "adapter_model.safetensors: 100%|█████████████| 307M/307M [00:13<00:00, 23.4MB/s]\n",
      "https://huggingface.co/lyogavin/godmodeai_wan_run/tree/main/epoch270\n"
     ]
    },
    {
     "name": "stderr",
     "output_type": "stream",
     "text": [
      " 66%|██████▌   | 54/82 [13:02<06:55, 14.85s/it]"
     ]
    },
    {
     "name": "stdout",
     "output_type": "stream",
     "text": [
      "Start hashing 3 files.\n",
      "Finished hashing 3 files.\n",
      "adapter_model.safetensors: 100%|█████████████| 307M/307M [00:12<00:00, 24.2MB/s]\n",
      "https://huggingface.co/lyogavin/godmodeai_wan_run/tree/main/epoch275\n"
     ]
    },
    {
     "name": "stderr",
     "output_type": "stream",
     "text": [
      " 67%|██████▋   | 55/82 [13:17<06:42, 14.91s/it]"
     ]
    },
    {
     "name": "stdout",
     "output_type": "stream",
     "text": [
      "Start hashing 3 files.\n",
      "Finished hashing 3 files.\n",
      "adapter_model.safetensors: 100%|█████████████| 307M/307M [00:10<00:00, 28.1MB/s]\n",
      "https://huggingface.co/lyogavin/godmodeai_wan_run/tree/main/epoch280\n"
     ]
    },
    {
     "name": "stderr",
     "output_type": "stream",
     "text": [
      " 68%|██████▊   | 56/82 [13:31<06:17, 14.52s/it]"
     ]
    },
    {
     "name": "stdout",
     "output_type": "stream",
     "text": [
      "Start hashing 3 files.\n",
      "Finished hashing 3 files.\n",
      "adapter_model.safetensors: 100%|█████████████| 307M/307M [00:11<00:00, 27.5MB/s]\n",
      "https://huggingface.co/lyogavin/godmodeai_wan_run/tree/main/epoch285\n"
     ]
    },
    {
     "name": "stderr",
     "output_type": "stream",
     "text": [
      " 70%|██████▉   | 57/82 [13:44<05:55, 14.21s/it]"
     ]
    },
    {
     "name": "stdout",
     "output_type": "stream",
     "text": [
      "Start hashing 3 files.\n",
      "Finished hashing 3 files.\n",
      "adapter_model.safetensors: 100%|█████████████| 307M/307M [00:09<00:00, 31.1MB/s]\n",
      "https://huggingface.co/lyogavin/godmodeai_wan_run/tree/main/epoch290\n"
     ]
    },
    {
     "name": "stderr",
     "output_type": "stream",
     "text": [
      " 71%|███████   | 58/82 [13:57<05:27, 13.65s/it]"
     ]
    },
    {
     "name": "stdout",
     "output_type": "stream",
     "text": [
      "Start hashing 3 files.\n",
      "Finished hashing 3 files.\n",
      "adapter_model.safetensors: 100%|█████████████| 307M/307M [00:13<00:00, 22.0MB/s]\n",
      "https://huggingface.co/lyogavin/godmodeai_wan_run/tree/main/epoch295\n"
     ]
    },
    {
     "name": "stderr",
     "output_type": "stream",
     "text": [
      " 72%|███████▏  | 59/82 [14:13<05:32, 14.44s/it]"
     ]
    },
    {
     "name": "stdout",
     "output_type": "stream",
     "text": [
      "Start hashing 3 files.\n",
      "Finished hashing 3 files.\n",
      "adapter_model.safetensors: 100%|█████████████| 307M/307M [00:11<00:00, 25.6MB/s]\n",
      "https://huggingface.co/lyogavin/godmodeai_wan_run/tree/main/epoch300\n"
     ]
    },
    {
     "name": "stderr",
     "output_type": "stream",
     "text": [
      " 73%|███████▎  | 60/82 [14:28<05:18, 14.49s/it]"
     ]
    },
    {
     "name": "stdout",
     "output_type": "stream",
     "text": [
      "Start hashing 3 files.\n",
      "Finished hashing 3 files.\n",
      "adapter_model.safetensors: 100%|█████████████| 307M/307M [00:11<00:00, 25.6MB/s]\n",
      "https://huggingface.co/lyogavin/godmodeai_wan_run/tree/main/epoch305\n"
     ]
    },
    {
     "name": "stderr",
     "output_type": "stream",
     "text": [
      " 74%|███████▍  | 61/82 [14:42<05:03, 14.45s/it]"
     ]
    },
    {
     "name": "stdout",
     "output_type": "stream",
     "text": [
      "Start hashing 3 files.\n",
      "Finished hashing 3 files.\n",
      "adapter_model.safetensors: 100%|█████████████| 307M/307M [00:16<00:00, 18.5MB/s]\n",
      "https://huggingface.co/lyogavin/godmodeai_wan_run/tree/main/epoch310\n"
     ]
    },
    {
     "name": "stderr",
     "output_type": "stream",
     "text": [
      " 76%|███████▌  | 62/82 [15:01<05:15, 15.79s/it]"
     ]
    },
    {
     "name": "stdout",
     "output_type": "stream",
     "text": [
      "Start hashing 3 files.\n",
      "Finished hashing 3 files.\n",
      "adapter_model.safetensors: 100%|█████████████| 307M/307M [00:11<00:00, 27.8MB/s]\n",
      "https://huggingface.co/lyogavin/godmodeai_wan_run/tree/main/epoch315\n"
     ]
    },
    {
     "name": "stderr",
     "output_type": "stream",
     "text": [
      " 77%|███████▋  | 63/82 [15:15<04:47, 15.12s/it]"
     ]
    },
    {
     "name": "stdout",
     "output_type": "stream",
     "text": [
      "Start hashing 3 files.\n",
      "Finished hashing 3 files.\n",
      "adapter_model.safetensors: 100%|█████████████| 307M/307M [00:12<00:00, 24.3MB/s]\n",
      "https://huggingface.co/lyogavin/godmodeai_wan_run/tree/main/epoch320\n"
     ]
    },
    {
     "name": "stderr",
     "output_type": "stream",
     "text": [
      " 78%|███████▊  | 64/82 [15:30<04:32, 15.14s/it]"
     ]
    },
    {
     "name": "stdout",
     "output_type": "stream",
     "text": [
      "Start hashing 3 files.\n",
      "Finished hashing 3 files.\n",
      "adapter_model.safetensors: 100%|█████████████| 307M/307M [00:12<00:00, 24.8MB/s]\n",
      "https://huggingface.co/lyogavin/godmodeai_wan_run/tree/main/epoch325\n"
     ]
    },
    {
     "name": "stderr",
     "output_type": "stream",
     "text": [
      " 79%|███████▉  | 65/82 [15:46<04:22, 15.43s/it]"
     ]
    },
    {
     "name": "stdout",
     "output_type": "stream",
     "text": [
      "Start hashing 3 files.\n",
      "Finished hashing 3 files.\n",
      "adapter_model.safetensors: 100%|█████████████| 307M/307M [00:11<00:00, 27.7MB/s]\n",
      "https://huggingface.co/lyogavin/godmodeai_wan_run/tree/main/epoch330\n"
     ]
    },
    {
     "name": "stderr",
     "output_type": "stream",
     "text": [
      " 80%|████████  | 66/82 [15:59<03:57, 14.87s/it]"
     ]
    },
    {
     "name": "stdout",
     "output_type": "stream",
     "text": [
      "Start hashing 3 files.\n",
      "Finished hashing 3 files.\n",
      "adapter_model.safetensors: 100%|█████████████| 307M/307M [00:11<00:00, 26.8MB/s]\n",
      "https://huggingface.co/lyogavin/godmodeai_wan_run/tree/main/epoch335\n"
     ]
    },
    {
     "name": "stderr",
     "output_type": "stream",
     "text": [
      " 82%|████████▏ | 67/82 [16:13<03:38, 14.56s/it]"
     ]
    },
    {
     "name": "stdout",
     "output_type": "stream",
     "text": [
      "Start hashing 3 files.\n",
      "Finished hashing 3 files.\n",
      "adapter_model.safetensors: 100%|█████████████| 307M/307M [00:12<00:00, 24.1MB/s]\n",
      "https://huggingface.co/lyogavin/godmodeai_wan_run/tree/main/epoch340\n"
     ]
    },
    {
     "name": "stderr",
     "output_type": "stream",
     "text": [
      " 83%|████████▎ | 68/82 [16:28<03:26, 14.73s/it]"
     ]
    },
    {
     "name": "stdout",
     "output_type": "stream",
     "text": [
      "Start hashing 3 files.\n",
      "Finished hashing 3 files.\n",
      "adapter_model.safetensors: 100%|█████████████| 307M/307M [00:12<00:00, 24.9MB/s]\n",
      "https://huggingface.co/lyogavin/godmodeai_wan_run/tree/main/epoch345\n"
     ]
    },
    {
     "name": "stderr",
     "output_type": "stream",
     "text": [
      " 84%|████████▍ | 69/82 [16:43<03:12, 14.81s/it]"
     ]
    },
    {
     "name": "stdout",
     "output_type": "stream",
     "text": [
      "Start hashing 3 files.\n",
      "Finished hashing 3 files.\n",
      "adapter_model.safetensors: 100%|█████████████| 307M/307M [00:11<00:00, 26.5MB/s]\n",
      "https://huggingface.co/lyogavin/godmodeai_wan_run/tree/main/epoch350\n"
     ]
    },
    {
     "name": "stderr",
     "output_type": "stream",
     "text": [
      " 85%|████████▌ | 70/82 [16:58<02:55, 14.65s/it]"
     ]
    },
    {
     "name": "stdout",
     "output_type": "stream",
     "text": [
      "Start hashing 3 files.\n",
      "Finished hashing 3 files.\n",
      "adapter_model.safetensors: 100%|█████████████| 307M/307M [00:10<00:00, 30.1MB/s]\n",
      "https://huggingface.co/lyogavin/godmodeai_wan_run/tree/main/epoch355\n"
     ]
    },
    {
     "name": "stderr",
     "output_type": "stream",
     "text": [
      " 87%|████████▋ | 71/82 [17:10<02:34, 14.07s/it]"
     ]
    },
    {
     "name": "stdout",
     "output_type": "stream",
     "text": [
      "Start hashing 3 files.\n",
      "Finished hashing 3 files.\n",
      "adapter_model.safetensors: 100%|█████████████| 307M/307M [00:12<00:00, 24.4MB/s]\n",
      "https://huggingface.co/lyogavin/godmodeai_wan_run/tree/main/epoch360\n"
     ]
    },
    {
     "name": "stderr",
     "output_type": "stream",
     "text": [
      " 88%|████████▊ | 72/82 [17:26<02:25, 14.56s/it]"
     ]
    },
    {
     "name": "stdout",
     "output_type": "stream",
     "text": [
      "Start hashing 3 files.\n",
      "Finished hashing 3 files.\n",
      "adapter_model.safetensors: 100%|█████████████| 307M/307M [00:11<00:00, 26.9MB/s]\n",
      "https://huggingface.co/lyogavin/godmodeai_wan_run/tree/main/epoch365\n"
     ]
    },
    {
     "name": "stderr",
     "output_type": "stream",
     "text": [
      " 89%|████████▉ | 73/82 [17:40<02:10, 14.46s/it]"
     ]
    },
    {
     "name": "stdout",
     "output_type": "stream",
     "text": [
      "Start hashing 3 files.\n",
      "Finished hashing 3 files.\n",
      "adapter_model.safetensors: 100%|█████████████| 307M/307M [00:09<00:00, 30.9MB/s]\n",
      "https://huggingface.co/lyogavin/godmodeai_wan_run/tree/main/epoch370\n"
     ]
    },
    {
     "name": "stderr",
     "output_type": "stream",
     "text": [
      " 90%|█████████ | 74/82 [17:53<01:50, 13.86s/it]"
     ]
    },
    {
     "name": "stdout",
     "output_type": "stream",
     "text": [
      "Start hashing 3 files.\n",
      "Finished hashing 3 files.\n",
      "adapter_model.safetensors: 100%|█████████████| 307M/307M [00:10<00:00, 28.8MB/s]\n",
      "https://huggingface.co/lyogavin/godmodeai_wan_run/tree/main/epoch375\n"
     ]
    },
    {
     "name": "stderr",
     "output_type": "stream",
     "text": [
      " 91%|█████████▏| 75/82 [18:06<01:35, 13.67s/it]"
     ]
    },
    {
     "name": "stdout",
     "output_type": "stream",
     "text": [
      "Start hashing 3 files.\n",
      "Finished hashing 3 files.\n",
      "adapter_model.safetensors: 100%|█████████████| 307M/307M [00:12<00:00, 24.2MB/s]\n",
      "https://huggingface.co/lyogavin/godmodeai_wan_run/tree/main/epoch380\n"
     ]
    },
    {
     "name": "stderr",
     "output_type": "stream",
     "text": [
      " 93%|█████████▎| 76/82 [18:21<01:24, 14.15s/it]"
     ]
    },
    {
     "name": "stdout",
     "output_type": "stream",
     "text": [
      "Start hashing 3 files.\n",
      "Finished hashing 3 files.\n",
      "adapter_model.safetensors: 100%|█████████████| 307M/307M [00:12<00:00, 24.5MB/s]\n",
      "https://huggingface.co/lyogavin/godmodeai_wan_run/tree/main/epoch385\n"
     ]
    },
    {
     "name": "stderr",
     "output_type": "stream",
     "text": [
      " 94%|█████████▍| 77/82 [18:36<01:11, 14.39s/it]"
     ]
    },
    {
     "name": "stdout",
     "output_type": "stream",
     "text": [
      "Start hashing 3 files.\n",
      "Finished hashing 3 files.\n",
      "adapter_model.safetensors: 100%|█████████████| 307M/307M [00:12<00:00, 23.7MB/s]\n",
      "https://huggingface.co/lyogavin/godmodeai_wan_run/tree/main/epoch390\n"
     ]
    },
    {
     "name": "stderr",
     "output_type": "stream",
     "text": [
      " 95%|█████████▌| 78/82 [18:53<01:00, 15.03s/it]"
     ]
    },
    {
     "name": "stdout",
     "output_type": "stream",
     "text": [
      "Start hashing 3 files.\n",
      "Finished hashing 3 files.\n",
      "adapter_model.safetensors: 100%|█████████████| 307M/307M [00:11<00:00, 26.1MB/s]\n",
      "https://huggingface.co/lyogavin/godmodeai_wan_run/tree/main/epoch395\n"
     ]
    },
    {
     "name": "stderr",
     "output_type": "stream",
     "text": [
      " 96%|█████████▋| 79/82 [19:08<00:45, 15.08s/it]"
     ]
    },
    {
     "name": "stdout",
     "output_type": "stream",
     "text": [
      "Start hashing 3 files.\n",
      "Finished hashing 3 files.\n",
      "adapter_model.safetensors: 100%|█████████████| 307M/307M [00:12<00:00, 24.1MB/s]\n",
      "https://huggingface.co/lyogavin/godmodeai_wan_run/tree/main/epoch400\n"
     ]
    },
    {
     "name": "stderr",
     "output_type": "stream",
     "text": [
      " 98%|█████████▊| 80/82 [19:24<00:30, 15.29s/it]"
     ]
    },
    {
     "name": "stdout",
     "output_type": "stream",
     "text": [
      "Start hashing 3 files.\n",
      "Finished hashing 3 files.\n",
      "adapter_model.safetensors: 100%|█████████████| 307M/307M [00:12<00:00, 25.2MB/s]\n",
      "https://huggingface.co/lyogavin/godmodeai_wan_run/tree/main/epoch405\n"
     ]
    },
    {
     "name": "stderr",
     "output_type": "stream",
     "text": [
      " 99%|█████████▉| 81/82 [19:38<00:15, 15.12s/it]"
     ]
    },
    {
     "name": "stdout",
     "output_type": "stream",
     "text": [
      "Start hashing 3 files.\n",
      "Finished hashing 3 files.\n",
      "adapter_model.safetensors: 100%|█████████████| 307M/307M [00:11<00:00, 27.7MB/s]\n",
      "https://huggingface.co/lyogavin/godmodeai_wan_run/tree/main/epoch410\n"
     ]
    },
    {
     "name": "stderr",
     "output_type": "stream",
     "text": [
      "100%|██████████| 82/82 [19:52<00:00, 14.54s/it]\n"
     ]
    }
   ],
   "source": [
    "from glob import glob\n",
    "from tqdm import tqdm\n",
    "\n",
    "\n",
    "start_epoch = 150\n",
    "\n",
    "end_epoch = None\n",
    "\n",
    "#step = 10\n",
    "\n",
    "\n",
    "for f in tqdm(glob(f\"{base_path}/epoch*\")):\n",
    "    #print(f)\n",
    "    #continue\n",
    "    num = f.split(\"/\")[-1].replace(\"epoch\",\"\")\n",
    "    num = int(num)\n",
    "    # print(num)\n",
    "    if num >= start_epoch and (end_epoch is None or num <= end_epoch):\n",
    "        !huggingface-cli upload lyogavin/{repoid}  {f} epoch{num}"
   ]
  },
  {
   "cell_type": "code",
   "execution_count": null,
   "id": "ce1ea4a5-3907-4ea6-a9cc-01446f44929d",
   "metadata": {},
   "outputs": [],
   "source": []
  },
  {
   "cell_type": "markdown",
   "id": "089d0ed1-2a11-4038-871c-f92f1a762d08",
   "metadata": {},
   "source": [
    "# for punch "
   ]
  },
  {
   "cell_type": "code",
   "execution_count": 38,
   "id": "93cc4919-4e0a-4aab-a6e7-45114c6738c9",
   "metadata": {},
   "outputs": [],
   "source": [
    "base_path = \"/root/data/diffusion_pipe_training_runs/wan_video/20250601_13-14-32\""
   ]
  },
  {
   "cell_type": "code",
   "execution_count": 39,
   "id": "26e11b31-bbfa-40a7-97ce-612f845d4046",
   "metadata": {},
   "outputs": [],
   "source": [
    "repoid = \"godmodeai_wan_punch\""
   ]
  },
  {
   "cell_type": "code",
   "execution_count": 40,
   "id": "5aa05f5e-31ce-44c3-bfb4-f074a1125533",
   "metadata": {},
   "outputs": [
    {
     "name": "stdout",
     "output_type": "stream",
     "text": [
      "Successfully created \u001b[1manimaaillc/godmodeai_wan_punch\u001b[0m on the Hub.\n",
      "Your repo is now available at \u001b[1mhttps://huggingface.co/animaaillc/godmodeai_wan_punch\u001b[0m\n"
     ]
    }
   ],
   "source": [
    "!huggingface-cli repo create --private animaaillc/{repoid} "
   ]
  },
  {
   "cell_type": "code",
   "execution_count": 41,
   "id": "1a745e21-f6fb-4ea0-abe0-d5fe2c867824",
   "metadata": {
    "collapsed": true,
    "jupyter": {
     "outputs_hidden": true
    }
   },
   "outputs": [
    {
     "name": "stderr",
     "output_type": "stream",
     "text": [
      "  0%|          | 0/90 [00:00<?, ?it/s]"
     ]
    },
    {
     "name": "stdout",
     "output_type": "stream",
     "text": [
      "Start hashing 3 files.\n",
      "Finished hashing 3 files.\n",
      "Uploading files using Xet Storage..\n",
      "Uploading...: 100%|██████████████████████████| 307M/307M [00:06<00:00, 48.1MB/s]\n",
      "https://huggingface.co/animaaillc/godmodeai_wan_punch/tree/main/epoch150\n"
     ]
    },
    {
     "name": "stderr",
     "output_type": "stream",
     "text": [
      " 33%|███▎      | 30/90 [00:08<00:17,  3.38it/s]"
     ]
    },
    {
     "name": "stdout",
     "output_type": "stream",
     "text": [
      "Start hashing 3 files.\n",
      "Finished hashing 3 files.\n",
      "Uploading files using Xet Storage..\n",
      "Uploading...: 100%|██████████████████████████| 307M/307M [00:07<00:00, 41.6MB/s]\n",
      "https://huggingface.co/animaaillc/godmodeai_wan_punch/tree/main/epoch155\n"
     ]
    },
    {
     "name": "stderr",
     "output_type": "stream",
     "text": [
      " 34%|███▍      | 31/90 [00:18<00:42,  1.39it/s]"
     ]
    },
    {
     "name": "stdout",
     "output_type": "stream",
     "text": [
      "Start hashing 3 files.\n",
      "Finished hashing 3 files.\n",
      "Uploading files using Xet Storage..\n",
      "Uploading...: 100%|██████████████████████████| 307M/307M [00:07<00:00, 43.0MB/s]\n",
      "https://huggingface.co/animaaillc/godmodeai_wan_punch/tree/main/epoch160\n"
     ]
    },
    {
     "name": "stderr",
     "output_type": "stream",
     "text": [
      " 36%|███▌      | 32/90 [00:28<01:13,  1.27s/it]"
     ]
    },
    {
     "name": "stdout",
     "output_type": "stream",
     "text": [
      "Start hashing 3 files.\n",
      "Finished hashing 3 files.\n",
      "Uploading files using Xet Storage..\n",
      "Uploading...: 100%|██████████████████████████| 307M/307M [00:07<00:00, 43.3MB/s]\n",
      "https://huggingface.co/animaaillc/godmodeai_wan_punch/tree/main/epoch165\n"
     ]
    },
    {
     "name": "stderr",
     "output_type": "stream",
     "text": [
      " 37%|███▋      | 33/90 [00:38<01:53,  1.98s/it]"
     ]
    },
    {
     "name": "stdout",
     "output_type": "stream",
     "text": [
      "Start hashing 3 files.\n",
      "Finished hashing 3 files.\n",
      "Uploading files using Xet Storage..\n",
      "Uploading...: 100%|██████████████████████████| 307M/307M [00:07<00:00, 42.7MB/s]\n",
      "https://huggingface.co/animaaillc/godmodeai_wan_punch/tree/main/epoch170\n"
     ]
    },
    {
     "name": "stderr",
     "output_type": "stream",
     "text": [
      " 38%|███▊      | 34/90 [00:47<02:34,  2.76s/it]"
     ]
    },
    {
     "name": "stdout",
     "output_type": "stream",
     "text": [
      "Start hashing 3 files.\n",
      "Finished hashing 3 files.\n",
      "Uploading files using Xet Storage..\n",
      "Uploading...: 100%|██████████████████████████| 307M/307M [00:06<00:00, 46.3MB/s]\n",
      "https://huggingface.co/animaaillc/godmodeai_wan_punch/tree/main/epoch175\n"
     ]
    },
    {
     "name": "stderr",
     "output_type": "stream",
     "text": [
      " 39%|███▉      | 35/90 [00:56<03:13,  3.52s/it]"
     ]
    },
    {
     "name": "stdout",
     "output_type": "stream",
     "text": [
      "Start hashing 3 files.\n",
      "Finished hashing 3 files.\n",
      "Uploading files using Xet Storage..\n",
      "Uploading...: 100%|██████████████████████████| 307M/307M [00:07<00:00, 40.5MB/s]\n",
      "https://huggingface.co/animaaillc/godmodeai_wan_punch/tree/main/epoch180\n"
     ]
    },
    {
     "name": "stderr",
     "output_type": "stream",
     "text": [
      " 40%|████      | 36/90 [01:06<04:02,  4.48s/it]"
     ]
    },
    {
     "name": "stdout",
     "output_type": "stream",
     "text": [
      "Start hashing 3 files.\n",
      "Finished hashing 3 files.\n",
      "Uploading files using Xet Storage..\n",
      "Uploading...: 100%|██████████████████████████| 307M/307M [00:06<00:00, 44.0MB/s]\n",
      "https://huggingface.co/animaaillc/godmodeai_wan_punch/tree/main/epoch185\n"
     ]
    },
    {
     "name": "stderr",
     "output_type": "stream",
     "text": [
      " 41%|████      | 37/90 [01:15<04:42,  5.33s/it]"
     ]
    },
    {
     "name": "stdout",
     "output_type": "stream",
     "text": [
      "Start hashing 3 files.\n",
      "Finished hashing 3 files.\n",
      "Uploading files using Xet Storage..\n",
      "Uploading...: 100%|██████████████████████████| 307M/307M [00:07<00:00, 40.1MB/s]\n",
      "https://huggingface.co/animaaillc/godmodeai_wan_punch/tree/main/epoch190\n"
     ]
    },
    {
     "name": "stderr",
     "output_type": "stream",
     "text": [
      " 42%|████▏     | 38/90 [01:27<05:47,  6.69s/it]"
     ]
    },
    {
     "name": "stdout",
     "output_type": "stream",
     "text": [
      "Start hashing 3 files.\n",
      "Finished hashing 3 files.\n",
      "Uploading files using Xet Storage..\n",
      "Uploading...: 100%|██████████████████████████| 307M/307M [00:06<00:00, 50.0MB/s]\n",
      "https://huggingface.co/animaaillc/godmodeai_wan_punch/tree/main/epoch195\n"
     ]
    },
    {
     "name": "stderr",
     "output_type": "stream",
     "text": [
      " 43%|████▎     | 39/90 [01:35<05:56,  7.00s/it]"
     ]
    },
    {
     "name": "stdout",
     "output_type": "stream",
     "text": [
      "Start hashing 3 files.\n",
      "Finished hashing 3 files.\n",
      "Uploading files using Xet Storage..\n",
      "Uploading...: 100%|██████████████████████████| 307M/307M [00:06<00:00, 44.4MB/s]\n",
      "https://huggingface.co/animaaillc/godmodeai_wan_punch/tree/main/epoch200\n"
     ]
    },
    {
     "name": "stderr",
     "output_type": "stream",
     "text": [
      " 44%|████▍     | 40/90 [01:44<06:13,  7.47s/it]"
     ]
    },
    {
     "name": "stdout",
     "output_type": "stream",
     "text": [
      "Start hashing 3 files.\n",
      "Finished hashing 3 files.\n",
      "Uploading files using Xet Storage..\n",
      "Uploading...: 100%|██████████████████████████| 307M/307M [00:06<00:00, 45.0MB/s]\n",
      "https://huggingface.co/animaaillc/godmodeai_wan_punch/tree/main/epoch205\n"
     ]
    },
    {
     "name": "stderr",
     "output_type": "stream",
     "text": [
      " 46%|████▌     | 41/90 [01:58<07:24,  9.07s/it]"
     ]
    },
    {
     "name": "stdout",
     "output_type": "stream",
     "text": [
      "Start hashing 3 files.\n",
      "Finished hashing 3 files.\n",
      "Uploading files using Xet Storage..\n",
      "Uploading...: 100%|██████████████████████████| 307M/307M [00:07<00:00, 41.3MB/s]\n",
      "https://huggingface.co/animaaillc/godmodeai_wan_punch/tree/main/epoch210\n"
     ]
    },
    {
     "name": "stderr",
     "output_type": "stream",
     "text": [
      " 47%|████▋     | 42/90 [02:07<07:21,  9.20s/it]"
     ]
    },
    {
     "name": "stdout",
     "output_type": "stream",
     "text": [
      "Start hashing 3 files.\n",
      "Finished hashing 3 files.\n",
      "Uploading files using Xet Storage..\n",
      "Uploading...: 100%|██████████████████████████| 307M/307M [00:08<00:00, 38.0MB/s]\n",
      "https://huggingface.co/animaaillc/godmodeai_wan_punch/tree/main/epoch215\n"
     ]
    },
    {
     "name": "stderr",
     "output_type": "stream",
     "text": [
      " 48%|████▊     | 43/90 [02:17<07:23,  9.44s/it]"
     ]
    },
    {
     "name": "stdout",
     "output_type": "stream",
     "text": [
      "Start hashing 3 files.\n",
      "Finished hashing 3 files.\n",
      "Uploading files using Xet Storage..\n",
      "Uploading...: 100%|██████████████████████████| 307M/307M [00:07<00:00, 41.1MB/s]\n",
      "https://huggingface.co/animaaillc/godmodeai_wan_punch/tree/main/epoch220\n"
     ]
    },
    {
     "name": "stderr",
     "output_type": "stream",
     "text": [
      " 49%|████▉     | 44/90 [02:27<07:16,  9.50s/it]"
     ]
    },
    {
     "name": "stdout",
     "output_type": "stream",
     "text": [
      "Start hashing 3 files.\n",
      "Finished hashing 3 files.\n",
      "Uploading files using Xet Storage..\n",
      "Uploading...: 100%|██████████████████████████| 307M/307M [00:06<00:00, 45.1MB/s]\n",
      "https://huggingface.co/animaaillc/godmodeai_wan_punch/tree/main/epoch225\n"
     ]
    },
    {
     "name": "stderr",
     "output_type": "stream",
     "text": [
      " 50%|█████     | 45/90 [02:36<06:58,  9.30s/it]"
     ]
    },
    {
     "name": "stdout",
     "output_type": "stream",
     "text": [
      "Start hashing 3 files.\n",
      "Finished hashing 3 files.\n",
      "Uploading files using Xet Storage..\n",
      "Uploading...: 100%|██████████████████████████| 307M/307M [00:07<00:00, 40.4MB/s]\n",
      "https://huggingface.co/animaaillc/godmodeai_wan_punch/tree/main/epoch230\n"
     ]
    },
    {
     "name": "stderr",
     "output_type": "stream",
     "text": [
      " 51%|█████     | 46/90 [02:46<06:57,  9.50s/it]"
     ]
    },
    {
     "name": "stdout",
     "output_type": "stream",
     "text": [
      "Start hashing 3 files.\n",
      "Finished hashing 3 files.\n",
      "Uploading files using Xet Storage..\n",
      "Uploading...: 100%|██████████████████████████| 307M/307M [00:07<00:00, 41.5MB/s]\n",
      "https://huggingface.co/animaaillc/godmodeai_wan_punch/tree/main/epoch235\n"
     ]
    },
    {
     "name": "stderr",
     "output_type": "stream",
     "text": [
      " 52%|█████▏    | 47/90 [02:55<06:46,  9.46s/it]"
     ]
    },
    {
     "name": "stdout",
     "output_type": "stream",
     "text": [
      "Start hashing 3 files.\n",
      "Finished hashing 3 files.\n",
      "Uploading files using Xet Storage..\n",
      "Uploading...: 100%|██████████████████████████| 307M/307M [00:09<00:00, 33.7MB/s]\n",
      "https://huggingface.co/animaaillc/godmodeai_wan_punch/tree/main/epoch240\n"
     ]
    },
    {
     "name": "stderr",
     "output_type": "stream",
     "text": [
      " 53%|█████▎    | 48/90 [03:06<07:00, 10.01s/it]"
     ]
    },
    {
     "name": "stdout",
     "output_type": "stream",
     "text": [
      "Start hashing 3 files.\n",
      "Finished hashing 3 files.\n",
      "Uploading files using Xet Storage..\n",
      "Uploading...: 100%|██████████████████████████| 307M/307M [00:09<00:00, 31.6MB/s]\n",
      "https://huggingface.co/animaaillc/godmodeai_wan_punch/tree/main/epoch245\n"
     ]
    },
    {
     "name": "stderr",
     "output_type": "stream",
     "text": [
      " 54%|█████▍    | 49/90 [03:18<07:12, 10.54s/it]"
     ]
    },
    {
     "name": "stdout",
     "output_type": "stream",
     "text": [
      "Start hashing 3 files.\n",
      "Finished hashing 3 files.\n",
      "Uploading files using Xet Storage..\n",
      "Uploading...: 100%|██████████████████████████| 307M/307M [00:07<00:00, 42.1MB/s]\n",
      "https://huggingface.co/animaaillc/godmodeai_wan_punch/tree/main/epoch250\n"
     ]
    },
    {
     "name": "stderr",
     "output_type": "stream",
     "text": [
      " 56%|█████▌    | 50/90 [03:27<06:46, 10.16s/it]"
     ]
    },
    {
     "name": "stdout",
     "output_type": "stream",
     "text": [
      "Start hashing 3 files.\n",
      "Finished hashing 3 files.\n",
      "Uploading files using Xet Storage..\n",
      "Uploading...: 100%|██████████████████████████| 307M/307M [00:07<00:00, 42.9MB/s]\n",
      "https://huggingface.co/animaaillc/godmodeai_wan_punch/tree/main/epoch255\n"
     ]
    },
    {
     "name": "stderr",
     "output_type": "stream",
     "text": [
      " 57%|█████▋    | 51/90 [03:37<06:28,  9.97s/it]"
     ]
    },
    {
     "name": "stdout",
     "output_type": "stream",
     "text": [
      "Start hashing 3 files.\n",
      "Finished hashing 3 files.\n",
      "Uploading files using Xet Storage..\n",
      "Uploading...: 100%|██████████████████████████| 307M/307M [00:06<00:00, 46.3MB/s]\n",
      "https://huggingface.co/animaaillc/godmodeai_wan_punch/tree/main/epoch260\n"
     ]
    },
    {
     "name": "stderr",
     "output_type": "stream",
     "text": [
      " 58%|█████▊    | 52/90 [03:46<06:03,  9.57s/it]"
     ]
    },
    {
     "name": "stdout",
     "output_type": "stream",
     "text": [
      "Start hashing 3 files.\n",
      "Finished hashing 3 files.\n",
      "Uploading files using Xet Storage..\n",
      "Uploading...: 100%|██████████████████████████| 307M/307M [00:07<00:00, 42.1MB/s]\n",
      "https://huggingface.co/animaaillc/godmodeai_wan_punch/tree/main/epoch265\n"
     ]
    },
    {
     "name": "stderr",
     "output_type": "stream",
     "text": [
      " 59%|█████▉    | 53/90 [03:55<05:52,  9.53s/it]"
     ]
    },
    {
     "name": "stdout",
     "output_type": "stream",
     "text": [
      "Start hashing 3 files.\n",
      "Finished hashing 3 files.\n",
      "Uploading files using Xet Storage..\n",
      "Uploading...: 100%|██████████████████████████| 307M/307M [00:07<00:00, 42.3MB/s]\n",
      "https://huggingface.co/animaaillc/godmodeai_wan_punch/tree/main/epoch270\n"
     ]
    },
    {
     "name": "stderr",
     "output_type": "stream",
     "text": [
      " 60%|██████    | 54/90 [04:04<05:39,  9.43s/it]"
     ]
    },
    {
     "name": "stdout",
     "output_type": "stream",
     "text": [
      "Start hashing 3 files.\n",
      "Finished hashing 3 files.\n",
      "Uploading files using Xet Storage..\n",
      "Uploading...: 100%|██████████████████████████| 307M/307M [00:07<00:00, 42.0MB/s]\n",
      "https://huggingface.co/animaaillc/godmodeai_wan_punch/tree/main/epoch275\n"
     ]
    },
    {
     "name": "stderr",
     "output_type": "stream",
     "text": [
      " 61%|██████    | 55/90 [04:14<05:30,  9.44s/it]"
     ]
    },
    {
     "name": "stdout",
     "output_type": "stream",
     "text": [
      "Start hashing 3 files.\n",
      "Finished hashing 3 files.\n",
      "Uploading files using Xet Storage..\n",
      "Uploading...: 100%|██████████████████████████| 307M/307M [00:06<00:00, 46.1MB/s]\n",
      "https://huggingface.co/animaaillc/godmodeai_wan_punch/tree/main/epoch280\n"
     ]
    },
    {
     "name": "stderr",
     "output_type": "stream",
     "text": [
      " 62%|██████▏   | 56/90 [04:22<05:12,  9.20s/it]"
     ]
    },
    {
     "name": "stdout",
     "output_type": "stream",
     "text": [
      "Start hashing 3 files.\n",
      "Finished hashing 3 files.\n",
      "Uploading files using Xet Storage..\n",
      "Uploading...: 100%|██████████████████████████| 307M/307M [00:07<00:00, 43.3MB/s]\n",
      "https://huggingface.co/animaaillc/godmodeai_wan_punch/tree/main/epoch285\n"
     ]
    },
    {
     "name": "stderr",
     "output_type": "stream",
     "text": [
      " 63%|██████▎   | 57/90 [04:31<05:01,  9.15s/it]"
     ]
    },
    {
     "name": "stdout",
     "output_type": "stream",
     "text": [
      "Start hashing 3 files.\n",
      "Finished hashing 3 files.\n",
      "Uploading files using Xet Storage..\n",
      "Uploading...: 100%|██████████████████████████| 307M/307M [00:07<00:00, 40.9MB/s]\n",
      "https://huggingface.co/animaaillc/godmodeai_wan_punch/tree/main/epoch290\n"
     ]
    },
    {
     "name": "stderr",
     "output_type": "stream",
     "text": [
      " 64%|██████▍   | 58/90 [04:41<04:55,  9.24s/it]"
     ]
    },
    {
     "name": "stdout",
     "output_type": "stream",
     "text": [
      "Start hashing 3 files.\n",
      "Finished hashing 3 files.\n",
      "Uploading files using Xet Storage..\n",
      "Uploading...: 100%|██████████████████████████| 307M/307M [00:07<00:00, 43.4MB/s]\n",
      "https://huggingface.co/animaaillc/godmodeai_wan_punch/tree/main/epoch295\n"
     ]
    },
    {
     "name": "stderr",
     "output_type": "stream",
     "text": [
      " 66%|██████▌   | 59/90 [04:50<04:48,  9.29s/it]"
     ]
    },
    {
     "name": "stdout",
     "output_type": "stream",
     "text": [
      "Start hashing 3 files.\n",
      "Finished hashing 3 files.\n",
      "Uploading files using Xet Storage..\n",
      "Uploading...: 100%|██████████████████████████| 307M/307M [00:07<00:00, 43.5MB/s]\n",
      "https://huggingface.co/animaaillc/godmodeai_wan_punch/tree/main/epoch300\n"
     ]
    },
    {
     "name": "stderr",
     "output_type": "stream",
     "text": [
      " 67%|██████▋   | 60/90 [05:00<04:39,  9.30s/it]"
     ]
    },
    {
     "name": "stdout",
     "output_type": "stream",
     "text": [
      "Start hashing 3 files.\n",
      "Finished hashing 3 files.\n",
      "Uploading files using Xet Storage..\n",
      "Uploading...: 100%|██████████████████████████| 307M/307M [00:06<00:00, 44.1MB/s]\n",
      "https://huggingface.co/animaaillc/godmodeai_wan_punch/tree/main/epoch305\n"
     ]
    },
    {
     "name": "stderr",
     "output_type": "stream",
     "text": [
      " 68%|██████▊   | 61/90 [05:09<04:26,  9.20s/it]"
     ]
    },
    {
     "name": "stdout",
     "output_type": "stream",
     "text": [
      "Start hashing 3 files.\n",
      "Finished hashing 3 files.\n",
      "Uploading files using Xet Storage..\n",
      "Uploading...: 100%|██████████████████████████| 307M/307M [00:07<00:00, 39.7MB/s]\n",
      "https://huggingface.co/animaaillc/godmodeai_wan_punch/tree/main/epoch310\n"
     ]
    },
    {
     "name": "stderr",
     "output_type": "stream",
     "text": [
      " 69%|██████▉   | 62/90 [05:18<04:23,  9.41s/it]"
     ]
    },
    {
     "name": "stdout",
     "output_type": "stream",
     "text": [
      "Start hashing 3 files.\n",
      "Finished hashing 3 files.\n",
      "Uploading files using Xet Storage..\n",
      "Uploading...: 100%|██████████████████████████| 307M/307M [00:07<00:00, 41.9MB/s]\n",
      "https://huggingface.co/animaaillc/godmodeai_wan_punch/tree/main/epoch315\n"
     ]
    },
    {
     "name": "stderr",
     "output_type": "stream",
     "text": [
      " 70%|███████   | 63/90 [05:28<04:14,  9.41s/it]"
     ]
    },
    {
     "name": "stdout",
     "output_type": "stream",
     "text": [
      "Start hashing 3 files.\n",
      "Finished hashing 3 files.\n",
      "Uploading files using Xet Storage..\n",
      "Uploading...: 100%|██████████████████████████| 307M/307M [00:07<00:00, 42.6MB/s]\n",
      "https://huggingface.co/animaaillc/godmodeai_wan_punch/tree/main/epoch320\n"
     ]
    },
    {
     "name": "stderr",
     "output_type": "stream",
     "text": [
      " 71%|███████   | 64/90 [05:37<04:03,  9.38s/it]"
     ]
    },
    {
     "name": "stdout",
     "output_type": "stream",
     "text": [
      "Start hashing 3 files.\n",
      "Finished hashing 3 files.\n",
      "Uploading files using Xet Storage..\n",
      "Uploading...: 100%|██████████████████████████| 307M/307M [00:06<00:00, 45.7MB/s]\n",
      "https://huggingface.co/animaaillc/godmodeai_wan_punch/tree/main/epoch325\n"
     ]
    },
    {
     "name": "stderr",
     "output_type": "stream",
     "text": [
      " 72%|███████▏  | 65/90 [05:46<03:50,  9.20s/it]"
     ]
    },
    {
     "name": "stdout",
     "output_type": "stream",
     "text": [
      "Start hashing 3 files.\n",
      "Finished hashing 3 files.\n",
      "Uploading files using Xet Storage..\n",
      "Uploading...: 100%|██████████████████████████| 307M/307M [00:07<00:00, 41.8MB/s]\n",
      "https://huggingface.co/animaaillc/godmodeai_wan_punch/tree/main/epoch330\n"
     ]
    },
    {
     "name": "stderr",
     "output_type": "stream",
     "text": [
      " 73%|███████▎  | 66/90 [05:55<03:41,  9.22s/it]"
     ]
    },
    {
     "name": "stdout",
     "output_type": "stream",
     "text": [
      "Start hashing 3 files.\n",
      "Finished hashing 3 files.\n",
      "Uploading files using Xet Storage..\n",
      "Uploading...: 100%|██████████████████████████| 307M/307M [00:06<00:00, 45.7MB/s]\n",
      "https://huggingface.co/animaaillc/godmodeai_wan_punch/tree/main/epoch335\n"
     ]
    },
    {
     "name": "stderr",
     "output_type": "stream",
     "text": [
      " 74%|███████▍  | 67/90 [06:04<03:30,  9.16s/it]"
     ]
    },
    {
     "name": "stdout",
     "output_type": "stream",
     "text": [
      "Start hashing 3 files.\n",
      "Finished hashing 3 files.\n",
      "Uploading files using Xet Storage..\n",
      "Uploading...: 100%|██████████████████████████| 307M/307M [00:06<00:00, 44.3MB/s]\n",
      "https://huggingface.co/animaaillc/godmodeai_wan_punch/tree/main/epoch340\n"
     ]
    },
    {
     "name": "stderr",
     "output_type": "stream",
     "text": [
      " 76%|███████▌  | 68/90 [06:13<03:19,  9.06s/it]"
     ]
    },
    {
     "name": "stdout",
     "output_type": "stream",
     "text": [
      "Start hashing 3 files.\n",
      "Finished hashing 3 files.\n",
      "Uploading files using Xet Storage..\n",
      "Uploading...: 100%|██████████████████████████| 307M/307M [00:07<00:00, 39.0MB/s]\n",
      "https://huggingface.co/animaaillc/godmodeai_wan_punch/tree/main/epoch345\n"
     ]
    },
    {
     "name": "stderr",
     "output_type": "stream",
     "text": [
      " 77%|███████▋  | 69/90 [06:23<03:16,  9.34s/it]"
     ]
    },
    {
     "name": "stdout",
     "output_type": "stream",
     "text": [
      "Start hashing 3 files.\n",
      "Finished hashing 3 files.\n",
      "Uploading files using Xet Storage..\n",
      "Uploading...: 100%|██████████████████████████| 307M/307M [00:07<00:00, 42.9MB/s]\n",
      "https://huggingface.co/animaaillc/godmodeai_wan_punch/tree/main/epoch350\n"
     ]
    },
    {
     "name": "stderr",
     "output_type": "stream",
     "text": [
      " 78%|███████▊  | 70/90 [06:32<03:05,  9.30s/it]"
     ]
    },
    {
     "name": "stdout",
     "output_type": "stream",
     "text": [
      "Start hashing 3 files.\n",
      "Finished hashing 3 files.\n",
      "Uploading files using Xet Storage..\n",
      "Uploading...:  78%|████████████████████▎     | 240M/307M [00:20<00:01, 49.3MB/s]^C\n",
      "Cancellation requested; stopping current tasks.\n",
      "Traceback (most recent call last):\n",
      "  File \"/opt/conda/lib/python3.11/site-packages/huggingface_hub/_commit_api.py\", line 598, in _upload_xet_files\n",
      "    upload_files(\n",
      "RuntimeError: Xet Runtime Error: Task cancelled; possible runtime shutdown in progress (task 62 was cancelled).\n",
      "\n",
      "During handling of the above exception, another exception occurred:\n",
      "\n",
      "Traceback (most recent call last):\n",
      "  File \"/opt/conda/bin/huggingface-cli\", line 8, in <module>\n",
      "    sys.exit(main())\n",
      "             ^^^^^^\n",
      "  File \"/opt/conda/lib/python3.11/site-packages/huggingface_hub/commands/huggingface_cli.py\", line 59, in main\n",
      "    service.run()\n",
      "  File \"/opt/conda/lib/python3.11/site-packages/huggingface_hub/commands/upload.py\", line 207, in run\n",
      "    print(self._upload())\n",
      "          ^^^^^^^^^^^^^^\n",
      "  File \"/opt/conda/lib/python3.11/site-packages/huggingface_hub/commands/upload.py\", line 302, in _upload\n",
      "    return self.api.upload_folder(\n",
      "           ^^^^^^^^^^^^^^^^^^^^^^^\n",
      "  File \"/opt/conda/lib/python3.11/site-packages/huggingface_hub/utils/_validators.py\", line 114, in _inner_fn\n",
      "    return fn(*args, **kwargs)\n",
      "           ^^^^^^^^^^^^^^^^^^^\n",
      "  File \"/opt/conda/lib/python3.11/site-packages/huggingface_hub/hf_api.py\", line 1633, in _inner\n",
      "    return fn(self, *args, **kwargs)\n",
      "           ^^^^^^^^^^^^^^^^^^^^^^^^^\n",
      "  File \"/opt/conda/lib/python3.11/site-packages/huggingface_hub/hf_api.py\", line 4945, in upload_folder\n",
      "    commit_info = self.create_commit(\n",
      "                  ^^^^^^^^^^^^^^^^^^^\n",
      "  File \"/opt/conda/lib/python3.11/site-packages/huggingface_hub/utils/_validators.py\", line 114, in _inner_fn\n",
      "    return fn(*args, **kwargs)\n",
      "           ^^^^^^^^^^^^^^^^^^^\n",
      "  File \"/opt/conda/lib/python3.11/site-packages/huggingface_hub/hf_api.py\", line 1633, in _inner\n",
      "    return fn(self, *args, **kwargs)\n",
      "           ^^^^^^^^^^^^^^^^^^^^^^^^^\n",
      "  File \"/opt/conda/lib/python3.11/site-packages/huggingface_hub/hf_api.py\", line 4202, in create_commit\n",
      "    self.preupload_lfs_files(\n",
      "  File \"/opt/conda/lib/python3.11/site-packages/huggingface_hub/hf_api.py\", line 4486, in preupload_lfs_files\n",
      "    _upload_xet_files(**upload_kwargs, create_pr=create_pr)  # type: ignore [arg-type]\n",
      "    ^^^^^^^^^^^^^^^^^^^^^^^^^^^^^^^^^^^^^^^^^^^^^^^^^^^^^^^\n",
      "  File \"/opt/conda/lib/python3.11/site-packages/huggingface_hub/utils/_validators.py\", line 114, in _inner_fn\n",
      "    return fn(*args, **kwargs)\n",
      "           ^^^^^^^^^^^^^^^^^^^\n",
      "  File \"/opt/conda/lib/python3.11/site-packages/huggingface_hub/_commit_api.py\", line 592, in _upload_xet_files\n",
      "    with progress_cm as progress:\n",
      "  File \"/opt/conda/lib/python3.11/site-packages/tqdm/std.py\", line 1138, in __exit__\n",
      "    def __exit__(self, exc_type, exc_value, traceback):\n",
      "\n",
      "KeyboardInterrupt\n"
     ]
    },
    {
     "name": "stderr",
     "output_type": "stream",
     "text": [
      " 79%|███████▉  | 71/90 [13:59<03:44, 11.82s/it] \n",
      "\n",
      "KeyboardInterrupt\n",
      "\n"
     ]
    }
   ],
   "source": [
    "from glob import glob\n",
    "from tqdm import tqdm\n",
    "\n",
    "\n",
    "start_epoch = 150\n",
    "\n",
    "end_epoch = 450\n",
    "\n",
    "#step = 10\n",
    "\n",
    "\n",
    "for f in tqdm(glob(f\"{base_path}/epoch*\")):\n",
    "    #print(f)\n",
    "    #continue\n",
    "    num = f.split(\"/\")[-1].replace(\"epoch\",\"\")\n",
    "    num = int(num)\n",
    "    # print(num)\n",
    "    if num >= start_epoch and (end_epoch is None or num <= end_epoch):\n",
    "        !huggingface-cli upload animaaillc/{repoid}  {f} epoch{num}"
   ]
  },
  {
   "cell_type": "code",
   "execution_count": 43,
   "id": "d329b692-8aa3-49fc-8f05-40e7cb92dc50",
   "metadata": {
    "scrolled": true
   },
   "outputs": [
    {
     "name": "stderr",
     "output_type": "stream",
     "text": [
      "  0%|          | 0/90 [00:00<?, ?it/s]"
     ]
    },
    {
     "name": "stdout",
     "output_type": "stream",
     "text": [
      "Start hashing 3 files.\n",
      "Finished hashing 3 files.\n",
      "Uploading files using Xet Storage..\n",
      "Uploading...: 100%|██████████████████████████| 307M/307M [00:07<00:00, 42.0MB/s]\n",
      "https://huggingface.co/animaaillc/godmodeai_wan_punch/tree/main/epoch365\n"
     ]
    },
    {
     "name": "stderr",
     "output_type": "stream",
     "text": [
      " 81%|████████  | 73/90 [00:09<00:02,  7.80it/s]"
     ]
    },
    {
     "name": "stdout",
     "output_type": "stream",
     "text": [
      "Start hashing 3 files.\n",
      "Finished hashing 3 files.\n",
      "Uploading files using Xet Storage..\n",
      "Uploading...: 100%|██████████████████████████| 307M/307M [00:07<00:00, 42.0MB/s]\n",
      "https://huggingface.co/animaaillc/godmodeai_wan_punch/tree/main/epoch370\n"
     ]
    },
    {
     "name": "stderr",
     "output_type": "stream",
     "text": [
      "100%|██████████| 90/90 [00:18<00:00,  4.84it/s]\n"
     ]
    }
   ],
   "source": [
    "from glob import glob\n",
    "from tqdm import tqdm\n",
    "\n",
    "\n",
    "start_epoch = 365\n",
    "\n",
    "end_epoch = 370\n",
    "\n",
    "#step = 10\n",
    "\n",
    "\n",
    "for f in tqdm(glob(f\"{base_path}/epoch*\")):\n",
    "    #print(f)\n",
    "    #continue\n",
    "    num = f.split(\"/\")[-1].replace(\"epoch\",\"\")\n",
    "    num = int(num)\n",
    "    # print(num)\n",
    "    if num >= start_epoch and (end_epoch is None or num <= end_epoch):\n",
    "        !huggingface-cli upload animaaillc/{repoid}  {f} epoch{num}"
   ]
  },
  {
   "cell_type": "code",
   "execution_count": null,
   "id": "b597dcaa-5977-483f-8f93-a2be1f030a09",
   "metadata": {},
   "outputs": [],
   "source": []
  },
  {
   "cell_type": "markdown",
   "id": "1b3575e5-6e69-4c8c-8578-ae3f2c5117c0",
   "metadata": {},
   "source": [
    "# for shoryuken "
   ]
  },
  {
   "cell_type": "code",
   "execution_count": 8,
   "id": "572ddf00-304a-4789-9a0f-fa1bcc5dc658",
   "metadata": {},
   "outputs": [],
   "source": [
    "base_path = \"/root/data/diffusion_pipe_training_runs/wan_video/20250602_14-30-45\""
   ]
  },
  {
   "cell_type": "code",
   "execution_count": 4,
   "id": "9c6c8b6a-b5fd-49fb-b457-94e666bcc918",
   "metadata": {},
   "outputs": [],
   "source": [
    "repoid = \"godmodeai_wan_shoryukenv2\""
   ]
  },
  {
   "cell_type": "code",
   "execution_count": 5,
   "id": "1d3db3aa-0c71-49da-a785-cd1e413daf56",
   "metadata": {},
   "outputs": [
    {
     "name": "stdout",
     "output_type": "stream",
     "text": [
      "godmodeai_wan_shoryukenv2\n"
     ]
    }
   ],
   "source": [
    "!echo {repoid} "
   ]
  },
  {
   "cell_type": "code",
   "execution_count": 6,
   "id": "a8bb23fb-2a33-434a-8255-616552360d63",
   "metadata": {},
   "outputs": [
    {
     "name": "stdout",
     "output_type": "stream",
     "text": [
      "Successfully created \u001b[1manimaaillc/godmodeai_wan_shoryukenv2\u001b[0m on the Hub.\n",
      "Your repo is now available at \u001b[1mhttps://huggingface.co/animaaillc/godmodeai_wan_shoryukenv2\u001b[0m\n"
     ]
    }
   ],
   "source": [
    "!huggingface-cli repo create --private animaaillc/{repoid} "
   ]
  },
  {
   "cell_type": "code",
   "execution_count": 9,
   "id": "633e4619-16e1-43b8-a9bc-a2469fe9ca5d",
   "metadata": {
    "collapsed": true,
    "jupyter": {
     "outputs_hidden": true
    }
   },
   "outputs": [
    {
     "name": "stderr",
     "output_type": "stream",
     "text": [
      "  0%|          | 0/96 [00:00<?, ?it/s]"
     ]
    },
    {
     "name": "stdout",
     "output_type": "stream",
     "text": [
      "Start hashing 3 files.\n",
      "Finished hashing 3 files.\n",
      "Uploading files using Xet Storage..\n",
      "Uploading...: 100%|██████████████████████████| 307M/307M [00:08<00:00, 36.4MB/s]\n",
      "https://huggingface.co/animaaillc/godmodeai_wan_shoryukenv2/tree/main/epoch150\n"
     ]
    },
    {
     "name": "stderr",
     "output_type": "stream",
     "text": [
      " 31%|███▏      | 30/96 [00:10<00:23,  2.80it/s]"
     ]
    },
    {
     "name": "stdout",
     "output_type": "stream",
     "text": [
      "Start hashing 3 files.\n",
      "Finished hashing 3 files.\n",
      "Uploading files using Xet Storage..\n",
      "Uploading...: 100%|██████████████████████████| 307M/307M [00:06<00:00, 44.0MB/s]\n",
      "https://huggingface.co/animaaillc/godmodeai_wan_shoryukenv2/tree/main/epoch155\n"
     ]
    },
    {
     "name": "stderr",
     "output_type": "stream",
     "text": [
      " 32%|███▏      | 31/96 [00:20<00:50,  1.28it/s]"
     ]
    },
    {
     "name": "stdout",
     "output_type": "stream",
     "text": [
      "Start hashing 3 files.\n",
      "Finished hashing 3 files.\n",
      "Uploading files using Xet Storage..\n",
      "Uploading...: 100%|██████████████████████████| 307M/307M [00:07<00:00, 41.7MB/s]\n",
      "https://huggingface.co/animaaillc/godmodeai_wan_shoryukenv2/tree/main/epoch160\n"
     ]
    },
    {
     "name": "stderr",
     "output_type": "stream",
     "text": [
      " 33%|███▎      | 32/96 [00:30<01:24,  1.32s/it]"
     ]
    },
    {
     "name": "stdout",
     "output_type": "stream",
     "text": [
      "Start hashing 3 files.\n",
      "Finished hashing 3 files.\n",
      "Uploading files using Xet Storage..\n",
      "Uploading...: 100%|██████████████████████████| 307M/307M [00:07<00:00, 43.6MB/s]\n",
      "https://huggingface.co/animaaillc/godmodeai_wan_shoryukenv2/tree/main/epoch165\n"
     ]
    },
    {
     "name": "stderr",
     "output_type": "stream",
     "text": [
      " 34%|███▍      | 33/96 [00:39<02:03,  1.96s/it]"
     ]
    },
    {
     "name": "stdout",
     "output_type": "stream",
     "text": [
      "Start hashing 3 files.\n",
      "Finished hashing 3 files.\n",
      "Uploading files using Xet Storage..\n",
      "Uploading...: 100%|██████████████████████████| 307M/307M [00:07<00:00, 42.0MB/s]\n",
      "https://huggingface.co/animaaillc/godmodeai_wan_shoryukenv2/tree/main/epoch170\n"
     ]
    },
    {
     "name": "stderr",
     "output_type": "stream",
     "text": [
      " 35%|███▌      | 34/96 [00:49<02:55,  2.83s/it]"
     ]
    },
    {
     "name": "stdout",
     "output_type": "stream",
     "text": [
      "Start hashing 3 files.\n",
      "Finished hashing 3 files.\n",
      "Uploading files using Xet Storage..\n",
      "Uploading...: 100%|██████████████████████████| 307M/307M [00:07<00:00, 42.0MB/s]\n",
      "https://huggingface.co/animaaillc/godmodeai_wan_shoryukenv2/tree/main/epoch175\n"
     ]
    },
    {
     "name": "stderr",
     "output_type": "stream",
     "text": [
      " 36%|███▋      | 35/96 [00:59<03:49,  3.75s/it]"
     ]
    },
    {
     "name": "stdout",
     "output_type": "stream",
     "text": [
      "Start hashing 3 files.\n",
      "Finished hashing 3 files.\n",
      "Uploading files using Xet Storage..\n",
      "Uploading...: 100%|██████████████████████████| 307M/307M [00:07<00:00, 42.7MB/s]\n",
      "https://huggingface.co/animaaillc/godmodeai_wan_shoryukenv2/tree/main/epoch180\n"
     ]
    },
    {
     "name": "stderr",
     "output_type": "stream",
     "text": [
      " 38%|███▊      | 36/96 [01:09<04:38,  4.64s/it]"
     ]
    },
    {
     "name": "stdout",
     "output_type": "stream",
     "text": [
      "Start hashing 3 files.\n",
      "Finished hashing 3 files.\n",
      "Uploading files using Xet Storage..\n",
      "Uploading...: 100%|██████████████████████████| 307M/307M [00:07<00:00, 41.9MB/s]\n",
      "https://huggingface.co/animaaillc/godmodeai_wan_shoryukenv2/tree/main/epoch185\n"
     ]
    },
    {
     "name": "stderr",
     "output_type": "stream",
     "text": [
      " 39%|███▊      | 37/96 [01:18<05:27,  5.55s/it]"
     ]
    },
    {
     "name": "stdout",
     "output_type": "stream",
     "text": [
      "Start hashing 3 files.\n",
      "Finished hashing 3 files.\n",
      "Uploading files using Xet Storage..\n",
      "Uploading...: 100%|██████████████████████████| 307M/307M [00:07<00:00, 40.5MB/s]\n",
      "https://huggingface.co/animaaillc/godmodeai_wan_shoryukenv2/tree/main/epoch190\n"
     ]
    },
    {
     "name": "stderr",
     "output_type": "stream",
     "text": [
      " 40%|███▉      | 38/96 [01:29<06:17,  6.50s/it]"
     ]
    },
    {
     "name": "stdout",
     "output_type": "stream",
     "text": [
      "Start hashing 3 files.\n",
      "Finished hashing 3 files.\n",
      "Uploading files using Xet Storage..\n",
      "Uploading...: 100%|██████████████████████████| 307M/307M [00:07<00:00, 41.4MB/s]\n",
      "https://huggingface.co/animaaillc/godmodeai_wan_shoryukenv2/tree/main/epoch195\n"
     ]
    },
    {
     "name": "stderr",
     "output_type": "stream",
     "text": [
      " 41%|████      | 39/96 [01:38<06:52,  7.24s/it]"
     ]
    },
    {
     "name": "stdout",
     "output_type": "stream",
     "text": [
      "Start hashing 3 files.\n",
      "Finished hashing 3 files.\n",
      "Uploading files using Xet Storage..\n",
      "Uploading...: 100%|██████████████████████████| 307M/307M [00:07<00:00, 39.6MB/s]\n",
      "https://huggingface.co/animaaillc/godmodeai_wan_shoryukenv2/tree/main/epoch200\n"
     ]
    },
    {
     "name": "stderr",
     "output_type": "stream",
     "text": [
      " 42%|████▏     | 40/96 [01:48<07:23,  7.91s/it]"
     ]
    },
    {
     "name": "stdout",
     "output_type": "stream",
     "text": [
      "Start hashing 3 files.\n",
      "Finished hashing 3 files.\n",
      "Uploading files using Xet Storage..\n",
      "Uploading...: 100%|██████████████████████████| 307M/307M [00:07<00:00, 42.3MB/s]\n",
      "https://huggingface.co/animaaillc/godmodeai_wan_shoryukenv2/tree/main/epoch205\n"
     ]
    },
    {
     "name": "stderr",
     "output_type": "stream",
     "text": [
      " 43%|████▎     | 41/96 [01:59<07:50,  8.55s/it]"
     ]
    },
    {
     "name": "stdout",
     "output_type": "stream",
     "text": [
      "Start hashing 3 files.\n",
      "Finished hashing 3 files.\n",
      "Uploading files using Xet Storage..\n",
      "Uploading...: 100%|██████████████████████████| 307M/307M [00:07<00:00, 42.4MB/s]\n",
      "https://huggingface.co/animaaillc/godmodeai_wan_shoryukenv2/tree/main/epoch210\n"
     ]
    },
    {
     "name": "stderr",
     "output_type": "stream",
     "text": [
      " 44%|████▍     | 42/96 [02:09<08:05,  8.99s/it]"
     ]
    },
    {
     "name": "stdout",
     "output_type": "stream",
     "text": [
      "Start hashing 3 files.\n",
      "Finished hashing 3 files.\n",
      "Uploading files using Xet Storage..\n",
      "Uploading...: 100%|██████████████████████████| 307M/307M [00:24<00:00, 12.3MB/s]\n",
      "https://huggingface.co/animaaillc/godmodeai_wan_shoryukenv2/tree/main/epoch215\n"
     ]
    },
    {
     "name": "stderr",
     "output_type": "stream",
     "text": [
      " 45%|████▍     | 43/96 [02:40<13:16, 15.02s/it]"
     ]
    },
    {
     "name": "stdout",
     "output_type": "stream",
     "text": [
      "Start hashing 3 files.\n",
      "Finished hashing 3 files.\n",
      "Uploading files using Xet Storage..\n",
      "Uploading...: 100%|██████████████████████████| 307M/307M [00:08<00:00, 38.0MB/s]\n",
      "https://huggingface.co/animaaillc/godmodeai_wan_shoryukenv2/tree/main/epoch220\n"
     ]
    },
    {
     "name": "stderr",
     "output_type": "stream",
     "text": [
      " 46%|████▌     | 44/96 [02:51<12:03, 13.91s/it]"
     ]
    },
    {
     "name": "stdout",
     "output_type": "stream",
     "text": [
      "Start hashing 3 files.\n",
      "Finished hashing 3 files.\n",
      "Uploading files using Xet Storage..\n",
      "Uploading...: 100%|██████████████████████████| 307M/307M [00:06<00:00, 44.5MB/s]\n",
      "https://huggingface.co/animaaillc/godmodeai_wan_shoryukenv2/tree/main/epoch225\n"
     ]
    },
    {
     "name": "stderr",
     "output_type": "stream",
     "text": [
      " 47%|████▋     | 45/96 [03:01<10:55, 12.85s/it]"
     ]
    },
    {
     "name": "stdout",
     "output_type": "stream",
     "text": [
      "Start hashing 3 files.\n",
      "Finished hashing 3 files.\n",
      "Uploading files using Xet Storage..\n",
      "Uploading...: 100%|██████████████████████████| 307M/307M [00:07<00:00, 41.9MB/s]\n",
      "https://huggingface.co/animaaillc/godmodeai_wan_shoryukenv2/tree/main/epoch230\n"
     ]
    },
    {
     "name": "stderr",
     "output_type": "stream",
     "text": [
      " 48%|████▊     | 46/96 [03:11<09:55, 11.91s/it]"
     ]
    },
    {
     "name": "stdout",
     "output_type": "stream",
     "text": [
      "Start hashing 3 files.\n",
      "Finished hashing 3 files.\n",
      "Uploading files using Xet Storage..\n",
      "Uploading...: 100%|██████████████████████████| 307M/307M [00:07<00:00, 41.7MB/s]\n",
      "https://huggingface.co/animaaillc/godmodeai_wan_shoryukenv2/tree/main/epoch235\n"
     ]
    },
    {
     "name": "stderr",
     "output_type": "stream",
     "text": [
      " 49%|████▉     | 47/96 [03:21<09:22, 11.47s/it]"
     ]
    },
    {
     "name": "stdout",
     "output_type": "stream",
     "text": [
      "Start hashing 3 files.\n",
      "Finished hashing 3 files.\n",
      "Uploading files using Xet Storage..\n",
      "Uploading...: 100%|██████████████████████████| 307M/307M [00:11<00:00, 25.8MB/s]\n",
      "https://huggingface.co/animaaillc/godmodeai_wan_shoryukenv2/tree/main/epoch240\n"
     ]
    },
    {
     "name": "stderr",
     "output_type": "stream",
     "text": [
      " 50%|█████     | 48/96 [03:35<09:51, 12.33s/it]"
     ]
    },
    {
     "name": "stdout",
     "output_type": "stream",
     "text": [
      "Start hashing 3 files.\n",
      "Finished hashing 3 files.\n",
      "Uploading files using Xet Storage..\n",
      "Uploading...: 100%|██████████████████████████| 307M/307M [00:07<00:00, 42.6MB/s]\n",
      "https://huggingface.co/animaaillc/godmodeai_wan_shoryukenv2/tree/main/epoch245\n"
     ]
    },
    {
     "name": "stderr",
     "output_type": "stream",
     "text": [
      " 51%|█████     | 49/96 [03:45<08:57, 11.44s/it]"
     ]
    },
    {
     "name": "stdout",
     "output_type": "stream",
     "text": [
      "Start hashing 3 files.\n",
      "Finished hashing 3 files.\n",
      "Uploading files using Xet Storage..\n",
      "Uploading...: 100%|██████████████████████████| 307M/307M [00:07<00:00, 38.6MB/s]\n",
      "https://huggingface.co/animaaillc/godmodeai_wan_shoryukenv2/tree/main/epoch250\n"
     ]
    },
    {
     "name": "stderr",
     "output_type": "stream",
     "text": [
      " 52%|█████▏    | 50/96 [03:55<08:31, 11.12s/it]"
     ]
    },
    {
     "name": "stdout",
     "output_type": "stream",
     "text": [
      "Start hashing 3 files.\n",
      "Finished hashing 3 files.\n",
      "Uploading files using Xet Storage..\n",
      "Uploading...: 100%|██████████████████████████| 307M/307M [00:07<00:00, 40.4MB/s]\n",
      "https://huggingface.co/animaaillc/godmodeai_wan_shoryukenv2/tree/main/epoch255\n"
     ]
    },
    {
     "name": "stderr",
     "output_type": "stream",
     "text": [
      " 53%|█████▎    | 51/96 [04:05<08:03, 10.74s/it]"
     ]
    },
    {
     "name": "stdout",
     "output_type": "stream",
     "text": [
      "Start hashing 3 files.\n",
      "Finished hashing 3 files.\n",
      "Uploading files using Xet Storage..\n",
      "Uploading...: 100%|██████████████████████████| 307M/307M [00:07<00:00, 41.7MB/s]\n",
      "https://huggingface.co/animaaillc/godmodeai_wan_shoryukenv2/tree/main/epoch260\n"
     ]
    },
    {
     "name": "stderr",
     "output_type": "stream",
     "text": [
      " 54%|█████▍    | 52/96 [04:15<07:37, 10.41s/it]"
     ]
    },
    {
     "name": "stdout",
     "output_type": "stream",
     "text": [
      "Start hashing 3 files.\n",
      "Finished hashing 3 files.\n",
      "Uploading files using Xet Storage..\n",
      "Uploading...: 100%|██████████████████████████| 307M/307M [00:07<00:00, 38.9MB/s]\n",
      "https://huggingface.co/animaaillc/godmodeai_wan_shoryukenv2/tree/main/epoch265\n"
     ]
    },
    {
     "name": "stderr",
     "output_type": "stream",
     "text": [
      " 55%|█████▌    | 53/96 [04:25<07:23, 10.31s/it]"
     ]
    },
    {
     "name": "stdout",
     "output_type": "stream",
     "text": [
      "Start hashing 3 files.\n",
      "Finished hashing 3 files.\n",
      "Uploading files using Xet Storage..\n",
      "Uploading...: 100%|██████████████████████████| 307M/307M [00:07<00:00, 39.0MB/s]\n",
      "https://huggingface.co/animaaillc/godmodeai_wan_shoryukenv2/tree/main/epoch270\n"
     ]
    },
    {
     "name": "stderr",
     "output_type": "stream",
     "text": [
      " 56%|█████▋    | 54/96 [04:35<07:15, 10.36s/it]"
     ]
    },
    {
     "name": "stdout",
     "output_type": "stream",
     "text": [
      "Start hashing 3 files.\n",
      "Finished hashing 3 files.\n",
      "Uploading files using Xet Storage..\n",
      "Uploading...: 100%|██████████████████████████| 307M/307M [00:07<00:00, 39.1MB/s]\n",
      "https://huggingface.co/animaaillc/godmodeai_wan_shoryukenv2/tree/main/epoch275\n"
     ]
    },
    {
     "name": "stderr",
     "output_type": "stream",
     "text": [
      " 57%|█████▋    | 55/96 [04:45<07:03, 10.34s/it]"
     ]
    },
    {
     "name": "stdout",
     "output_type": "stream",
     "text": [
      "Start hashing 3 files.\n",
      "Finished hashing 3 files.\n",
      "Uploading files using Xet Storage..\n",
      "Uploading...: 100%|██████████████████████████| 307M/307M [00:07<00:00, 42.7MB/s]\n",
      "https://huggingface.co/animaaillc/godmodeai_wan_shoryukenv2/tree/main/epoch280\n"
     ]
    },
    {
     "name": "stderr",
     "output_type": "stream",
     "text": [
      " 58%|█████▊    | 56/96 [04:55<06:40, 10.02s/it]"
     ]
    },
    {
     "name": "stdout",
     "output_type": "stream",
     "text": [
      "Start hashing 3 files.\n",
      "Finished hashing 3 files.\n",
      "Uploading files using Xet Storage..\n",
      "Uploading...: 100%|██████████████████████████| 307M/307M [00:07<00:00, 43.0MB/s]\n",
      "https://huggingface.co/animaaillc/godmodeai_wan_shoryukenv2/tree/main/epoch285\n"
     ]
    },
    {
     "name": "stderr",
     "output_type": "stream",
     "text": [
      " 59%|█████▉    | 57/96 [05:05<06:29,  9.98s/it]"
     ]
    },
    {
     "name": "stdout",
     "output_type": "stream",
     "text": [
      "Start hashing 3 files.\n",
      "Finished hashing 3 files.\n",
      "Uploading files using Xet Storage..\n",
      "Uploading...: 100%|██████████████████████████| 307M/307M [00:07<00:00, 40.7MB/s]\n",
      "https://huggingface.co/animaaillc/godmodeai_wan_shoryukenv2/tree/main/epoch290\n"
     ]
    },
    {
     "name": "stderr",
     "output_type": "stream",
     "text": [
      " 60%|██████    | 58/96 [05:15<06:19,  9.98s/it]"
     ]
    },
    {
     "name": "stdout",
     "output_type": "stream",
     "text": [
      "Start hashing 3 files.\n",
      "Finished hashing 3 files.\n",
      "Uploading files using Xet Storage..\n",
      "Uploading...: 100%|██████████████████████████| 307M/307M [00:07<00:00, 39.1MB/s]\n",
      "https://huggingface.co/animaaillc/godmodeai_wan_shoryukenv2/tree/main/epoch295\n"
     ]
    },
    {
     "name": "stderr",
     "output_type": "stream",
     "text": [
      " 61%|██████▏   | 59/96 [05:25<06:14, 10.11s/it]"
     ]
    },
    {
     "name": "stdout",
     "output_type": "stream",
     "text": [
      "Start hashing 3 files.\n",
      "Finished hashing 3 files.\n",
      "Uploading files using Xet Storage..\n",
      "Uploading...: 100%|██████████████████████████| 307M/307M [00:07<00:00, 42.3MB/s]\n",
      "https://huggingface.co/animaaillc/godmodeai_wan_shoryukenv2/tree/main/epoch300\n"
     ]
    },
    {
     "name": "stderr",
     "output_type": "stream",
     "text": [
      " 62%|██████▎   | 60/96 [05:35<05:57,  9.93s/it]"
     ]
    },
    {
     "name": "stdout",
     "output_type": "stream",
     "text": [
      "Start hashing 3 files.\n",
      "Finished hashing 3 files.\n",
      "Uploading files using Xet Storage..\n",
      "Uploading...: 100%|██████████████████████████| 307M/307M [00:07<00:00, 42.5MB/s]\n",
      "https://huggingface.co/animaaillc/godmodeai_wan_shoryukenv2/tree/main/epoch305\n"
     ]
    },
    {
     "name": "stderr",
     "output_type": "stream",
     "text": [
      " 64%|██████▎   | 61/96 [05:44<05:42,  9.79s/it]"
     ]
    },
    {
     "name": "stdout",
     "output_type": "stream",
     "text": [
      "Start hashing 3 files.\n",
      "Finished hashing 3 files.\n",
      "Uploading files using Xet Storage..\n",
      "Uploading...: 100%|██████████████████████████| 307M/307M [00:11<00:00, 25.7MB/s]\n",
      "https://huggingface.co/animaaillc/godmodeai_wan_shoryukenv2/tree/main/epoch310\n"
     ]
    },
    {
     "name": "stderr",
     "output_type": "stream",
     "text": [
      " 65%|██████▍   | 62/96 [05:59<06:24, 11.31s/it]"
     ]
    },
    {
     "name": "stdout",
     "output_type": "stream",
     "text": [
      "Start hashing 3 files.\n",
      "Finished hashing 3 files.\n",
      "Uploading files using Xet Storage..\n",
      "Uploading...: 100%|██████████████████████████| 307M/307M [00:07<00:00, 41.4MB/s]\n",
      "https://huggingface.co/animaaillc/godmodeai_wan_shoryukenv2/tree/main/epoch315\n"
     ]
    },
    {
     "name": "stderr",
     "output_type": "stream",
     "text": [
      " 66%|██████▌   | 63/96 [06:09<05:57, 10.83s/it]"
     ]
    },
    {
     "name": "stdout",
     "output_type": "stream",
     "text": [
      "Start hashing 3 files.\n",
      "Finished hashing 3 files.\n",
      "Uploading files using Xet Storage..\n",
      "Uploading...: 100%|██████████████████████████| 307M/307M [00:07<00:00, 40.3MB/s]\n",
      "https://huggingface.co/animaaillc/godmodeai_wan_shoryukenv2/tree/main/epoch320\n"
     ]
    },
    {
     "name": "stderr",
     "output_type": "stream",
     "text": [
      " 67%|██████▋   | 64/96 [06:21<05:57, 11.17s/it]"
     ]
    },
    {
     "name": "stdout",
     "output_type": "stream",
     "text": [
      "Start hashing 3 files.\n",
      "Finished hashing 3 files.\n",
      "Uploading files using Xet Storage..\n",
      "Uploading...: 100%|██████████████████████████| 307M/307M [00:11<00:00, 25.9MB/s]\n",
      "https://huggingface.co/animaaillc/godmodeai_wan_shoryukenv2/tree/main/epoch325\n"
     ]
    },
    {
     "name": "stderr",
     "output_type": "stream",
     "text": [
      " 68%|██████▊   | 65/96 [06:35<06:14, 12.08s/it]"
     ]
    },
    {
     "name": "stdout",
     "output_type": "stream",
     "text": [
      "Start hashing 3 files.\n",
      "Finished hashing 3 files.\n",
      "Uploading files using Xet Storage..\n",
      "Uploading...: 100%|██████████████████████████| 307M/307M [00:07<00:00, 41.5MB/s]\n",
      "https://huggingface.co/animaaillc/godmodeai_wan_shoryukenv2/tree/main/epoch330\n"
     ]
    },
    {
     "name": "stderr",
     "output_type": "stream",
     "text": [
      " 69%|██████▉   | 66/96 [06:45<05:48, 11.60s/it]"
     ]
    },
    {
     "name": "stdout",
     "output_type": "stream",
     "text": [
      "Start hashing 3 files.\n",
      "Finished hashing 3 files.\n",
      "Uploading files using Xet Storage..\n",
      "Uploading...: 100%|██████████████████████████| 307M/307M [00:07<00:00, 39.5MB/s]\n",
      "https://huggingface.co/animaaillc/godmodeai_wan_shoryukenv2/tree/main/epoch335\n"
     ]
    },
    {
     "name": "stderr",
     "output_type": "stream",
     "text": [
      " 70%|██████▉   | 67/96 [06:56<05:26, 11.27s/it]"
     ]
    },
    {
     "name": "stdout",
     "output_type": "stream",
     "text": [
      "Start hashing 3 files.\n",
      "Finished hashing 3 files.\n",
      "Uploading files using Xet Storage..\n",
      "Uploading...: 100%|██████████████████████████| 307M/307M [00:07<00:00, 40.7MB/s]\n",
      "https://huggingface.co/animaaillc/godmodeai_wan_shoryukenv2/tree/main/epoch340\n"
     ]
    },
    {
     "name": "stderr",
     "output_type": "stream",
     "text": [
      " 71%|███████   | 68/96 [07:06<05:03, 10.83s/it]"
     ]
    },
    {
     "name": "stdout",
     "output_type": "stream",
     "text": [
      "Start hashing 3 files.\n",
      "Finished hashing 3 files.\n",
      "Uploading files using Xet Storage..\n",
      "Uploading...: 100%|██████████████████████████| 307M/307M [00:07<00:00, 39.6MB/s]\n",
      "https://huggingface.co/animaaillc/godmodeai_wan_shoryukenv2/tree/main/epoch345\n"
     ]
    },
    {
     "name": "stderr",
     "output_type": "stream",
     "text": [
      " 72%|███████▏  | 69/96 [07:16<04:49, 10.71s/it]"
     ]
    },
    {
     "name": "stdout",
     "output_type": "stream",
     "text": [
      "Start hashing 3 files.\n",
      "Finished hashing 3 files.\n",
      "Uploading files using Xet Storage..\n",
      "Uploading...: 100%|██████████████████████████| 307M/307M [00:07<00:00, 39.6MB/s]\n",
      "https://huggingface.co/animaaillc/godmodeai_wan_shoryukenv2/tree/main/epoch350\n"
     ]
    },
    {
     "name": "stderr",
     "output_type": "stream",
     "text": [
      " 73%|███████▎  | 70/96 [07:26<04:35, 10.59s/it]"
     ]
    },
    {
     "name": "stdout",
     "output_type": "stream",
     "text": [
      "Start hashing 3 files.\n",
      "Finished hashing 3 files.\n",
      "Uploading files using Xet Storage..\n",
      "Uploading...: 100%|██████████████████████████| 307M/307M [00:08<00:00, 36.0MB/s]\n",
      "https://huggingface.co/animaaillc/godmodeai_wan_shoryukenv2/tree/main/epoch355\n"
     ]
    },
    {
     "name": "stderr",
     "output_type": "stream",
     "text": [
      " 74%|███████▍  | 71/96 [07:39<04:42, 11.31s/it]"
     ]
    },
    {
     "name": "stdout",
     "output_type": "stream",
     "text": [
      "Start hashing 3 files.\n",
      "Finished hashing 3 files.\n",
      "Uploading files using Xet Storage..\n",
      "Uploading...: 100%|██████████████████████████| 307M/307M [00:07<00:00, 41.2MB/s]\n",
      "https://huggingface.co/animaaillc/godmodeai_wan_shoryukenv2/tree/main/epoch360\n"
     ]
    },
    {
     "name": "stderr",
     "output_type": "stream",
     "text": [
      " 75%|███████▌  | 72/96 [07:49<04:22, 10.94s/it]"
     ]
    },
    {
     "name": "stdout",
     "output_type": "stream",
     "text": [
      "Start hashing 3 files.\n",
      "Finished hashing 3 files.\n",
      "Uploading files using Xet Storage..\n",
      "Uploading...: 100%|██████████████████████████| 307M/307M [00:07<00:00, 41.4MB/s]\n",
      "https://huggingface.co/animaaillc/godmodeai_wan_shoryukenv2/tree/main/epoch365\n"
     ]
    },
    {
     "name": "stderr",
     "output_type": "stream",
     "text": [
      " 76%|███████▌  | 73/96 [07:59<04:04, 10.61s/it]"
     ]
    },
    {
     "name": "stdout",
     "output_type": "stream",
     "text": [
      "Start hashing 3 files.\n",
      "Finished hashing 3 files.\n",
      "Uploading files using Xet Storage..\n",
      "Uploading...: 100%|██████████████████████████| 307M/307M [00:07<00:00, 40.9MB/s]\n",
      "https://huggingface.co/animaaillc/godmodeai_wan_shoryukenv2/tree/main/epoch370\n"
     ]
    },
    {
     "name": "stderr",
     "output_type": "stream",
     "text": [
      " 77%|███████▋  | 74/96 [08:10<03:52, 10.58s/it]"
     ]
    },
    {
     "name": "stdout",
     "output_type": "stream",
     "text": [
      "Start hashing 3 files.\n",
      "Finished hashing 3 files.\n",
      "Uploading files using Xet Storage..\n",
      "Uploading...: 100%|██████████████████████████| 307M/307M [00:07<00:00, 40.5MB/s]\n",
      "https://huggingface.co/animaaillc/godmodeai_wan_shoryukenv2/tree/main/epoch375\n"
     ]
    },
    {
     "name": "stderr",
     "output_type": "stream",
     "text": [
      " 78%|███████▊  | 75/96 [08:20<03:37, 10.38s/it]"
     ]
    },
    {
     "name": "stdout",
     "output_type": "stream",
     "text": [
      "Start hashing 3 files.\n",
      "Finished hashing 3 files.\n",
      "Uploading files using Xet Storage..\n",
      "Uploading...: 100%|██████████████████████████| 307M/307M [00:07<00:00, 41.2MB/s]\n",
      "https://huggingface.co/animaaillc/godmodeai_wan_shoryukenv2/tree/main/epoch380\n"
     ]
    },
    {
     "name": "stderr",
     "output_type": "stream",
     "text": [
      " 79%|███████▉  | 76/96 [08:29<03:23, 10.16s/it]"
     ]
    },
    {
     "name": "stdout",
     "output_type": "stream",
     "text": [
      "Start hashing 3 files.\n",
      "Finished hashing 3 files.\n",
      "Uploading files using Xet Storage..\n",
      "Uploading...: 100%|██████████████████████████| 307M/307M [00:08<00:00, 36.0MB/s]\n",
      "https://huggingface.co/animaaillc/godmodeai_wan_shoryukenv2/tree/main/epoch385\n"
     ]
    },
    {
     "name": "stderr",
     "output_type": "stream",
     "text": [
      " 80%|████████  | 77/96 [08:40<03:16, 10.33s/it]"
     ]
    },
    {
     "name": "stdout",
     "output_type": "stream",
     "text": [
      "Start hashing 3 files.\n",
      "Finished hashing 3 files.\n",
      "Uploading files using Xet Storage..\n",
      "Uploading...: 100%|██████████████████████████| 307M/307M [00:07<00:00, 39.3MB/s]\n",
      "https://huggingface.co/animaaillc/godmodeai_wan_shoryukenv2/tree/main/epoch390\n"
     ]
    },
    {
     "name": "stderr",
     "output_type": "stream",
     "text": [
      " 81%|████████▏ | 78/96 [08:50<03:04, 10.23s/it]"
     ]
    },
    {
     "name": "stdout",
     "output_type": "stream",
     "text": [
      "Start hashing 3 files.\n",
      "Finished hashing 3 files.\n",
      "Uploading files using Xet Storage..\n",
      "Uploading...: 100%|██████████████████████████| 307M/307M [00:07<00:00, 42.0MB/s]\n",
      "https://huggingface.co/animaaillc/godmodeai_wan_shoryukenv2/tree/main/epoch395\n"
     ]
    },
    {
     "name": "stderr",
     "output_type": "stream",
     "text": [
      " 82%|████████▏ | 79/96 [08:59<02:50, 10.01s/it]"
     ]
    },
    {
     "name": "stdout",
     "output_type": "stream",
     "text": [
      "Start hashing 3 files.\n",
      "Finished hashing 3 files.\n",
      "Uploading files using Xet Storage..\n",
      "Uploading...: 100%|██████████████████████████| 307M/307M [00:07<00:00, 39.0MB/s]\n",
      "https://huggingface.co/animaaillc/godmodeai_wan_shoryukenv2/tree/main/epoch400\n"
     ]
    },
    {
     "name": "stderr",
     "output_type": "stream",
     "text": [
      " 83%|████████▎ | 80/96 [09:10<02:41, 10.10s/it]"
     ]
    },
    {
     "name": "stdout",
     "output_type": "stream",
     "text": [
      "Start hashing 3 files.\n",
      "Finished hashing 3 files.\n",
      "Uploading files using Xet Storage..\n",
      "Uploading...: 100%|██████████████████████████| 307M/307M [00:08<00:00, 37.3MB/s]\n",
      "https://huggingface.co/animaaillc/godmodeai_wan_shoryukenv2/tree/main/epoch405\n"
     ]
    },
    {
     "name": "stderr",
     "output_type": "stream",
     "text": [
      " 84%|████████▍ | 81/96 [09:20<02:33, 10.25s/it]"
     ]
    },
    {
     "name": "stdout",
     "output_type": "stream",
     "text": [
      "Start hashing 3 files.\n",
      "Finished hashing 3 files.\n",
      "Uploading files using Xet Storage..\n",
      "Uploading...: 100%|██████████████████████████| 307M/307M [00:07<00:00, 38.8MB/s]\n",
      "https://huggingface.co/animaaillc/godmodeai_wan_shoryukenv2/tree/main/epoch410\n"
     ]
    },
    {
     "name": "stderr",
     "output_type": "stream",
     "text": [
      " 85%|████████▌ | 82/96 [09:30<02:22, 10.20s/it]"
     ]
    },
    {
     "name": "stdout",
     "output_type": "stream",
     "text": [
      "Start hashing 3 files.\n",
      "Finished hashing 3 files.\n",
      "Uploading files using Xet Storage..\n",
      "Uploading...: 100%|██████████████████████████| 307M/307M [00:07<00:00, 38.5MB/s]\n",
      "https://huggingface.co/animaaillc/godmodeai_wan_shoryukenv2/tree/main/epoch415\n"
     ]
    },
    {
     "name": "stderr",
     "output_type": "stream",
     "text": [
      " 86%|████████▋ | 83/96 [09:41<02:12, 10.18s/it]"
     ]
    },
    {
     "name": "stdout",
     "output_type": "stream",
     "text": [
      "Start hashing 3 files.\n",
      "Finished hashing 3 files.\n",
      "Uploading files using Xet Storage..\n",
      "Uploading...: 100%|██████████████████████████| 307M/307M [00:07<00:00, 40.4MB/s]\n",
      "https://huggingface.co/animaaillc/godmodeai_wan_shoryukenv2/tree/main/epoch420\n"
     ]
    },
    {
     "name": "stderr",
     "output_type": "stream",
     "text": [
      " 88%|████████▊ | 84/96 [09:50<02:00, 10.07s/it]"
     ]
    },
    {
     "name": "stdout",
     "output_type": "stream",
     "text": [
      "Start hashing 3 files.\n",
      "Finished hashing 3 files.\n",
      "Uploading files using Xet Storage..\n",
      "Uploading...: 100%|██████████████████████████| 307M/307M [00:07<00:00, 41.4MB/s]\n",
      "https://huggingface.co/animaaillc/godmodeai_wan_shoryukenv2/tree/main/epoch425\n"
     ]
    },
    {
     "name": "stderr",
     "output_type": "stream",
     "text": [
      " 89%|████████▊ | 85/96 [10:00<01:49,  9.99s/it]"
     ]
    },
    {
     "name": "stdout",
     "output_type": "stream",
     "text": [
      "Start hashing 3 files.\n",
      "Finished hashing 3 files.\n",
      "Uploading files using Xet Storage..\n",
      "Uploading...: 100%|██████████████████████████| 307M/307M [00:07<00:00, 39.6MB/s]\n",
      "https://huggingface.co/animaaillc/godmodeai_wan_shoryukenv2/tree/main/epoch430\n"
     ]
    },
    {
     "name": "stderr",
     "output_type": "stream",
     "text": [
      " 90%|████████▉ | 86/96 [10:10<01:39,  9.97s/it]"
     ]
    },
    {
     "name": "stdout",
     "output_type": "stream",
     "text": [
      "Start hashing 3 files.\n",
      "Finished hashing 3 files.\n",
      "Uploading files using Xet Storage..\n",
      "Uploading...: 100%|██████████████████████████| 307M/307M [00:07<00:00, 40.7MB/s]\n",
      "https://huggingface.co/animaaillc/godmodeai_wan_shoryukenv2/tree/main/epoch435\n"
     ]
    },
    {
     "name": "stderr",
     "output_type": "stream",
     "text": [
      " 91%|█████████ | 87/96 [10:20<01:29,  9.92s/it]"
     ]
    },
    {
     "name": "stdout",
     "output_type": "stream",
     "text": [
      "Start hashing 3 files.\n",
      "Finished hashing 3 files.\n",
      "Uploading files using Xet Storage..\n",
      "Uploading...: 100%|██████████████████████████| 307M/307M [00:08<00:00, 34.1MB/s]\n",
      "https://huggingface.co/animaaillc/godmodeai_wan_shoryukenv2/tree/main/epoch440\n"
     ]
    },
    {
     "name": "stderr",
     "output_type": "stream",
     "text": [
      " 92%|█████████▏| 88/96 [10:31<01:22, 10.35s/it]"
     ]
    },
    {
     "name": "stdout",
     "output_type": "stream",
     "text": [
      "Start hashing 3 files.\n",
      "Finished hashing 3 files.\n",
      "Uploading files using Xet Storage..\n",
      "Uploading...: 100%|██████████████████████████| 307M/307M [00:07<00:00, 39.1MB/s]\n",
      "https://huggingface.co/animaaillc/godmodeai_wan_shoryukenv2/tree/main/epoch445\n"
     ]
    },
    {
     "name": "stderr",
     "output_type": "stream",
     "text": [
      " 93%|█████████▎| 89/96 [10:42<01:12, 10.37s/it]"
     ]
    },
    {
     "name": "stdout",
     "output_type": "stream",
     "text": [
      "Start hashing 3 files.\n",
      "Finished hashing 3 files.\n",
      "Uploading files using Xet Storage..\n",
      "Uploading...: 100%|██████████████████████████| 307M/307M [00:08<00:00, 37.8MB/s]\n",
      "https://huggingface.co/animaaillc/godmodeai_wan_shoryukenv2/tree/main/epoch450\n"
     ]
    },
    {
     "name": "stderr",
     "output_type": "stream",
     "text": [
      " 94%|█████████▍| 90/96 [10:52<01:02, 10.40s/it]"
     ]
    },
    {
     "name": "stdout",
     "output_type": "stream",
     "text": [
      "Start hashing 3 files.\n",
      "Finished hashing 3 files.\n",
      "Uploading files using Xet Storage..\n",
      "Uploading...: 100%|██████████████████████████| 307M/307M [00:07<00:00, 42.4MB/s]\n",
      "https://huggingface.co/animaaillc/godmodeai_wan_shoryukenv2/tree/main/epoch455\n"
     ]
    },
    {
     "name": "stderr",
     "output_type": "stream",
     "text": [
      " 95%|█████████▍| 91/96 [11:02<00:50, 10.18s/it]"
     ]
    },
    {
     "name": "stdout",
     "output_type": "stream",
     "text": [
      "Start hashing 3 files.\n",
      "Finished hashing 3 files.\n",
      "Uploading files using Xet Storage..\n",
      "Uploading...: 100%|██████████████████████████| 307M/307M [00:07<00:00, 39.4MB/s]\n",
      "https://huggingface.co/animaaillc/godmodeai_wan_shoryukenv2/tree/main/epoch460\n"
     ]
    },
    {
     "name": "stderr",
     "output_type": "stream",
     "text": [
      " 96%|█████████▌| 92/96 [11:18<00:47, 11.91s/it]"
     ]
    },
    {
     "name": "stdout",
     "output_type": "stream",
     "text": [
      "Start hashing 3 files.\n",
      "Finished hashing 3 files.\n",
      "Uploading files using Xet Storage..\n",
      "Uploading...: 100%|██████████████████████████| 307M/307M [00:07<00:00, 41.3MB/s]\n",
      "https://huggingface.co/animaaillc/godmodeai_wan_shoryukenv2/tree/main/epoch465\n"
     ]
    },
    {
     "name": "stderr",
     "output_type": "stream",
     "text": [
      " 97%|█████████▋| 93/96 [11:28<00:34, 11.48s/it]"
     ]
    },
    {
     "name": "stdout",
     "output_type": "stream",
     "text": [
      "Start hashing 3 files.\n",
      "Finished hashing 3 files.\n",
      "Uploading files using Xet Storage..\n",
      "Uploading...: 100%|██████████████████████████| 307M/307M [00:07<00:00, 40.5MB/s]\n",
      "https://huggingface.co/animaaillc/godmodeai_wan_shoryukenv2/tree/main/epoch470\n"
     ]
    },
    {
     "name": "stderr",
     "output_type": "stream",
     "text": [
      " 98%|█████████▊| 94/96 [11:40<00:23, 11.62s/it]"
     ]
    },
    {
     "name": "stdout",
     "output_type": "stream",
     "text": [
      "Start hashing 3 files.\n",
      "Finished hashing 3 files.\n",
      "Uploading files using Xet Storage..\n",
      "Uploading...: 100%|██████████████████████████| 307M/307M [00:07<00:00, 39.7MB/s]\n",
      "https://huggingface.co/animaaillc/godmodeai_wan_shoryukenv2/tree/main/epoch475\n"
     ]
    },
    {
     "name": "stderr",
     "output_type": "stream",
     "text": [
      " 99%|█████████▉| 95/96 [11:52<00:11, 11.70s/it]"
     ]
    },
    {
     "name": "stdout",
     "output_type": "stream",
     "text": [
      "Start hashing 3 files.\n",
      "Finished hashing 3 files.\n",
      "Uploading files using Xet Storage..\n",
      "Uploading...: 100%|██████████████████████████| 307M/307M [00:07<00:00, 38.8MB/s]\n",
      "https://huggingface.co/animaaillc/godmodeai_wan_shoryukenv2/tree/main/epoch480\n"
     ]
    },
    {
     "name": "stderr",
     "output_type": "stream",
     "text": [
      "100%|██████████| 96/96 [12:04<00:00,  7.55s/it]\n"
     ]
    }
   ],
   "source": [
    "from glob import glob\n",
    "from tqdm import tqdm\n",
    "\n",
    "\n",
    "start_epoch = 150\n",
    "\n",
    "end_epoch = 480\n",
    "\n",
    "#step = 10\n",
    "\n",
    "\n",
    "for f in tqdm(glob(f\"{base_path}/epoch*\")):\n",
    "    #print(f)\n",
    "    #continue\n",
    "    num = f.split(\"/\")[-1].replace(\"epoch\",\"\")\n",
    "    num = int(num)\n",
    "    # print(num)\n",
    "    if num >= start_epoch and (end_epoch is None or num <= end_epoch):\n",
    "        !huggingface-cli upload animaaillc/{repoid}  {f} epoch{num}"
   ]
  },
  {
   "cell_type": "code",
   "execution_count": 43,
   "id": "5b8b424a-3b90-40d4-bf29-e183290a9939",
   "metadata": {
    "scrolled": true
   },
   "outputs": [
    {
     "name": "stderr",
     "output_type": "stream",
     "text": [
      "  0%|          | 0/90 [00:00<?, ?it/s]"
     ]
    },
    {
     "name": "stdout",
     "output_type": "stream",
     "text": [
      "Start hashing 3 files.\n",
      "Finished hashing 3 files.\n",
      "Uploading files using Xet Storage..\n",
      "Uploading...: 100%|██████████████████████████| 307M/307M [00:07<00:00, 42.0MB/s]\n",
      "https://huggingface.co/animaaillc/godmodeai_wan_punch/tree/main/epoch365\n"
     ]
    },
    {
     "name": "stderr",
     "output_type": "stream",
     "text": [
      " 81%|████████  | 73/90 [00:09<00:02,  7.80it/s]"
     ]
    },
    {
     "name": "stdout",
     "output_type": "stream",
     "text": [
      "Start hashing 3 files.\n",
      "Finished hashing 3 files.\n",
      "Uploading files using Xet Storage..\n",
      "Uploading...: 100%|██████████████████████████| 307M/307M [00:07<00:00, 42.0MB/s]\n",
      "https://huggingface.co/animaaillc/godmodeai_wan_punch/tree/main/epoch370\n"
     ]
    },
    {
     "name": "stderr",
     "output_type": "stream",
     "text": [
      "100%|██████████| 90/90 [00:18<00:00,  4.84it/s]\n"
     ]
    }
   ],
   "source": [
    "from glob import glob\n",
    "from tqdm import tqdm\n",
    "\n",
    "\n",
    "start_epoch = 365\n",
    "\n",
    "end_epoch = 370\n",
    "\n",
    "#step = 10\n",
    "\n",
    "\n",
    "for f in tqdm(glob(f\"{base_path}/epoch*\")):\n",
    "    #print(f)\n",
    "    #continue\n",
    "    num = f.split(\"/\")[-1].replace(\"epoch\",\"\")\n",
    "    num = int(num)\n",
    "    # print(num)\n",
    "    if num >= start_epoch and (end_epoch is None or num <= end_epoch):\n",
    "        !huggingface-cli upload animaaillc/{repoid}  {f} epoch{num}"
   ]
  }
 ],
 "metadata": {
  "kernelspec": {
   "display_name": "Python 3 (ipykernel)",
   "language": "python",
   "name": "python3"
  },
  "language_info": {
   "codemirror_mode": {
    "name": "ipython",
    "version": 3
   },
   "file_extension": ".py",
   "mimetype": "text/x-python",
   "name": "python",
   "nbconvert_exporter": "python",
   "pygments_lexer": "ipython3",
   "version": "3.11.9"
  }
 },
 "nbformat": 4,
 "nbformat_minor": 5
}
