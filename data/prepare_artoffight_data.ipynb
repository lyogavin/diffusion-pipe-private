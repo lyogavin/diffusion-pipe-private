{
 "cells": [
  {
   "cell_type": "markdown",
   "id": "817529a7-2422-4396-9e0f-deb2ad0d73a0",
   "metadata": {},
   "source": [
    "# prepare run animation\n",
    "\n",
    "## drawing on 2s (https://www.reddit.com/r/animation/comments/1chhcpw/12_fps_or_24_fps_for_practice/)\n",
    "## start and end with idle first frame for easier I2V\n",
    "## go with 16 FPS to be consistent with Wan"
   ]
  },
  {
   "cell_type": "code",
   "execution_count": null,
   "id": "4d4b08c9-465c-4586-8c10-a3a743fb5e2f",
   "metadata": {},
   "outputs": [],
   "source": []
  }
 ],
 "metadata": {
  "kernelspec": {
   "display_name": "Python 3 (ipykernel)",
   "language": "python",
   "name": "python3"
  },
  "language_info": {
   "codemirror_mode": {
    "name": "ipython",
    "version": 3
   },
   "file_extension": ".py",
   "mimetype": "text/x-python",
   "name": "python",
   "nbconvert_exporter": "python",
   "pygments_lexer": "ipython3",
   "version": "3.11.9"
  }
 },
 "nbformat": 4,
 "nbformat_minor": 5
}
